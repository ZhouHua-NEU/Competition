{
 "cells": [
  {
   "cell_type": "code",
   "execution_count": 1,
   "id": "5e4192c4-96f9-43da-886b-412a0ef05df9",
   "metadata": {},
   "outputs": [],
   "source": [
    "    # 数据处理\n",
    "import pandas as pd\n",
    "import numpy as np\n",
    "np.set_printoptions(precision=3)\n",
    "     \n",
    "    # 绘图\n",
    "import seaborn as sns\n",
    "import matplotlib.pyplot as plt"
   ]
  },
  {
   "cell_type": "code",
   "execution_count": 2,
   "id": "3f51b980-1a94-4c27-b334-04b22808579e",
   "metadata": {},
   "outputs": [],
   "source": [
    "df1=pd.read_excel('data.xlsx',index_col='时间')"
   ]
  },
  {
   "cell_type": "code",
   "execution_count": 3,
   "id": "91ba3d53-a440-4c22-bfb7-3dc9973d1a1e",
   "metadata": {},
   "outputs": [
    {
     "data": {
      "text/plain": [
       "array([[ 1.228,  0.73 ,  0.5  ,  1.442,  1.727,  1.731,  1.661],\n",
       "       [ 0.389,  1.095,  0.959, -0.933, -0.453, -0.54 , -0.518],\n",
       "       [-0.09 , -0.365,  0.21 ,  0.424, -0.622, -0.573, -0.173],\n",
       "       [-1.527, -1.461, -1.669, -0.933, -0.652, -0.618, -0.97 ]])"
      ]
     },
     "execution_count": 3,
     "metadata": {},
     "output_type": "execute_result"
    }
   ],
   "source": [
    "from sklearn import preprocessing\n",
    "df = preprocessing.scale(df1)\n",
    "df"
   ]
  },
  {
   "cell_type": "code",
   "execution_count": 4,
   "id": "0d39c98b-76e0-4094-aefb-765aadd81139",
   "metadata": {},
   "outputs": [
    {
     "data": {
      "text/plain": [
       "array([[1.   , 0.857, 0.826, 1.   , 1.   , 1.   , 1.   ],\n",
       "       [0.696, 1.   , 1.   , 0.   , 0.084, 0.033, 0.172],\n",
       "       [0.522, 0.429, 0.715, 0.571, 0.013, 0.019, 0.303],\n",
       "       [0.   , 0.   , 0.   , 0.   , 0.   , 0.   , 0.   ]])"
      ]
     },
     "execution_count": 4,
     "metadata": {},
     "output_type": "execute_result"
    }
   ],
   "source": [
    "df=(df-df.min(axis=0))/(df.max(axis=0)-df.min(axis=0))\n",
    "df"
   ]
  },
  {
   "cell_type": "code",
   "execution_count": 53,
   "id": "404df50a-0cbe-4004-8a4b-66bcc2865de4",
   "metadata": {},
   "outputs": [
    {
     "data": {
      "text/plain": [
       "array([[0.082, 0.07 , 0.067, 0.082, 0.082, 0.082, 0.082],\n",
       "       [0.057, 0.082, 0.082, 0.   , 0.007, 0.003, 0.014],\n",
       "       [0.043, 0.035, 0.058, 0.047, 0.001, 0.002, 0.025],\n",
       "       [0.   , 0.   , 0.   , 0.   , 0.   , 0.   , 0.   ]])"
      ]
     },
     "execution_count": 53,
     "metadata": {},
     "output_type": "execute_result"
    }
   ],
   "source": [
    "p=df/df.sum()\n",
    "p"
   ]
  },
  {
   "cell_type": "code",
   "execution_count": 70,
   "id": "8cdfaf5f-9f59-4d10-b26c-7d135e12ce76",
   "metadata": {},
   "outputs": [
    {
     "name": "stderr",
     "output_type": "stream",
     "text": [
      "E:\\APP\\Miniconda3\\lib\\site-packages\\ipykernel_launcher.py:1: RuntimeWarning: divide by zero encountered in log\n",
      "  \"\"\"Entry point for launching an IPython kernel.\n",
      "E:\\APP\\Miniconda3\\lib\\site-packages\\ipykernel_launcher.py:1: RuntimeWarning: invalid value encountered in multiply\n",
      "  \"\"\"Entry point for launching an IPython kernel.\n"
     ]
    },
    {
     "data": {
      "text/plain": [
       "array([[-0.205, -0.186, -0.182, -0.205, -0.205, -0.205, -0.205],\n",
       "       [-0.163, -0.205, -0.205,    nan, -0.034, -0.016, -0.06 ],\n",
       "       [-0.135, -0.117, -0.166, -0.143, -0.007, -0.01 , -0.092],\n",
       "       [   nan,    nan,    nan,    nan,    nan,    nan,    nan]])"
      ]
     },
     "execution_count": 70,
     "metadata": {},
     "output_type": "execute_result"
    }
   ],
   "source": [
    "e=p*np.log(p)\n",
    "e"
   ]
  },
  {
   "cell_type": "code",
   "execution_count": 73,
   "id": "cabc4374-75d9-4898-b35e-fde4860a7d9c",
   "metadata": {},
   "outputs": [
    {
     "data": {
      "text/plain": [
       "array([[-0.205, -0.186, -0.182, -0.205, -0.205, -0.205, -0.205],\n",
       "       [-0.163, -0.205, -0.205,  0.   , -0.034, -0.016, -0.06 ],\n",
       "       [-0.135, -0.117, -0.166, -0.143, -0.007, -0.01 , -0.092],\n",
       "       [ 0.   ,  0.   ,  0.   ,  0.   ,  0.   ,  0.   ,  0.   ]])"
      ]
     },
     "execution_count": 73,
     "metadata": {},
     "output_type": "execute_result"
    }
   ],
   "source": [
    "arr=e\n",
    "for row_idx in range(arr.shape[0]):\n",
    "    for col_idx in range(arr.shape[1]):\n",
    "        if np.isnan(arr[row_idx][col_idx]):\n",
    "            arr[row_idx][col_idx] =0\n",
    "e=arr\n",
    "e"
   ]
  },
  {
   "cell_type": "code",
   "execution_count": 77,
   "id": "30ec155b-4a08-47a1-924b-68b0b5b3d4c9",
   "metadata": {},
   "outputs": [
    {
     "data": {
      "text/plain": [
       "array([0.258, 0.261, 0.284, 0.179, 0.126, 0.119, 0.183])"
      ]
     },
     "execution_count": 77,
     "metadata": {},
     "output_type": "execute_result"
    }
   ],
   "source": [
    "e=e.sum(axis=0)/(-np.log(7))\n",
    "e"
   ]
  },
  {
   "cell_type": "code",
   "execution_count": 79,
   "id": "314e6caf-6a71-4b2c-a3d8-9afe20592160",
   "metadata": {},
   "outputs": [
    {
     "data": {
      "text/plain": [
       "array([0.742, 0.739, 0.716, 0.821, 0.874, 0.881, 0.817])"
      ]
     },
     "execution_count": 79,
     "metadata": {},
     "output_type": "execute_result"
    }
   ],
   "source": [
    "d=1-e\n",
    "d"
   ]
  },
  {
   "cell_type": "code",
   "execution_count": 81,
   "id": "5b5674e0-6c01-4781-9399-a3817616df4b",
   "metadata": {},
   "outputs": [
    {
     "data": {
      "text/plain": [
       "array([0.133, 0.132, 0.128, 0.147, 0.156, 0.158, 0.146])"
      ]
     },
     "execution_count": 81,
     "metadata": {},
     "output_type": "execute_result"
    }
   ],
   "source": [
    "w=d/d.sum()\n",
    "w"
   ]
  },
  {
   "cell_type": "code",
   "execution_count": null,
   "id": "c720200e-cde2-4bf5-acff-c6fe15873a39",
   "metadata": {},
   "outputs": [],
   "source": []
  },
  {
   "cell_type": "code",
   "execution_count": null,
   "id": "b46911ef-7625-49f2-80e9-fce983e81348",
   "metadata": {},
   "outputs": [],
   "source": []
  },
  {
   "cell_type": "code",
   "execution_count": null,
   "id": "4a962ec3-41e4-487d-a0b2-76f0461ef639",
   "metadata": {},
   "outputs": [],
   "source": []
  },
  {
   "cell_type": "code",
   "execution_count": 20,
   "id": "b7923770-7f81-48b6-ad01-f9f0458996cf",
   "metadata": {},
   "outputs": [
    {
     "name": "stdout",
     "output_type": "stream",
     "text": [
      "算数平均法求权重的结果为：\n",
      "[0.333 0.069 0.121 0.177 0.185 0.07  0.045]\n",
      "特征值法求权重的结果为：\n",
      "[0.336+0.j 0.07 +0.j 0.119+0.j 0.176+0.j 0.186+0.j 0.068+0.j 0.045+0.j]\n",
      "———————————————————————————————\n",
      "CR= (0.05329455945231815+0j) ，小于0.1，通过一致性检验\n",
      "(7.434883605130916+0j)\n"
     ]
    }
   ],
   "source": [
    "import numpy as np\n",
    "\n",
    "def ConsisTest(X):\n",
    "    X = np.array(X)\n",
    "    sum_X = X.sum(axis=0)\n",
    "    (n, n) = X.shape\n",
    "    sum_X = np.tile(sum_X, (n, 1))\n",
    "    stand_X = X / sum_X\n",
    "\n",
    "    sum_row = stand_X.sum(axis=1)\n",
    "\n",
    "    print(\"算数平均法求权重的结果为：\")\n",
    "    print(sum_row / n)\n",
    "\n",
    "    V, E = np.linalg.eig(X)\n",
    "    max_value = np.max(V)\n",
    "    max_v_index = np.argmax(V)\n",
    "    max_eiv = E[:, max_v_index]\n",
    "    stand_eiv = max_eiv / max_eiv.sum()\n",
    "    print(\"特征值法求权重的结果为：\")\n",
    "    print(stand_eiv)\n",
    "    print(\"———————————————————————————————\")\n",
    "\n",
    "    CI = (max_value - n) / (n - 1)\n",
    "    RI = np.array([15, 0, 0, 0.52, 0.89, 1.12, 1.26, 1.36, 1.41, 1.46, 1.49, 1.52, 1.54, 1.56, 1.58, 1.59])\n",
    "    CR = CI / RI[n]\n",
    "    if CR < 0.1:\n",
    "        print(\"CR=\", CR, \"，小于0.1，通过一致性检验\")\n",
    "        print(max_value)\n",
    "    else:\n",
    "        print(\"CR=\", CR, \"，大于等于0.1，没有通过一致性检验，请修改判断矩阵\")\n",
    "    return None\n",
    "\n",
    "X = [[1, 5, 5, 2, 2, 4, 5],\n",
    "     [1/5, 1, 1, 1/4, 1/5, 2, 1],\n",
    "     [1/5, 1, 1, 1, 1, 2, 3],\n",
    "     [1/2, 4, 1, 1, 1, 3, 4],\n",
    "     [1/2, 5, 1, 1, 1, 3, 4],\n",
    "     [1/4, 1/2, 1/2, 1/3, 1/3, 1, 3],\n",
    "     [1/5, 1, 1/3, 1/4, 1/4, 1/3,1]]\n",
    "ConsisTest(X)"
   ]
  },
  {
   "cell_type": "code",
   "execution_count": null,
   "id": "e12427fd-324e-453c-9705-9b69ec2ec43a",
   "metadata": {},
   "outputs": [],
   "source": []
  }
 ],
 "metadata": {
  "kernelspec": {
   "display_name": "Python 3 (ipykernel)",
   "language": "python",
   "name": "python3"
  },
  "language_info": {
   "codemirror_mode": {
    "name": "ipython",
    "version": 3
   },
   "file_extension": ".py",
   "mimetype": "text/x-python",
   "name": "python",
   "nbconvert_exporter": "python",
   "pygments_lexer": "ipython3",
   "version": "3.7.9"
  }
 },
 "nbformat": 4,
 "nbformat_minor": 5
}
