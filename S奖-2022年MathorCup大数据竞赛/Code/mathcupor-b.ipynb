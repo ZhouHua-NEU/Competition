{
 "cells": [
  {
   "cell_type": "markdown",
   "id": "ae3dcfbb",
   "metadata": {
    "papermill": {
     "duration": 0.009038,
     "end_time": "2023-01-17T14:53:32.645731",
     "exception": false,
     "start_time": "2023-01-17T14:53:32.636693",
     "status": "completed"
    },
    "tags": []
   },
   "source": [
    "# 导入包"
   ]
  },
  {
   "cell_type": "code",
   "execution_count": 1,
   "id": "77e977c4",
   "metadata": {
    "papermill": {
     "duration": 1.25684,
     "end_time": "2023-01-17T14:53:33.910515",
     "exception": false,
     "start_time": "2023-01-17T14:53:32.653675",
     "status": "completed"
    },
    "tags": []
   },
   "outputs": [],
   "source": [
    "from IPython.core.interactiveshell import InteractiveShell\n",
    "InteractiveShell.ast_node_interactivity = 'all'       #显示多行\n",
    "from sklearn.model_selection import GridSearchCV\n",
    "\n",
    "import matplotlib.pyplot as plt\n",
    "plt.rcParams['font.family'] = 'SimHei'\n",
    "plt.rcParams['axes.unicode_minus'] = False\n",
    "%matplotlib inline     \n",
    "import numpy as np\n",
    "import pandas as pd\n",
    "pd.set_option('display.max_columns', None) # 显示完整的列\n",
    "pd.set_option('display.max_rows', None) # 显示完整的行\n",
    "pd.set_option('display.expand_frame_repr', False) # 设置不折叠数据\n",
    "pd.set_option('display.max_colwidth', 100)\n",
    "from sklearn.preprocessing import LabelEncoder\n",
    "from sklearn.model_selection import train_test_split\n",
    "from sklearn import tree #导入需要的模块\n",
    "\n",
    "from imblearn.over_sampling import RandomOverSampler\n",
    "\n",
    "from sklearn.metrics import mean_squared_error\n",
    "import math\n",
    "\n",
    "def RMSE(model,x,y):\n",
    "    return math.sqrt(mean_squared_error(y, model.predict(x)))\n",
    "import seaborn as sns\n",
    "\n",
    "import warnings\n",
    "warnings.filterwarnings(\"ignore\")\n",
    "\n",
    "from xgboost.sklearn import XGBClassifier as XGB\n",
    "from sklearn.linear_model import LogisticRegression as LR\n",
    "from sklearn.svm import SVC\n",
    "from sklearn.svm import LinearSVC as LSVC            \n",
    "from sklearn.ensemble import RandomForestClassifier as RFC\n",
    "from sklearn.neighbors import KNeighborsClassifier  as KNN\n",
    "from sklearn.naive_bayes import GaussianNB  as GNB\n",
    "from sklearn.linear_model import Perceptron  as P\n",
    "from sklearn.linear_model import SGDClassifier as SGD\n",
    "from sklearn.tree import DecisionTreeClassifier  as DTC\n",
    "from sklearn.ensemble import GradientBoostingClassifier as GBDT\n",
    "from sklearn.ensemble import  AdaBoostClassifier as ABC\n",
    "from sklearn.neural_network import MLPClassifier as MLP"
   ]
  },
  {
   "cell_type": "markdown",
   "id": "3e0ae9dd",
   "metadata": {
    "papermill": {
     "duration": 0.007819,
     "end_time": "2023-01-17T14:53:33.926197",
     "exception": false,
     "start_time": "2023-01-17T14:53:33.918378",
     "status": "completed"
    },
    "tags": []
   },
   "source": [
    "# 导入数据"
   ]
  },
  {
   "cell_type": "code",
   "execution_count": 2,
   "id": "66a36d56",
   "metadata": {
    "papermill": {
     "duration": 23.942015,
     "end_time": "2023-01-17T14:53:57.876169",
     "exception": false,
     "start_time": "2023-01-17T14:53:33.934154",
     "status": "completed"
    },
    "tags": []
   },
   "outputs": [],
   "source": [
    "train_voice=pd.read_excel('附件1语音业务用户满意度数据.xlsx', nrows=20)\n",
    "train_network=pd.read_excel('附件2上网业务用户满意度数据.xlsx', nrows=20)\n",
    "# test_voice=pd.read_excel('附件3语音业务用户满意度预测数据.xlsx')\n",
    "# test_network=pd.read_excel('附件4上网业务用户满意度预测数据.xlsx')\n",
    "\n",
    "# submission_voice = pd.read_excel('初赛赛题 2022年MathorCup大数据竞赛/2022年MathorCup大数据竞赛-赛道B初赛/result.xlsx',sheet_name='语音')\n",
    "# submission_network = pd.read_excel('初赛赛题 2022年MathorCup大数据竞赛/2022年MathorCup大数据竞赛-赛道B初赛/result.xlsx',sheet_name='上网')\n",
    "\n",
    "# columns_meaning_voice=pd.read_excel('初赛赛题 2022年MathorCup大数据竞赛/2022年MathorCup大数据竞赛-赛道B初赛/附件5附件1、2、3、4的字段说明.xlsx',sheet_name='语音打分数据字段说明')\n",
    "# columns_meaning_network=pd.read_excel('初赛赛题 2022年MathorCup大数据竞赛/2022年MathorCup大数据竞赛-赛道B初赛/附件5附件1、2、3、4的字段说明.xlsx',sheet_name='上网打分数据字段说明')\n",
    "\n",
    "# columns_meaning_voice=columns_meaning_voice[:50]\n",
    "# columns_meaning_network=columns_meaning_network[:120]\n",
    "\n",
    "columns_voice_y = train_voice.columns[1:5]\n",
    "columns_voice_x = train_voice.columns[5:]\n",
    "\n",
    "columns_network_y = train_network.columns[1:5]\n",
    "columns_network_x = train_network.columns[5:]"
   ]
  },
  {
   "cell_type": "markdown",
   "id": "65133fd7",
   "metadata": {
    "papermill": {
     "duration": 0.007455,
     "end_time": "2023-01-17T14:53:57.892856",
     "exception": false,
     "start_time": "2023-01-17T14:53:57.885401",
     "status": "completed"
    },
    "tags": []
   },
   "source": [
    "# EDA"
   ]
  },
  {
   "cell_type": "code",
   "execution_count": 3,
   "id": "ed46cd85",
   "metadata": {
    "papermill": {
     "duration": 0.026432,
     "end_time": "2023-01-17T14:53:57.927781",
     "exception": false,
     "start_time": "2023-01-17T14:53:57.901349",
     "status": "completed"
    },
    "tags": []
   },
   "outputs": [],
   "source": [
    "# train_voice.shape,train_network.shape,test_voice.shape,test_network.shape,submission_voice.shape,submission_network.shape\n",
    "# columns_meaning_voice.shape,columns_meaning_network.shape"
   ]
  },
  {
   "cell_type": "markdown",
   "id": "2671ec40",
   "metadata": {
    "papermill": {
     "duration": 0.008056,
     "end_time": "2023-01-17T14:53:57.943702",
     "exception": false,
     "start_time": "2023-01-17T14:53:57.935646",
     "status": "completed"
    },
    "tags": []
   },
   "source": [
    "# 数据预处理"
   ]
  },
  {
   "cell_type": "code",
   "execution_count": 4,
   "id": "7d2fe2d8",
   "metadata": {
    "papermill": {
     "duration": 0.923497,
     "end_time": "2023-01-17T14:53:58.875081",
     "exception": false,
     "start_time": "2023-01-17T14:53:57.951584",
     "status": "completed"
    },
    "tags": []
   },
   "outputs": [],
   "source": [
    "train_voice['是否遇到过网络问题']=train_voice['是否遇到过网络问题'].map({2:0,1:1})\n",
    "\n",
    "for i in range(1,8):\n",
    "    train_voice[columns_voice_x[i]]=train_voice[columns_voice_x[i]].map({-1:0,i:1})\n",
    "\n",
    "train_voice[columns_voice_x[8]]=train_voice[columns_voice_x[8]].map({-1:0,98:1})\n",
    "    \n",
    "for i in range(1,7):\n",
    "    train_voice[columns_voice_x[i+9]]=train_voice[columns_voice_x[i+9]].map({-1:0,i:1})\n",
    "    \n",
    "train_voice[columns_voice_x[16]]=train_voice[columns_voice_x[16]].map({-1:0,98:1})\n",
    "\n",
    "for i in range(18,25):\n",
    "    train_voice[columns_voice_x[i]]=pd.cut(train_voice[columns_voice_x[i]],[-1,0.5,1000000],labels=[0,1])\n",
    "                \n",
    "train_voice[columns_voice_x[25]]=train_voice[columns_voice_x[25]].map({'4G':0,'5G':1})\n",
    "                \n",
    "train_voice[columns_voice_x[26]]=train_voice[columns_voice_x[26]].map({'VOLTE':1, 'EPSFB':2, 'CSFB':3, 'VONR':4, 'GSM':5, 'VoLTE':1})\n",
    "                \n",
    "train_voice[columns_voice_x[27]]=train_voice[columns_voice_x[27]].map({'是':1})\n",
    "train_voice[columns_voice_x[28]]=train_voice[columns_voice_x[28]].map({'是':1})\n",
    "            \n",
    "train_voice[columns_voice_x[29]]=pd.cut(train_voice[columns_voice_x[29]],[-1,0.5,1000000],labels=[0,1])\n",
    "train_voice[columns_voice_x[30]]=pd.cut(train_voice[columns_voice_x[30]],[-1,0.5,1000000],labels=[0,1])\n",
    "            \n",
    "train_voice[columns_voice_x[31]]=train_voice[columns_voice_x[31]].map({'是':0,'否':1})\n",
    "\n",
    "train_voice[columns_voice_x[32]]=pd.cut(train_voice[columns_voice_x[32]],[-1,0.5,1000000],labels=[0,1])\n",
    "train_voice[columns_voice_x[33]]=pd.cut(train_voice[columns_voice_x[33]],[-1,0.5,1000000],labels=[0,1])\n",
    "train_voice[columns_voice_x[35]]=pd.cut(train_voice[columns_voice_x[35]],[-1,0.5,1000000],labels=[0,1])\n",
    "            \n",
    "train_voice[columns_voice_x[36]]=train_voice[columns_voice_x[36]].map({'苹果':1,'华为':2,'小米科技':3,'步步高':4,'欧珀':5,'三星':6,'realme':6,0:6,\n",
    "                                    '万普拉斯':6,'锤子':6,'万普':6,'联通':6,\n",
    "                                    '中邮通信':6,'其他':6,'中国移动':6,'中兴':6,\n",
    "                                    '魅族':6,'黑鲨':6,'联想':6,'智媄互联':6,\n",
    "                                    '海信':6,'摩托罗拉':6,'乐视移动':6,'天宇朗通':6,\n",
    "                                    '奇酷':6,'上海中兴易联通讯股份有限公司':6,'诺基亚':6})\n",
    "\n",
    "train_voice[columns_voice_x[40]]=pd.cut(train_voice[columns_voice_x[40]],[-1,0.5,1000000],labels=[0,1])\n",
    "train_voice[columns_voice_x[42]]=pd.cut(train_voice[columns_voice_x[42]],[-1,0.5,1000000],labels=[0,1])\n",
    "train_voice[columns_voice_x[44]]=pd.cut(train_voice[columns_voice_x[44]],[-1,0.5,1000000],labels=[0,1])\n",
    "\n",
    "train_voice[columns_voice_x[45]]=train_voice[columns_voice_x[45]].map({'否':0,'是':1})\n",
    "train_voice[columns_voice_x[46]]=train_voice[columns_voice_x[46]].map({'否':0,'是':1})\n",
    "train_voice[columns_voice_x[47]]=train_voice[columns_voice_x[47]].map({'三星':1, '银卡':2, '二星':3, '一星':4, '金卡':5, '白金卡':6, '未评级':7, '准星':8, '钻石卡':9})\n",
    "            \n",
    "train_voice[columns_voice_x[48]]=pd.cut(train_voice[columns_voice_x[48]],[-1,0.5,1000000],labels=[0,1])\n",
    "train_voice[columns_voice_x[49]]=pd.cut(train_voice[columns_voice_x[49]],[-1,0.5,1000000],labels=[0,1]) \n",
    "\n",
    "for i in columns_voice_x:\n",
    "    train_voice[columns_voice_x]=train_voice[columns_voice_x].fillna(0)\n",
    "    \n",
    "train_voice=train_voice.drop(columns=['用户id','用户描述','用户描述.1','终端品牌类型'],axis=1)"
   ]
  },
  {
   "cell_type": "code",
   "execution_count": 5,
   "id": "9dedf8b7",
   "metadata": {
    "papermill": {
     "duration": 1.137862,
     "end_time": "2023-01-17T14:54:00.020848",
     "exception": false,
     "start_time": "2023-01-17T14:53:58.882986",
     "status": "completed"
    },
    "tags": []
   },
   "outputs": [
    {
     "data": {
      "text/html": [
       "<style type=\"text/css\">\n",
       "#T_1424f_row0_col0, #T_1424f_row0_col1, #T_1424f_row0_col2, #T_1424f_row0_col3, #T_1424f_row1_col0, #T_1424f_row1_col1, #T_1424f_row1_col2, #T_1424f_row1_col3, #T_1424f_row2_col0, #T_1424f_row2_col1, #T_1424f_row2_col2, #T_1424f_row2_col3, #T_1424f_row3_col0, #T_1424f_row3_col3, #T_1424f_row4_col0, #T_1424f_row4_col1, #T_1424f_row4_col2, #T_1424f_row4_col3, #T_1424f_row5_col0, #T_1424f_row5_col1, #T_1424f_row5_col2, #T_1424f_row5_col3, #T_1424f_row6_col0, #T_1424f_row6_col1, #T_1424f_row6_col2, #T_1424f_row6_col3, #T_1424f_row7_col0, #T_1424f_row7_col1, #T_1424f_row7_col2, #T_1424f_row7_col3, #T_1424f_row9_col0, #T_1424f_row9_col1, #T_1424f_row9_col2, #T_1424f_row9_col3, #T_1424f_row10_col0, #T_1424f_row10_col1, #T_1424f_row10_col2, #T_1424f_row10_col3, #T_1424f_row11_col0, #T_1424f_row11_col1, #T_1424f_row11_col2, #T_1424f_row11_col3, #T_1424f_row12_col0, #T_1424f_row12_col1, #T_1424f_row12_col2, #T_1424f_row12_col3, #T_1424f_row14_col0, #T_1424f_row14_col1, #T_1424f_row14_col2, #T_1424f_row14_col3, #T_1424f_row16_col0, #T_1424f_row16_col1, #T_1424f_row16_col2, #T_1424f_row16_col3, #T_1424f_row19_col0, #T_1424f_row19_col1, #T_1424f_row19_col2, #T_1424f_row21_col0, #T_1424f_row21_col1, #T_1424f_row21_col2, #T_1424f_row21_col3, #T_1424f_row22_col0, #T_1424f_row22_col1, #T_1424f_row22_col2, #T_1424f_row22_col3, #T_1424f_row23_col0, #T_1424f_row23_col1, #T_1424f_row23_col2, #T_1424f_row23_col3, #T_1424f_row24_col0, #T_1424f_row24_col1, #T_1424f_row24_col2, #T_1424f_row24_col3, #T_1424f_row25_col0, #T_1424f_row25_col1, #T_1424f_row25_col2, #T_1424f_row25_col3, #T_1424f_row26_col0, #T_1424f_row26_col1, #T_1424f_row26_col2, #T_1424f_row26_col3, #T_1424f_row27_col0, #T_1424f_row27_col1, #T_1424f_row27_col2, #T_1424f_row27_col3, #T_1424f_row28_col3 {\n",
       "  color: #FF0000;\n",
       "}\n",
       "#T_1424f_row3_col1, #T_1424f_row3_col2, #T_1424f_row8_col0, #T_1424f_row8_col1, #T_1424f_row8_col2, #T_1424f_row8_col3, #T_1424f_row13_col0, #T_1424f_row13_col1, #T_1424f_row13_col2, #T_1424f_row13_col3, #T_1424f_row15_col0, #T_1424f_row15_col1, #T_1424f_row15_col2, #T_1424f_row15_col3, #T_1424f_row17_col0, #T_1424f_row17_col1, #T_1424f_row17_col2, #T_1424f_row17_col3, #T_1424f_row18_col0, #T_1424f_row18_col1, #T_1424f_row18_col2, #T_1424f_row18_col3, #T_1424f_row19_col3, #T_1424f_row20_col0, #T_1424f_row20_col1, #T_1424f_row20_col2, #T_1424f_row20_col3, #T_1424f_row28_col0, #T_1424f_row28_col1, #T_1424f_row28_col2, #T_1424f_row29_col0, #T_1424f_row29_col1, #T_1424f_row29_col2, #T_1424f_row29_col3 {\n",
       "  color: #008000;\n",
       "}\n",
       "</style>\n",
       "<table id=\"T_1424f\">\n",
       "  <thead>\n",
       "    <tr>\n",
       "      <th class=\"blank level0\" >&nbsp;</th>\n",
       "      <th id=\"T_1424f_level0_col0\" class=\"col_heading level0 col0\" >语音通话整体满意度</th>\n",
       "      <th id=\"T_1424f_level0_col1\" class=\"col_heading level0 col1\" >网络覆盖与信号强度</th>\n",
       "      <th id=\"T_1424f_level0_col2\" class=\"col_heading level0 col2\" >语音通话清晰度</th>\n",
       "      <th id=\"T_1424f_level0_col3\" class=\"col_heading level0 col3\" >语音通话稳定性</th>\n",
       "    </tr>\n",
       "  </thead>\n",
       "  <tbody>\n",
       "    <tr>\n",
       "      <th id=\"T_1424f_level0_row0\" class=\"row_heading level0 row0\" >是否遇到过网络问题</th>\n",
       "      <td id=\"T_1424f_row0_col0\" class=\"data row0 col0\" >-0.529316</td>\n",
       "      <td id=\"T_1424f_row0_col1\" class=\"data row0 col1\" >-0.663497</td>\n",
       "      <td id=\"T_1424f_row0_col2\" class=\"data row0 col2\" >-0.661267</td>\n",
       "      <td id=\"T_1424f_row0_col3\" class=\"data row0 col3\" >-0.709575</td>\n",
       "    </tr>\n",
       "    <tr>\n",
       "      <th id=\"T_1424f_level0_row1\" class=\"row_heading level0 row1\" >居民小区</th>\n",
       "      <td id=\"T_1424f_row1_col0\" class=\"data row1 col0\" >-0.463151</td>\n",
       "      <td id=\"T_1424f_row1_col1\" class=\"data row1 col1\" >-0.249889</td>\n",
       "      <td id=\"T_1424f_row1_col2\" class=\"data row1 col2\" >-0.283400</td>\n",
       "      <td id=\"T_1424f_row1_col3\" class=\"data row1 col3\" >-0.439261</td>\n",
       "    </tr>\n",
       "    <tr>\n",
       "      <th id=\"T_1424f_level0_row2\" class=\"row_heading level0 row2\" >办公室</th>\n",
       "      <td id=\"T_1424f_row2_col0\" class=\"data row2 col0\" >-0.354169</td>\n",
       "      <td id=\"T_1424f_row2_col1\" class=\"data row2 col1\" >-0.448435</td>\n",
       "      <td id=\"T_1424f_row2_col2\" class=\"data row2 col2\" >-0.527375</td>\n",
       "      <td id=\"T_1424f_row2_col3\" class=\"data row2 col3\" >-0.545119</td>\n",
       "    </tr>\n",
       "    <tr>\n",
       "      <th id=\"T_1424f_level0_row3\" class=\"row_heading level0 row3\" >高校</th>\n",
       "      <td id=\"T_1424f_row3_col0\" class=\"data row3 col0\" >-0.103429</td>\n",
       "      <td id=\"T_1424f_row3_col1\" class=\"data row3 col1\" >0.018858</td>\n",
       "      <td id=\"T_1424f_row3_col2\" class=\"data row3 col2\" >0.000000</td>\n",
       "      <td id=\"T_1424f_row3_col3\" class=\"data row3 col3\" >-0.166382</td>\n",
       "    </tr>\n",
       "    <tr>\n",
       "      <th id=\"T_1424f_level0_row4\" class=\"row_heading level0 row4\" >商业街</th>\n",
       "      <td id=\"T_1424f_row4_col0\" class=\"data row4 col0\" >-0.270501</td>\n",
       "      <td id=\"T_1424f_row4_col1\" class=\"data row4 col1\" >-0.246598</td>\n",
       "      <td id=\"T_1424f_row4_col2\" class=\"data row4 col2\" >-0.235529</td>\n",
       "      <td id=\"T_1424f_row4_col3\" class=\"data row4 col3\" >-0.261892</td>\n",
       "    </tr>\n",
       "    <tr>\n",
       "      <th id=\"T_1424f_level0_row5\" class=\"row_heading level0 row5\" >地铁</th>\n",
       "      <td id=\"T_1424f_row5_col0\" class=\"data row5 col0\" >-0.259230</td>\n",
       "      <td id=\"T_1424f_row5_col1\" class=\"data row5 col1\" >-0.267148</td>\n",
       "      <td id=\"T_1424f_row5_col2\" class=\"data row5 col2\" >-0.327693</td>\n",
       "      <td id=\"T_1424f_row5_col3\" class=\"data row5 col3\" >-0.392839</td>\n",
       "    </tr>\n",
       "    <tr>\n",
       "      <th id=\"T_1424f_level0_row6\" class=\"row_heading level0 row6\" >农村</th>\n",
       "      <td id=\"T_1424f_row6_col0\" class=\"data row6 col0\" >-0.245951</td>\n",
       "      <td id=\"T_1424f_row6_col1\" class=\"data row6 col1\" >-0.233186</td>\n",
       "      <td id=\"T_1424f_row6_col2\" class=\"data row6 col2\" >-0.223464</td>\n",
       "      <td id=\"T_1424f_row6_col3\" class=\"data row6 col3\" >-0.246183</td>\n",
       "    </tr>\n",
       "    <tr>\n",
       "      <th id=\"T_1424f_level0_row7\" class=\"row_heading level0 row7\" >高铁</th>\n",
       "      <td id=\"T_1424f_row7_col0\" class=\"data row7 col0\" >-0.442711</td>\n",
       "      <td id=\"T_1424f_row7_col1\" class=\"data row7 col1\" >-0.430498</td>\n",
       "      <td id=\"T_1424f_row7_col2\" class=\"data row7 col2\" >-0.357542</td>\n",
       "      <td id=\"T_1424f_row7_col3\" class=\"data row7 col3\" >-0.369274</td>\n",
       "    </tr>\n",
       "    <tr>\n",
       "      <th id=\"T_1424f_level0_row8\" class=\"row_heading level0 row8\" >其他，请注明</th>\n",
       "      <td id=\"T_1424f_row8_col0\" class=\"data row8 col0\" >nan</td>\n",
       "      <td id=\"T_1424f_row8_col1\" class=\"data row8 col1\" >nan</td>\n",
       "      <td id=\"T_1424f_row8_col2\" class=\"data row8 col2\" >nan</td>\n",
       "      <td id=\"T_1424f_row8_col3\" class=\"data row8 col3\" >nan</td>\n",
       "    </tr>\n",
       "    <tr>\n",
       "      <th id=\"T_1424f_level0_row9\" class=\"row_heading level0 row9\" >手机没有信号</th>\n",
       "      <td id=\"T_1424f_row9_col0\" class=\"data row9 col0\" >-0.265627</td>\n",
       "      <td id=\"T_1424f_row9_col1\" class=\"data row9 col1\" >-0.179374</td>\n",
       "      <td id=\"T_1424f_row9_col2\" class=\"data row9 col2\" >-0.187710</td>\n",
       "      <td id=\"T_1424f_row9_col3\" class=\"data row9 col3\" >-0.298936</td>\n",
       "    </tr>\n",
       "    <tr>\n",
       "      <th id=\"T_1424f_level0_row10\" class=\"row_heading level0 row10\" >有信号无法拨通</th>\n",
       "      <td id=\"T_1424f_row10_col0\" class=\"data row10 col0\" >-0.425343</td>\n",
       "      <td id=\"T_1424f_row10_col1\" class=\"data row10 col1\" >-0.404992</td>\n",
       "      <td id=\"T_1424f_row10_col2\" class=\"data row10 col2\" >-0.455158</td>\n",
       "      <td id=\"T_1424f_row10_col3\" class=\"data row10 col3\" >-0.506839</td>\n",
       "    </tr>\n",
       "    <tr>\n",
       "      <th id=\"T_1424f_level0_row11\" class=\"row_heading level0 row11\" >通话过程中突然中断</th>\n",
       "      <td id=\"T_1424f_row11_col0\" class=\"data row11 col0\" >-0.542914</td>\n",
       "      <td id=\"T_1424f_row11_col1\" class=\"data row11 col1\" >-0.494940</td>\n",
       "      <td id=\"T_1424f_row11_col2\" class=\"data row11 col2\" >-0.504748</td>\n",
       "      <td id=\"T_1424f_row11_col3\" class=\"data row11 col3\" >-0.507770</td>\n",
       "    </tr>\n",
       "    <tr>\n",
       "      <th id=\"T_1424f_level0_row12\" class=\"row_heading level0 row12\" >通话中有杂音、听不清、断断续续</th>\n",
       "      <td id=\"T_1424f_row12_col0\" class=\"data row12 col0\" >-0.462168</td>\n",
       "      <td id=\"T_1424f_row12_col1\" class=\"data row12 col1\" >-0.553511</td>\n",
       "      <td id=\"T_1424f_row12_col2\" class=\"data row12 col2\" >-0.559884</td>\n",
       "      <td id=\"T_1424f_row12_col3\" class=\"data row12 col3\" >-0.550720</td>\n",
       "    </tr>\n",
       "    <tr>\n",
       "      <th id=\"T_1424f_level0_row13\" class=\"row_heading level0 row13\" >串线</th>\n",
       "      <td id=\"T_1424f_row13_col0\" class=\"data row13 col0\" >nan</td>\n",
       "      <td id=\"T_1424f_row13_col1\" class=\"data row13 col1\" >nan</td>\n",
       "      <td id=\"T_1424f_row13_col2\" class=\"data row13 col2\" >nan</td>\n",
       "      <td id=\"T_1424f_row13_col3\" class=\"data row13 col3\" >nan</td>\n",
       "    </tr>\n",
       "    <tr>\n",
       "      <th id=\"T_1424f_level0_row14\" class=\"row_heading level0 row14\" >通话过程中一方听不见</th>\n",
       "      <td id=\"T_1424f_row14_col0\" class=\"data row14 col0\" >-0.661645</td>\n",
       "      <td id=\"T_1424f_row14_col1\" class=\"data row14 col1\" >-0.715198</td>\n",
       "      <td id=\"T_1424f_row14_col2\" class=\"data row14 col2\" >-0.644091</td>\n",
       "      <td id=\"T_1424f_row14_col3\" class=\"data row14 col3\" >-0.599760</td>\n",
       "    </tr>\n",
       "    <tr>\n",
       "      <th id=\"T_1424f_level0_row15\" class=\"row_heading level0 row15\" >其他，请注明.1</th>\n",
       "      <td id=\"T_1424f_row15_col0\" class=\"data row15 col0\" >nan</td>\n",
       "      <td id=\"T_1424f_row15_col1\" class=\"data row15 col1\" >nan</td>\n",
       "      <td id=\"T_1424f_row15_col2\" class=\"data row15 col2\" >nan</td>\n",
       "      <td id=\"T_1424f_row15_col3\" class=\"data row15 col3\" >nan</td>\n",
       "    </tr>\n",
       "    <tr>\n",
       "      <th id=\"T_1424f_level0_row16\" class=\"row_heading level0 row16\" >4\\5G用户</th>\n",
       "      <td id=\"T_1424f_row16_col0\" class=\"data row16 col0\" >-0.230066</td>\n",
       "      <td id=\"T_1424f_row16_col1\" class=\"data row16 col1\" >-0.352357</td>\n",
       "      <td id=\"T_1424f_row16_col2\" class=\"data row16 col2\" >-0.342811</td>\n",
       "      <td id=\"T_1424f_row16_col3\" class=\"data row16 col3\" >-0.337200</td>\n",
       "    </tr>\n",
       "    <tr>\n",
       "      <th id=\"T_1424f_level0_row17\" class=\"row_heading level0 row17\" >语音方式</th>\n",
       "      <td id=\"T_1424f_row17_col0\" class=\"data row17 col0\" >0.008372</td>\n",
       "      <td id=\"T_1424f_row17_col1\" class=\"data row17 col1\" >0.061056</td>\n",
       "      <td id=\"T_1424f_row17_col2\" class=\"data row17 col2\" >0.053245</td>\n",
       "      <td id=\"T_1424f_row17_col3\" class=\"data row17 col3\" >0.022446</td>\n",
       "    </tr>\n",
       "    <tr>\n",
       "      <th id=\"T_1424f_level0_row18\" class=\"row_heading level0 row18\" >是否关怀用户</th>\n",
       "      <td id=\"T_1424f_row18_col0\" class=\"data row18 col0\" >nan</td>\n",
       "      <td id=\"T_1424f_row18_col1\" class=\"data row18 col1\" >nan</td>\n",
       "      <td id=\"T_1424f_row18_col2\" class=\"data row18 col2\" >nan</td>\n",
       "      <td id=\"T_1424f_row18_col3\" class=\"data row18 col3\" >nan</td>\n",
       "    </tr>\n",
       "    <tr>\n",
       "      <th id=\"T_1424f_level0_row19\" class=\"row_heading level0 row19\" >是否去过营业厅</th>\n",
       "      <td id=\"T_1424f_row19_col0\" class=\"data row19 col0\" >-0.118056</td>\n",
       "      <td id=\"T_1424f_row19_col1\" class=\"data row19 col1\" >-0.269061</td>\n",
       "      <td id=\"T_1424f_row19_col2\" class=\"data row19 col2\" >-0.250279</td>\n",
       "      <td id=\"T_1424f_row19_col3\" class=\"data row19 col3\" >-0.096715</td>\n",
       "    </tr>\n",
       "    <tr>\n",
       "      <th id=\"T_1424f_level0_row20\" class=\"row_heading level0 row20\" >是否4G网络客户（本地剔除物联网）</th>\n",
       "      <td id=\"T_1424f_row20_col0\" class=\"data row20 col0\" >nan</td>\n",
       "      <td id=\"T_1424f_row20_col1\" class=\"data row20 col1\" >nan</td>\n",
       "      <td id=\"T_1424f_row20_col2\" class=\"data row20 col2\" >nan</td>\n",
       "      <td id=\"T_1424f_row20_col3\" class=\"data row20 col3\" >nan</td>\n",
       "    </tr>\n",
       "    <tr>\n",
       "      <th id=\"T_1424f_level0_row21\" class=\"row_heading level0 row21\" >语音通话-时长（分钟）</th>\n",
       "      <td id=\"T_1424f_row21_col0\" class=\"data row21 col0\" >-0.189701</td>\n",
       "      <td id=\"T_1424f_row21_col1\" class=\"data row21 col1\" >-0.250462</td>\n",
       "      <td id=\"T_1424f_row21_col2\" class=\"data row21 col2\" >-0.231790</td>\n",
       "      <td id=\"T_1424f_row21_col3\" class=\"data row21 col3\" >-0.292303</td>\n",
       "    </tr>\n",
       "    <tr>\n",
       "      <th id=\"T_1424f_level0_row22\" class=\"row_heading level0 row22\" >终端品牌</th>\n",
       "      <td id=\"T_1424f_row22_col0\" class=\"data row22 col0\" >0.359649</td>\n",
       "      <td id=\"T_1424f_row22_col1\" class=\"data row22 col1\" >0.434784</td>\n",
       "      <td id=\"T_1424f_row22_col2\" class=\"data row22 col2\" >0.433322</td>\n",
       "      <td id=\"T_1424f_row22_col3\" class=\"data row22 col3\" >0.384305</td>\n",
       "    </tr>\n",
       "    <tr>\n",
       "      <th id=\"T_1424f_level0_row23\" class=\"row_heading level0 row23\" >当月ARPU</th>\n",
       "      <td id=\"T_1424f_row23_col0\" class=\"data row23 col0\" >-0.281280</td>\n",
       "      <td id=\"T_1424f_row23_col1\" class=\"data row23 col1\" >-0.393583</td>\n",
       "      <td id=\"T_1424f_row23_col2\" class=\"data row23 col2\" >-0.350657</td>\n",
       "      <td id=\"T_1424f_row23_col3\" class=\"data row23 col3\" >-0.374147</td>\n",
       "    </tr>\n",
       "    <tr>\n",
       "      <th id=\"T_1424f_level0_row24\" class=\"row_heading level0 row24\" >当月MOU</th>\n",
       "      <td id=\"T_1424f_row24_col0\" class=\"data row24 col0\" >-0.189701</td>\n",
       "      <td id=\"T_1424f_row24_col1\" class=\"data row24 col1\" >-0.250462</td>\n",
       "      <td id=\"T_1424f_row24_col2\" class=\"data row24 col2\" >-0.231790</td>\n",
       "      <td id=\"T_1424f_row24_col3\" class=\"data row24 col3\" >-0.292303</td>\n",
       "    </tr>\n",
       "    <tr>\n",
       "      <th id=\"T_1424f_level0_row25\" class=\"row_heading level0 row25\" >前3月MOU</th>\n",
       "      <td id=\"T_1424f_row25_col0\" class=\"data row25 col0\" >-0.459108</td>\n",
       "      <td id=\"T_1424f_row25_col1\" class=\"data row25 col1\" >-0.579976</td>\n",
       "      <td id=\"T_1424f_row25_col2\" class=\"data row25 col2\" >-0.595904</td>\n",
       "      <td id=\"T_1424f_row25_col3\" class=\"data row25 col3\" >-0.627180</td>\n",
       "    </tr>\n",
       "    <tr>\n",
       "      <th id=\"T_1424f_level0_row26\" class=\"row_heading level0 row26\" >GPRS总流量（KB）</th>\n",
       "      <td id=\"T_1424f_row26_col0\" class=\"data row26 col0\" >-0.359777</td>\n",
       "      <td id=\"T_1424f_row26_col1\" class=\"data row26 col1\" >-0.345876</td>\n",
       "      <td id=\"T_1424f_row26_col2\" class=\"data row26 col2\" >-0.291223</td>\n",
       "      <td id=\"T_1424f_row26_col3\" class=\"data row26 col3\" >-0.374147</td>\n",
       "    </tr>\n",
       "    <tr>\n",
       "      <th id=\"T_1424f_level0_row27\" class=\"row_heading level0 row27\" >是否5G网络客户</th>\n",
       "      <td id=\"T_1424f_row27_col0\" class=\"data row27 col0\" >-0.230066</td>\n",
       "      <td id=\"T_1424f_row27_col1\" class=\"data row27 col1\" >-0.352357</td>\n",
       "      <td id=\"T_1424f_row27_col2\" class=\"data row27 col2\" >-0.342811</td>\n",
       "      <td id=\"T_1424f_row27_col3\" class=\"data row27 col3\" >-0.337200</td>\n",
       "    </tr>\n",
       "    <tr>\n",
       "      <th id=\"T_1424f_level0_row28\" class=\"row_heading level0 row28\" >是否实名登记用户</th>\n",
       "      <td id=\"T_1424f_row28_col0\" class=\"data row28 col0\" >-0.090167</td>\n",
       "      <td id=\"T_1424f_row28_col1\" class=\"data row28 col1\" >0.041100</td>\n",
       "      <td id=\"T_1424f_row28_col2\" class=\"data row28 col2\" >0.030721</td>\n",
       "      <td id=\"T_1424f_row28_col3\" class=\"data row28 col3\" >-0.151092</td>\n",
       "    </tr>\n",
       "    <tr>\n",
       "      <th id=\"T_1424f_level0_row29\" class=\"row_heading level0 row29\" >客户星级标识</th>\n",
       "      <td id=\"T_1424f_row29_col0\" class=\"data row29 col0\" >0.030702</td>\n",
       "      <td id=\"T_1424f_row29_col1\" class=\"data row29 col1\" >-0.006997</td>\n",
       "      <td id=\"T_1424f_row29_col2\" class=\"data row29 col2\" >-0.041843</td>\n",
       "      <td id=\"T_1424f_row29_col3\" class=\"data row29 col3\" >-0.068596</td>\n",
       "    </tr>\n",
       "  </tbody>\n",
       "</table>\n"
      ],
      "text/plain": [
       "<pandas.io.formats.style.Styler at 0x2334c311d00>"
      ]
     },
     "execution_count": 5,
     "metadata": {},
     "output_type": "execute_result"
    }
   ],
   "source": [
    "def apply_colour(value):\n",
    "    if abs(value) > 0.1:\n",
    "        colour = '#FF0000' #Red\n",
    "    else:\n",
    "        colour = '#008000' #Green\n",
    "    return 'color: %s' % colour\n",
    "\n",
    "corr_voice= train_voice.corr(method='kendall').iloc[4:,[0,1,2,3]]\n",
    "train_voice.corr(method='kendall').iloc[4:,[0,1,2,3]].style.applymap(apply_colour)"
   ]
  },
  {
   "cell_type": "code",
   "execution_count": 6,
   "id": "8d94275c",
   "metadata": {
    "papermill": {
     "duration": 0.283106,
     "end_time": "2023-01-17T14:54:00.312852",
     "exception": false,
     "start_time": "2023-01-17T14:54:00.029746",
     "status": "completed"
    },
    "tags": []
   },
   "outputs": [],
   "source": [
    "for i in columns_network_x:\n",
    "    train_network[i]=train_network[i].fillna(0)\n",
    "\n",
    "for i in range(7):\n",
    "    train_network[columns_network_x[i]]=train_network[columns_network_x[i]].map({-1:0,i+1:1})\n",
    "    \n",
    "train_network[columns_network_x[7]]=train_network[columns_network_x[7]].map({-1:0,98:1})\n",
    "\n",
    "for i in range(9,13):\n",
    "    train_network[columns_network_x[i]]=train_network[columns_network_x[i]].map({-1:0,i+1-9:1})\n",
    "    \n",
    "train_network[columns_network_x[13]]=train_network[columns_network_x[13]].map({-1:0,98:1})   \n",
    "\n",
    "for i in range(15,20):\n",
    "    train_network[columns_network_x[i]]=train_network[columns_network_x[i]].map({-1:0,i+1-15:1})\n",
    "    \n",
    "train_network[columns_network_x[20]]=train_network[columns_network_x[20]].map({-1:0,98:1}) \n",
    "\n",
    "for i in range(22,31):\n",
    "    train_network[columns_network_x[i]]=train_network[columns_network_x[i]].map({-1:0,i+1-22:1})\n",
    "    \n",
    "train_network[columns_network_x[31]]=train_network[columns_network_x[31]].map({-1:0,98:1}) \n",
    "train_network[columns_network_x[33]]=train_network[columns_network_x[33]].map({-1:0,99:1}) \n",
    "\n",
    "for i in range(34,44):\n",
    "    train_network[columns_network_x[i]]=train_network[columns_network_x[i]].map({-1:0,i+1-34:1})\n",
    "    \n",
    "train_network[columns_network_x[44]]=train_network[columns_network_x[44]].map({-1:0,98:1}) \n",
    "train_network[columns_network_x[46]]=train_network[columns_network_x[46]].map({-1:0,99:1}) \n",
    "\n",
    "for i in range(47,55):\n",
    "    train_network[columns_network_x[i]]=train_network[columns_network_x[i]].map({-1:0,i+1-47:1})\n",
    "train_network[columns_network_x[55]]=train_network[columns_network_x[55]].map({-1:0,98:1}) \n",
    "train_network[columns_network_x[57]]=train_network[columns_network_x[57]].map({-1:0,99:1}) \n",
    "    \n",
    "\n",
    "#按0分箱\n",
    "columns_0=[58,59,60,61,62,63,66,67,72,73,74,75,76,77,78,79,80,81,82,83,84,85,86,87,88,89,90,91,92,93,94,95,96,97,98,110]\n",
    "for i in columns_0:\n",
    "    train_network[columns_network_x[i]]=pd.cut(train_network[columns_network_x[i]],[-1,0.5,1000000],labels=[0,1])\n",
    "\n",
    "#按是否类别\n",
    "columns_is_or_not=[64,65,68,69,104,106,107,108]\n",
    "for i in columns_is_or_not:\n",
    "    train_network[columns_network_x[i]]=train_network[columns_network_x[i]].map({'否':0, '是':1}) \n",
    "\n",
    "train_network[columns_network_x[70]]=pd.cut(train_network[columns_network_x[70]],[0,20,30,40,50,60,120],labels=[1,2,3,4,5,6])\n",
    "train_network[columns_network_x[71]]=train_network[columns_network_x[71]].map({'男':1, '女':2, '性别不详':3}) \n",
    "train_network[columns_network_x[99]]=train_network[columns_network_x[99]].map({'手机':1, '其它':2, '其他可穿戴':2, '平板电脑':2}) \n",
    "train_network[columns_network_x[101]]=train_network[columns_network_x[101]].map({'5G终端':3, '4G终端':2, '2/3G终端':1}) \n",
    "train_network[columns_network_x[102]]=train_network[columns_network_x[102]].map({'苹果':1,'华为':2,'小米科技':3,'步步高':4,'欧珀':5,'三星':6,'realme':6,0:6,\n",
    "                                    '万普拉斯':6,'锤子':6,'万普':6,'联通':6,\n",
    "                                    '中邮通信':6,'其他':6,'中国移动':6,'中兴':6,\n",
    "                                    '魅族':6,'黑鲨':6,'联想':6,'智媄互联':6,\n",
    "                                    '海信':6,'摩托罗拉':6,'乐视移动':6,'天宇朗通':6,\n",
    "                                    '奇酷':6,'上海中兴易联通讯股份有限公司':6,'诺基亚':6,'华硕':6,\n",
    "                                    '甄十信息科技（上海）有限公司':6,'维图':6, '捷开通讯科技':6, 'TD':6, \n",
    "                                    '中国电信':6, '北京珠穆朗玛移动通信有限公司':6, '欧博信':6,'飞利浦':6, '酷比':6, '索尼爱立信':6, '金立':6})\n",
    "train_network[columns_network_x[105]]=pd.cut(train_network[columns_network_x[105]],[0,10,20,30,50,100,10000],labels=[1,2,3,4,5,6])\n",
    "train_network[columns_network_x[109]]=train_network[columns_network_x[109]].map({'城区二分公司':1, '城区三分公司':2, '城区一分公司':3, '不详':4, '通州分公司':5,\n",
    "                                                                             '大兴分公司':6, '昌平分公司':7, '顺义分公司':8,'房山分公司':9, '密云分公司':10, \n",
    "                                                                             '怀柔分公司':11, '平谷分公司':12, '延庆分公司':13}) \n",
    "train_network[columns_network_x[119]]=train_network[columns_network_x[119]].map({'三星':1, '银卡':2, '二星':3, '一星':4, '金卡':5, '白金卡':6, '未评级':7, '准星':8, '钻石卡':9})\n",
    "\n",
    "train_network=train_network.drop(columns=['用户','场景备注数据','现象备注数据','APP大类备注','APP小类视频备注','APP小类游戏备注','APP小类上网备注',\n",
    "                                        '操作系统','终端品牌类型','畅享套餐名称','码号资源-激活时间','码号资源-发卡时间'],axis=1)\n",
    "  "
   ]
  },
  {
   "cell_type": "code",
   "execution_count": 7,
   "id": "151be36c",
   "metadata": {
    "papermill": {
     "duration": 5.233548,
     "end_time": "2023-01-17T14:54:05.554786",
     "exception": false,
     "start_time": "2023-01-17T14:54:00.321238",
     "status": "completed"
    },
    "tags": []
   },
   "outputs": [
    {
     "data": {
      "text/html": [
       "<style type=\"text/css\">\n",
       "#T_560dc_row0_col0, #T_560dc_row0_col1, #T_560dc_row0_col2, #T_560dc_row0_col3, #T_560dc_row1_col0, #T_560dc_row1_col1, #T_560dc_row1_col2, #T_560dc_row1_col3, #T_560dc_row3_col0, #T_560dc_row3_col1, #T_560dc_row3_col2, #T_560dc_row3_col3, #T_560dc_row4_col0, #T_560dc_row4_col1, #T_560dc_row4_col2, #T_560dc_row4_col3, #T_560dc_row5_col1, #T_560dc_row5_col2, #T_560dc_row6_col0, #T_560dc_row6_col1, #T_560dc_row6_col2, #T_560dc_row6_col3, #T_560dc_row7_col0, #T_560dc_row7_col1, #T_560dc_row7_col2, #T_560dc_row7_col3, #T_560dc_row8_col0, #T_560dc_row8_col2, #T_560dc_row9_col0, #T_560dc_row9_col1, #T_560dc_row9_col2, #T_560dc_row9_col3, #T_560dc_row10_col0, #T_560dc_row10_col2, #T_560dc_row10_col3, #T_560dc_row11_col0, #T_560dc_row11_col1, #T_560dc_row11_col2, #T_560dc_row11_col3, #T_560dc_row12_col0, #T_560dc_row12_col1, #T_560dc_row12_col2, #T_560dc_row12_col3, #T_560dc_row13_col2, #T_560dc_row14_col0, #T_560dc_row14_col1, #T_560dc_row14_col2, #T_560dc_row15_col0, #T_560dc_row15_col1, #T_560dc_row15_col2, #T_560dc_row15_col3, #T_560dc_row16_col2, #T_560dc_row17_col0, #T_560dc_row17_col2, #T_560dc_row17_col3, #T_560dc_row18_col0, #T_560dc_row18_col1, #T_560dc_row18_col2, #T_560dc_row18_col3, #T_560dc_row25_col0, #T_560dc_row25_col1, #T_560dc_row25_col3, #T_560dc_row28_col0, #T_560dc_row28_col1, #T_560dc_row28_col3, #T_560dc_row29_col0, #T_560dc_row29_col1, #T_560dc_row29_col2, #T_560dc_row29_col3, #T_560dc_row31_col1, #T_560dc_row31_col3, #T_560dc_row40_col0, #T_560dc_row40_col1, #T_560dc_row40_col2, #T_560dc_row40_col3, #T_560dc_row42_col0, #T_560dc_row42_col1, #T_560dc_row42_col2, #T_560dc_row44_col0, #T_560dc_row44_col1, #T_560dc_row44_col2, #T_560dc_row44_col3, #T_560dc_row45_col0, #T_560dc_row45_col1, #T_560dc_row45_col2, #T_560dc_row45_col3, #T_560dc_row46_col0, #T_560dc_row48_col0, #T_560dc_row48_col1, #T_560dc_row48_col2, #T_560dc_row48_col3, #T_560dc_row51_col0, #T_560dc_row51_col1, #T_560dc_row51_col2, #T_560dc_row51_col3, #T_560dc_row52_col1, #T_560dc_row54_col0, #T_560dc_row54_col1, #T_560dc_row54_col2, #T_560dc_row54_col3, #T_560dc_row56_col0, #T_560dc_row56_col1, #T_560dc_row56_col3, #T_560dc_row58_col1, #T_560dc_row60_col1, #T_560dc_row61_col0, #T_560dc_row61_col2, #T_560dc_row63_col0, #T_560dc_row63_col2, #T_560dc_row64_col2, #T_560dc_row65_col0, #T_560dc_row65_col1, #T_560dc_row65_col2, #T_560dc_row65_col3, #T_560dc_row66_col0, #T_560dc_row67_col0, #T_560dc_row67_col1, #T_560dc_row67_col2, #T_560dc_row67_col3, #T_560dc_row68_col0, #T_560dc_row68_col1, #T_560dc_row68_col2, #T_560dc_row68_col3, #T_560dc_row69_col0, #T_560dc_row69_col1, #T_560dc_row69_col2, #T_560dc_row69_col3, #T_560dc_row70_col0, #T_560dc_row70_col1, #T_560dc_row70_col2 {\n",
       "  color: #FF0000;\n",
       "}\n",
       "#T_560dc_row2_col0, #T_560dc_row2_col1, #T_560dc_row2_col2, #T_560dc_row2_col3, #T_560dc_row5_col0, #T_560dc_row5_col3, #T_560dc_row8_col1, #T_560dc_row8_col3, #T_560dc_row10_col1, #T_560dc_row13_col0, #T_560dc_row13_col1, #T_560dc_row13_col3, #T_560dc_row14_col3, #T_560dc_row16_col0, #T_560dc_row16_col1, #T_560dc_row16_col3, #T_560dc_row17_col1, #T_560dc_row19_col0, #T_560dc_row19_col1, #T_560dc_row19_col2, #T_560dc_row19_col3, #T_560dc_row20_col0, #T_560dc_row20_col1, #T_560dc_row20_col2, #T_560dc_row20_col3, #T_560dc_row21_col0, #T_560dc_row21_col1, #T_560dc_row21_col2, #T_560dc_row21_col3, #T_560dc_row22_col0, #T_560dc_row22_col1, #T_560dc_row22_col2, #T_560dc_row22_col3, #T_560dc_row23_col0, #T_560dc_row23_col1, #T_560dc_row23_col2, #T_560dc_row23_col3, #T_560dc_row24_col0, #T_560dc_row24_col1, #T_560dc_row24_col2, #T_560dc_row24_col3, #T_560dc_row25_col2, #T_560dc_row26_col0, #T_560dc_row26_col1, #T_560dc_row26_col2, #T_560dc_row26_col3, #T_560dc_row27_col0, #T_560dc_row27_col1, #T_560dc_row27_col2, #T_560dc_row27_col3, #T_560dc_row28_col2, #T_560dc_row30_col0, #T_560dc_row30_col1, #T_560dc_row30_col2, #T_560dc_row30_col3, #T_560dc_row31_col0, #T_560dc_row31_col2, #T_560dc_row32_col0, #T_560dc_row32_col1, #T_560dc_row32_col2, #T_560dc_row32_col3, #T_560dc_row33_col0, #T_560dc_row33_col1, #T_560dc_row33_col2, #T_560dc_row33_col3, #T_560dc_row34_col0, #T_560dc_row34_col1, #T_560dc_row34_col2, #T_560dc_row34_col3, #T_560dc_row35_col0, #T_560dc_row35_col1, #T_560dc_row35_col2, #T_560dc_row35_col3, #T_560dc_row36_col0, #T_560dc_row36_col1, #T_560dc_row36_col2, #T_560dc_row36_col3, #T_560dc_row37_col0, #T_560dc_row37_col1, #T_560dc_row37_col2, #T_560dc_row37_col3, #T_560dc_row38_col0, #T_560dc_row38_col1, #T_560dc_row38_col2, #T_560dc_row38_col3, #T_560dc_row39_col0, #T_560dc_row39_col1, #T_560dc_row39_col2, #T_560dc_row39_col3, #T_560dc_row41_col0, #T_560dc_row41_col1, #T_560dc_row41_col2, #T_560dc_row41_col3, #T_560dc_row42_col3, #T_560dc_row43_col0, #T_560dc_row43_col1, #T_560dc_row43_col2, #T_560dc_row43_col3, #T_560dc_row46_col1, #T_560dc_row46_col2, #T_560dc_row46_col3, #T_560dc_row47_col0, #T_560dc_row47_col1, #T_560dc_row47_col2, #T_560dc_row47_col3, #T_560dc_row49_col0, #T_560dc_row49_col1, #T_560dc_row49_col2, #T_560dc_row49_col3, #T_560dc_row50_col0, #T_560dc_row50_col1, #T_560dc_row50_col2, #T_560dc_row50_col3, #T_560dc_row52_col0, #T_560dc_row52_col2, #T_560dc_row52_col3, #T_560dc_row53_col0, #T_560dc_row53_col1, #T_560dc_row53_col2, #T_560dc_row53_col3, #T_560dc_row55_col0, #T_560dc_row55_col1, #T_560dc_row55_col2, #T_560dc_row55_col3, #T_560dc_row56_col2, #T_560dc_row57_col0, #T_560dc_row57_col1, #T_560dc_row57_col2, #T_560dc_row57_col3, #T_560dc_row58_col0, #T_560dc_row58_col2, #T_560dc_row58_col3, #T_560dc_row59_col0, #T_560dc_row59_col1, #T_560dc_row59_col2, #T_560dc_row59_col3, #T_560dc_row60_col0, #T_560dc_row60_col2, #T_560dc_row60_col3, #T_560dc_row61_col1, #T_560dc_row61_col3, #T_560dc_row62_col0, #T_560dc_row62_col1, #T_560dc_row62_col2, #T_560dc_row62_col3, #T_560dc_row63_col1, #T_560dc_row63_col3, #T_560dc_row64_col0, #T_560dc_row64_col1, #T_560dc_row64_col3, #T_560dc_row66_col1, #T_560dc_row66_col2, #T_560dc_row66_col3, #T_560dc_row70_col3 {\n",
       "  color: #008000;\n",
       "}\n",
       "</style>\n",
       "<table id=\"T_560dc\">\n",
       "  <thead>\n",
       "    <tr>\n",
       "      <th class=\"blank level0\" >&nbsp;</th>\n",
       "      <th id=\"T_560dc_level0_col0\" class=\"col_heading level0 col0\" >手机上网整体满意度</th>\n",
       "      <th id=\"T_560dc_level0_col1\" class=\"col_heading level0 col1\" >网络覆盖与信号强度</th>\n",
       "      <th id=\"T_560dc_level0_col2\" class=\"col_heading level0 col2\" >手机上网速度</th>\n",
       "      <th id=\"T_560dc_level0_col3\" class=\"col_heading level0 col3\" >手机上网稳定性</th>\n",
       "    </tr>\n",
       "  </thead>\n",
       "  <tbody>\n",
       "    <tr>\n",
       "      <th id=\"T_560dc_level0_row0\" class=\"row_heading level0 row0\" >居民小区</th>\n",
       "      <td id=\"T_560dc_row0_col0\" class=\"data row0 col0\" >-0.145297</td>\n",
       "      <td id=\"T_560dc_row0_col1\" class=\"data row0 col1\" >-0.186276</td>\n",
       "      <td id=\"T_560dc_row0_col2\" class=\"data row0 col2\" >-0.182998</td>\n",
       "      <td id=\"T_560dc_row0_col3\" class=\"data row0 col3\" >-0.129249</td>\n",
       "    </tr>\n",
       "    <tr>\n",
       "      <th id=\"T_560dc_level0_row1\" class=\"row_heading level0 row1\" >办公室</th>\n",
       "      <td id=\"T_560dc_row1_col0\" class=\"data row1 col0\" >-0.450564</td>\n",
       "      <td id=\"T_560dc_row1_col1\" class=\"data row1 col1\" >-0.347208</td>\n",
       "      <td id=\"T_560dc_row1_col2\" class=\"data row1 col2\" >-0.457571</td>\n",
       "      <td id=\"T_560dc_row1_col3\" class=\"data row1 col3\" >-0.364998</td>\n",
       "    </tr>\n",
       "    <tr>\n",
       "      <th id=\"T_560dc_level0_row2\" class=\"row_heading level0 row2\" >高校</th>\n",
       "      <td id=\"T_560dc_row2_col0\" class=\"data row2 col0\" >0.063727</td>\n",
       "      <td id=\"T_560dc_row2_col1\" class=\"data row2 col1\" >0.038808</td>\n",
       "      <td id=\"T_560dc_row2_col2\" class=\"data row2 col2\" >0.038125</td>\n",
       "      <td id=\"T_560dc_row2_col3\" class=\"data row2 col3\" >0.038014</td>\n",
       "    </tr>\n",
       "    <tr>\n",
       "      <th id=\"T_560dc_level0_row3\" class=\"row_heading level0 row3\" >商业街</th>\n",
       "      <td id=\"T_560dc_row3_col0\" class=\"data row3 col0\" >-0.449272</td>\n",
       "      <td id=\"T_560dc_row3_col1\" class=\"data row3 col1\" >-0.417181</td>\n",
       "      <td id=\"T_560dc_row3_col2\" class=\"data row3 col2\" >-0.495620</td>\n",
       "      <td id=\"T_560dc_row3_col3\" class=\"data row3 col3\" >-0.494186</td>\n",
       "    </tr>\n",
       "    <tr>\n",
       "      <th id=\"T_560dc_level0_row4\" class=\"row_heading level0 row4\" >地铁</th>\n",
       "      <td id=\"T_560dc_row4_col0\" class=\"data row4 col0\" >-0.374634</td>\n",
       "      <td id=\"T_560dc_row4_col1\" class=\"data row4 col1\" >-0.205960</td>\n",
       "      <td id=\"T_560dc_row4_col2\" class=\"data row4 col2\" >-0.342415</td>\n",
       "      <td id=\"T_560dc_row4_col3\" class=\"data row4 col3\" >-0.411261</td>\n",
       "    </tr>\n",
       "    <tr>\n",
       "      <th id=\"T_560dc_level0_row5\" class=\"row_heading level0 row5\" >农村</th>\n",
       "      <td id=\"T_560dc_row5_col0\" class=\"data row5 col0\" >-0.095590</td>\n",
       "      <td id=\"T_560dc_row5_col1\" class=\"data row5 col1\" >-0.106721</td>\n",
       "      <td id=\"T_560dc_row5_col2\" class=\"data row5 col2\" >-0.247810</td>\n",
       "      <td id=\"T_560dc_row5_col3\" class=\"data row5 col3\" >0.009504</td>\n",
       "    </tr>\n",
       "    <tr>\n",
       "      <th id=\"T_560dc_level0_row6\" class=\"row_heading level0 row6\" >高铁</th>\n",
       "      <td id=\"T_560dc_row6_col0\" class=\"data row6 col0\" >-0.318633</td>\n",
       "      <td id=\"T_560dc_row6_col1\" class=\"data row6 col1\" >-0.362204</td>\n",
       "      <td id=\"T_560dc_row6_col2\" class=\"data row6 col2\" >-0.355830</td>\n",
       "      <td id=\"T_560dc_row6_col3\" class=\"data row6 col3\" >-0.354800</td>\n",
       "    </tr>\n",
       "    <tr>\n",
       "      <th id=\"T_560dc_level0_row7\" class=\"row_heading level0 row7\" >其他，请注明</th>\n",
       "      <td id=\"T_560dc_row7_col0\" class=\"data row7 col0\" >-0.280397</td>\n",
       "      <td id=\"T_560dc_row7_col1\" class=\"data row7 col1\" >-0.258717</td>\n",
       "      <td id=\"T_560dc_row7_col2\" class=\"data row7 col2\" >-0.165207</td>\n",
       "      <td id=\"T_560dc_row7_col3\" class=\"data row7 col3\" >-0.152057</td>\n",
       "    </tr>\n",
       "    <tr>\n",
       "      <th id=\"T_560dc_level0_row8\" class=\"row_heading level0 row8\" >网络信号差/没有信号</th>\n",
       "      <td id=\"T_560dc_row8_col0\" class=\"data row8 col0\" >-0.130657</td>\n",
       "      <td id=\"T_560dc_row8_col1\" class=\"data row8 col1\" >-0.054604</td>\n",
       "      <td id=\"T_560dc_row8_col2\" class=\"data row8 col2\" >-0.137940</td>\n",
       "      <td id=\"T_560dc_row8_col3\" class=\"data row8 col3\" >0.076412</td>\n",
       "    </tr>\n",
       "    <tr>\n",
       "      <th id=\"T_560dc_level0_row9\" class=\"row_heading level0 row9\" >显示有信号上不了网</th>\n",
       "      <td id=\"T_560dc_row9_col0\" class=\"data row9 col0\" >-0.272559</td>\n",
       "      <td id=\"T_560dc_row9_col1\" class=\"data row9 col1\" >-0.146453</td>\n",
       "      <td id=\"T_560dc_row9_col2\" class=\"data row9 col2\" >-0.247786</td>\n",
       "      <td id=\"T_560dc_row9_col3\" class=\"data row9 col3\" >-0.215189</td>\n",
       "    </tr>\n",
       "    <tr>\n",
       "      <th id=\"T_560dc_level0_row10\" class=\"row_heading level0 row10\" >上网过程中网络时断时续或时快时慢</th>\n",
       "      <td id=\"T_560dc_row10_col0\" class=\"data row10 col0\" >-0.130002</td>\n",
       "      <td id=\"T_560dc_row10_col1\" class=\"data row10 col1\" >-0.085377</td>\n",
       "      <td id=\"T_560dc_row10_col2\" class=\"data row10 col2\" >-0.221123</td>\n",
       "      <td id=\"T_560dc_row10_col3\" class=\"data row10 col3\" >-0.144454</td>\n",
       "    </tr>\n",
       "    <tr>\n",
       "      <th id=\"T_560dc_level0_row11\" class=\"row_heading level0 row11\" >手机上网速度慢</th>\n",
       "      <td id=\"T_560dc_row11_col0\" class=\"data row11 col0\" >-0.405854</td>\n",
       "      <td id=\"T_560dc_row11_col1\" class=\"data row11 col1\" >-0.316862</td>\n",
       "      <td id=\"T_560dc_row11_col2\" class=\"data row11 col2\" >-0.498058</td>\n",
       "      <td id=\"T_560dc_row11_col3\" class=\"data row11 col3\" >-0.248308</td>\n",
       "    </tr>\n",
       "    <tr>\n",
       "      <th id=\"T_560dc_level0_row12\" class=\"row_heading level0 row12\" >其他，请注明.1</th>\n",
       "      <td id=\"T_560dc_row12_col0\" class=\"data row12 col0\" >-0.315789</td>\n",
       "      <td id=\"T_560dc_row12_col1\" class=\"data row12 col1\" >-0.302704</td>\n",
       "      <td id=\"T_560dc_row12_col2\" class=\"data row12 col2\" >-0.314870</td>\n",
       "      <td id=\"T_560dc_row12_col3\" class=\"data row12 col3\" >-0.296517</td>\n",
       "    </tr>\n",
       "    <tr>\n",
       "      <th id=\"T_560dc_level0_row13\" class=\"row_heading level0 row13\" >看视频卡顿</th>\n",
       "      <td id=\"T_560dc_row13_col0\" class=\"data row13 col0\" >-0.057354</td>\n",
       "      <td id=\"T_560dc_row13_col1\" class=\"data row13 col1\" >0.029106</td>\n",
       "      <td id=\"T_560dc_row13_col2\" class=\"data row13 col2\" >-0.181092</td>\n",
       "      <td id=\"T_560dc_row13_col3\" class=\"data row13 col3\" >-0.019007</td>\n",
       "    </tr>\n",
       "    <tr>\n",
       "      <th id=\"T_560dc_level0_row14\" class=\"row_heading level0 row14\" >打游戏延时大</th>\n",
       "      <td id=\"T_560dc_row14_col0\" class=\"data row14 col0\" >-0.216670</td>\n",
       "      <td id=\"T_560dc_row14_col1\" class=\"data row14 col1\" >-0.155230</td>\n",
       "      <td id=\"T_560dc_row14_col2\" class=\"data row14 col2\" >-0.165207</td>\n",
       "      <td id=\"T_560dc_row14_col3\" class=\"data row14 col3\" >0.012671</td>\n",
       "    </tr>\n",
       "    <tr>\n",
       "      <th id=\"T_560dc_level0_row15\" class=\"row_heading level0 row15\" >打开网页或APP图片慢</th>\n",
       "      <td id=\"T_560dc_row15_col0\" class=\"data row15 col0\" >-0.247246</td>\n",
       "      <td id=\"T_560dc_row15_col1\" class=\"data row15 col1\" >-0.143395</td>\n",
       "      <td id=\"T_560dc_row15_col2\" class=\"data row15 col2\" >-0.264135</td>\n",
       "      <td id=\"T_560dc_row15_col3\" class=\"data row15 col3\" >-0.105348</td>\n",
       "    </tr>\n",
       "    <tr>\n",
       "      <th id=\"T_560dc_level0_row16\" class=\"row_heading level0 row16\" >下载速度慢</th>\n",
       "      <td id=\"T_560dc_row16_col0\" class=\"data row16 col0\" >-0.038236</td>\n",
       "      <td id=\"T_560dc_row16_col1\" class=\"data row16 col1\" >-0.090551</td>\n",
       "      <td id=\"T_560dc_row16_col2\" class=\"data row16 col2\" >-0.203331</td>\n",
       "      <td id=\"T_560dc_row16_col3\" class=\"data row16 col3\" >-0.038014</td>\n",
       "    </tr>\n",
       "    <tr>\n",
       "      <th id=\"T_560dc_level0_row17\" class=\"row_heading level0 row17\" >手机支付较慢</th>\n",
       "      <td id=\"T_560dc_row17_col0\" class=\"data row17 col0\" >-0.149915</td>\n",
       "      <td id=\"T_560dc_row17_col1\" class=\"data row17 col1\" >-0.043473</td>\n",
       "      <td id=\"T_560dc_row17_col2\" class=\"data row17 col2\" >-0.181510</td>\n",
       "      <td id=\"T_560dc_row17_col3\" class=\"data row17 col3\" >-0.138400</td>\n",
       "    </tr>\n",
       "    <tr>\n",
       "      <th id=\"T_560dc_level0_row18\" class=\"row_heading level0 row18\" >其他，请注明.2</th>\n",
       "      <td id=\"T_560dc_row18_col0\" class=\"data row18 col0\" >-0.315789</td>\n",
       "      <td id=\"T_560dc_row18_col1\" class=\"data row18 col1\" >-0.302704</td>\n",
       "      <td id=\"T_560dc_row18_col2\" class=\"data row18 col2\" >-0.314870</td>\n",
       "      <td id=\"T_560dc_row18_col3\" class=\"data row18 col3\" >-0.296517</td>\n",
       "    </tr>\n",
       "    <tr>\n",
       "      <th id=\"T_560dc_level0_row19\" class=\"row_heading level0 row19\" >爱奇艺</th>\n",
       "      <td id=\"T_560dc_row19_col0\" class=\"data row19 col0\" >nan</td>\n",
       "      <td id=\"T_560dc_row19_col1\" class=\"data row19 col1\" >nan</td>\n",
       "      <td id=\"T_560dc_row19_col2\" class=\"data row19 col2\" >nan</td>\n",
       "      <td id=\"T_560dc_row19_col3\" class=\"data row19 col3\" >nan</td>\n",
       "    </tr>\n",
       "    <tr>\n",
       "      <th id=\"T_560dc_level0_row20\" class=\"row_heading level0 row20\" >优酷</th>\n",
       "      <td id=\"T_560dc_row20_col0\" class=\"data row20 col0\" >nan</td>\n",
       "      <td id=\"T_560dc_row20_col1\" class=\"data row20 col1\" >nan</td>\n",
       "      <td id=\"T_560dc_row20_col2\" class=\"data row20 col2\" >nan</td>\n",
       "      <td id=\"T_560dc_row20_col3\" class=\"data row20 col3\" >nan</td>\n",
       "    </tr>\n",
       "    <tr>\n",
       "      <th id=\"T_560dc_level0_row21\" class=\"row_heading level0 row21\" >腾讯视频</th>\n",
       "      <td id=\"T_560dc_row21_col0\" class=\"data row21 col0\" >nan</td>\n",
       "      <td id=\"T_560dc_row21_col1\" class=\"data row21 col1\" >nan</td>\n",
       "      <td id=\"T_560dc_row21_col2\" class=\"data row21 col2\" >nan</td>\n",
       "      <td id=\"T_560dc_row21_col3\" class=\"data row21 col3\" >nan</td>\n",
       "    </tr>\n",
       "    <tr>\n",
       "      <th id=\"T_560dc_level0_row22\" class=\"row_heading level0 row22\" >芒果TV</th>\n",
       "      <td id=\"T_560dc_row22_col0\" class=\"data row22 col0\" >nan</td>\n",
       "      <td id=\"T_560dc_row22_col1\" class=\"data row22 col1\" >nan</td>\n",
       "      <td id=\"T_560dc_row22_col2\" class=\"data row22 col2\" >nan</td>\n",
       "      <td id=\"T_560dc_row22_col3\" class=\"data row22 col3\" >nan</td>\n",
       "    </tr>\n",
       "    <tr>\n",
       "      <th id=\"T_560dc_level0_row23\" class=\"row_heading level0 row23\" >搜狐视频</th>\n",
       "      <td id=\"T_560dc_row23_col0\" class=\"data row23 col0\" >nan</td>\n",
       "      <td id=\"T_560dc_row23_col1\" class=\"data row23 col1\" >nan</td>\n",
       "      <td id=\"T_560dc_row23_col2\" class=\"data row23 col2\" >nan</td>\n",
       "      <td id=\"T_560dc_row23_col3\" class=\"data row23 col3\" >nan</td>\n",
       "    </tr>\n",
       "    <tr>\n",
       "      <th id=\"T_560dc_level0_row24\" class=\"row_heading level0 row24\" >抖音</th>\n",
       "      <td id=\"T_560dc_row24_col0\" class=\"data row24 col0\" >nan</td>\n",
       "      <td id=\"T_560dc_row24_col1\" class=\"data row24 col1\" >nan</td>\n",
       "      <td id=\"T_560dc_row24_col2\" class=\"data row24 col2\" >nan</td>\n",
       "      <td id=\"T_560dc_row24_col3\" class=\"data row24 col3\" >nan</td>\n",
       "    </tr>\n",
       "    <tr>\n",
       "      <th id=\"T_560dc_level0_row25\" class=\"row_heading level0 row25\" >快手</th>\n",
       "      <td id=\"T_560dc_row25_col0\" class=\"data row25 col0\" >0.140351</td>\n",
       "      <td id=\"T_560dc_row25_col1\" class=\"data row25 col1\" >0.231479</td>\n",
       "      <td id=\"T_560dc_row25_col2\" class=\"data row25 col2\" >0.087464</td>\n",
       "      <td id=\"T_560dc_row25_col3\" class=\"data row25 col3\" >0.191864</td>\n",
       "    </tr>\n",
       "    <tr>\n",
       "      <th id=\"T_560dc_level0_row26\" class=\"row_heading level0 row26\" >火山</th>\n",
       "      <td id=\"T_560dc_row26_col0\" class=\"data row26 col0\" >nan</td>\n",
       "      <td id=\"T_560dc_row26_col1\" class=\"data row26 col1\" >nan</td>\n",
       "      <td id=\"T_560dc_row26_col2\" class=\"data row26 col2\" >nan</td>\n",
       "      <td id=\"T_560dc_row26_col3\" class=\"data row26 col3\" >nan</td>\n",
       "    </tr>\n",
       "    <tr>\n",
       "      <th id=\"T_560dc_level0_row27\" class=\"row_heading level0 row27\" >咪咕视频</th>\n",
       "      <td id=\"T_560dc_row27_col0\" class=\"data row27 col0\" >nan</td>\n",
       "      <td id=\"T_560dc_row27_col1\" class=\"data row27 col1\" >nan</td>\n",
       "      <td id=\"T_560dc_row27_col2\" class=\"data row27 col2\" >nan</td>\n",
       "      <td id=\"T_560dc_row27_col3\" class=\"data row27 col3\" >nan</td>\n",
       "    </tr>\n",
       "    <tr>\n",
       "      <th id=\"T_560dc_level0_row28\" class=\"row_heading level0 row28\" >其他，请注明.3</th>\n",
       "      <td id=\"T_560dc_row28_col0\" class=\"data row28 col0\" >0.140351</td>\n",
       "      <td id=\"T_560dc_row28_col1\" class=\"data row28 col1\" >0.124643</td>\n",
       "      <td id=\"T_560dc_row28_col2\" class=\"data row28 col2\" >-0.034986</td>\n",
       "      <td id=\"T_560dc_row28_col3\" class=\"data row28 col3\" >0.191864</td>\n",
       "    </tr>\n",
       "    <tr>\n",
       "      <th id=\"T_560dc_level0_row29\" class=\"row_heading level0 row29\" >全部都卡顿</th>\n",
       "      <td id=\"T_560dc_row29_col0\" class=\"data row29 col0\" >-0.280397</td>\n",
       "      <td id=\"T_560dc_row29_col1\" class=\"data row29 col1\" >-0.219909</td>\n",
       "      <td id=\"T_560dc_row29_col2\" class=\"data row29 col2\" >-0.279581</td>\n",
       "      <td id=\"T_560dc_row29_col3\" class=\"data row29 col3\" >-0.304114</td>\n",
       "    </tr>\n",
       "    <tr>\n",
       "      <th id=\"T_560dc_level0_row30\" class=\"row_heading level0 row30\" >和平精英</th>\n",
       "      <td id=\"T_560dc_row30_col0\" class=\"data row30 col0\" >nan</td>\n",
       "      <td id=\"T_560dc_row30_col1\" class=\"data row30 col1\" >nan</td>\n",
       "      <td id=\"T_560dc_row30_col2\" class=\"data row30 col2\" >nan</td>\n",
       "      <td id=\"T_560dc_row30_col3\" class=\"data row30 col3\" >nan</td>\n",
       "    </tr>\n",
       "    <tr>\n",
       "      <th id=\"T_560dc_level0_row31\" class=\"row_heading level0 row31\" >王者荣耀</th>\n",
       "      <td id=\"T_560dc_row31_col0\" class=\"data row31 col0\" >0.017544</td>\n",
       "      <td id=\"T_560dc_row31_col1\" class=\"data row31 col1\" >0.124643</td>\n",
       "      <td id=\"T_560dc_row31_col2\" class=\"data row31 col2\" >-0.034986</td>\n",
       "      <td id=\"T_560dc_row31_col3\" class=\"data row31 col3\" >0.191864</td>\n",
       "    </tr>\n",
       "    <tr>\n",
       "      <th id=\"T_560dc_level0_row32\" class=\"row_heading level0 row32\" >穿越火线</th>\n",
       "      <td id=\"T_560dc_row32_col0\" class=\"data row32 col0\" >nan</td>\n",
       "      <td id=\"T_560dc_row32_col1\" class=\"data row32 col1\" >nan</td>\n",
       "      <td id=\"T_560dc_row32_col2\" class=\"data row32 col2\" >nan</td>\n",
       "      <td id=\"T_560dc_row32_col3\" class=\"data row32 col3\" >nan</td>\n",
       "    </tr>\n",
       "    <tr>\n",
       "      <th id=\"T_560dc_level0_row33\" class=\"row_heading level0 row33\" >梦幻西游</th>\n",
       "      <td id=\"T_560dc_row33_col0\" class=\"data row33 col0\" >nan</td>\n",
       "      <td id=\"T_560dc_row33_col1\" class=\"data row33 col1\" >nan</td>\n",
       "      <td id=\"T_560dc_row33_col2\" class=\"data row33 col2\" >nan</td>\n",
       "      <td id=\"T_560dc_row33_col3\" class=\"data row33 col3\" >nan</td>\n",
       "    </tr>\n",
       "    <tr>\n",
       "      <th id=\"T_560dc_level0_row34\" class=\"row_heading level0 row34\" >龙之谷</th>\n",
       "      <td id=\"T_560dc_row34_col0\" class=\"data row34 col0\" >nan</td>\n",
       "      <td id=\"T_560dc_row34_col1\" class=\"data row34 col1\" >nan</td>\n",
       "      <td id=\"T_560dc_row34_col2\" class=\"data row34 col2\" >nan</td>\n",
       "      <td id=\"T_560dc_row34_col3\" class=\"data row34 col3\" >nan</td>\n",
       "    </tr>\n",
       "    <tr>\n",
       "      <th id=\"T_560dc_level0_row35\" class=\"row_heading level0 row35\" >梦幻诛仙</th>\n",
       "      <td id=\"T_560dc_row35_col0\" class=\"data row35 col0\" >nan</td>\n",
       "      <td id=\"T_560dc_row35_col1\" class=\"data row35 col1\" >nan</td>\n",
       "      <td id=\"T_560dc_row35_col2\" class=\"data row35 col2\" >nan</td>\n",
       "      <td id=\"T_560dc_row35_col3\" class=\"data row35 col3\" >nan</td>\n",
       "    </tr>\n",
       "    <tr>\n",
       "      <th id=\"T_560dc_level0_row36\" class=\"row_heading level0 row36\" >欢乐斗地主</th>\n",
       "      <td id=\"T_560dc_row36_col0\" class=\"data row36 col0\" >nan</td>\n",
       "      <td id=\"T_560dc_row36_col1\" class=\"data row36 col1\" >nan</td>\n",
       "      <td id=\"T_560dc_row36_col2\" class=\"data row36 col2\" >nan</td>\n",
       "      <td id=\"T_560dc_row36_col3\" class=\"data row36 col3\" >nan</td>\n",
       "    </tr>\n",
       "    <tr>\n",
       "      <th id=\"T_560dc_level0_row37\" class=\"row_heading level0 row37\" >部落冲突</th>\n",
       "      <td id=\"T_560dc_row37_col0\" class=\"data row37 col0\" >nan</td>\n",
       "      <td id=\"T_560dc_row37_col1\" class=\"data row37 col1\" >nan</td>\n",
       "      <td id=\"T_560dc_row37_col2\" class=\"data row37 col2\" >nan</td>\n",
       "      <td id=\"T_560dc_row37_col3\" class=\"data row37 col3\" >nan</td>\n",
       "    </tr>\n",
       "    <tr>\n",
       "      <th id=\"T_560dc_level0_row38\" class=\"row_heading level0 row38\" >炉石传说</th>\n",
       "      <td id=\"T_560dc_row38_col0\" class=\"data row38 col0\" >nan</td>\n",
       "      <td id=\"T_560dc_row38_col1\" class=\"data row38 col1\" >nan</td>\n",
       "      <td id=\"T_560dc_row38_col2\" class=\"data row38 col2\" >nan</td>\n",
       "      <td id=\"T_560dc_row38_col3\" class=\"data row38 col3\" >nan</td>\n",
       "    </tr>\n",
       "    <tr>\n",
       "      <th id=\"T_560dc_level0_row39\" class=\"row_heading level0 row39\" >阴阳师</th>\n",
       "      <td id=\"T_560dc_row39_col0\" class=\"data row39 col0\" >nan</td>\n",
       "      <td id=\"T_560dc_row39_col1\" class=\"data row39 col1\" >nan</td>\n",
       "      <td id=\"T_560dc_row39_col2\" class=\"data row39 col2\" >nan</td>\n",
       "      <td id=\"T_560dc_row39_col3\" class=\"data row39 col3\" >nan</td>\n",
       "    </tr>\n",
       "    <tr>\n",
       "      <th id=\"T_560dc_level0_row40\" class=\"row_heading level0 row40\" >其他，请注明.4</th>\n",
       "      <td id=\"T_560dc_row40_col0\" class=\"data row40 col0\" >-0.315789</td>\n",
       "      <td id=\"T_560dc_row40_col1\" class=\"data row40 col1\" >-0.338316</td>\n",
       "      <td id=\"T_560dc_row40_col2\" class=\"data row40 col2\" >-0.192421</td>\n",
       "      <td id=\"T_560dc_row40_col3\" class=\"data row40 col3\" >-0.174422</td>\n",
       "    </tr>\n",
       "    <tr>\n",
       "      <th id=\"T_560dc_level0_row41\" class=\"row_heading level0 row41\" >全部游戏都卡顿</th>\n",
       "      <td id=\"T_560dc_row41_col0\" class=\"data row41 col0\" >nan</td>\n",
       "      <td id=\"T_560dc_row41_col1\" class=\"data row41 col1\" >nan</td>\n",
       "      <td id=\"T_560dc_row41_col2\" class=\"data row41 col2\" >nan</td>\n",
       "      <td id=\"T_560dc_row41_col3\" class=\"data row41 col3\" >nan</td>\n",
       "    </tr>\n",
       "    <tr>\n",
       "      <th id=\"T_560dc_level0_row42\" class=\"row_heading level0 row42\" >微信</th>\n",
       "      <td id=\"T_560dc_row42_col0\" class=\"data row42 col0\" >-0.267705</td>\n",
       "      <td id=\"T_560dc_row42_col1\" class=\"data row42 col1\" >-0.163024</td>\n",
       "      <td id=\"T_560dc_row42_col2\" class=\"data row42 col2\" >-0.224218</td>\n",
       "      <td id=\"T_560dc_row42_col3\" class=\"data row42 col3\" >-0.095815</td>\n",
       "    </tr>\n",
       "    <tr>\n",
       "      <th id=\"T_560dc_level0_row43\" class=\"row_heading level0 row43\" >手机QQ</th>\n",
       "      <td id=\"T_560dc_row43_col0\" class=\"data row43 col0\" >nan</td>\n",
       "      <td id=\"T_560dc_row43_col1\" class=\"data row43 col1\" >nan</td>\n",
       "      <td id=\"T_560dc_row43_col2\" class=\"data row43 col2\" >nan</td>\n",
       "      <td id=\"T_560dc_row43_col3\" class=\"data row43 col3\" >nan</td>\n",
       "    </tr>\n",
       "    <tr>\n",
       "      <th id=\"T_560dc_level0_row44\" class=\"row_heading level0 row44\" >淘宝</th>\n",
       "      <td id=\"T_560dc_row44_col0\" class=\"data row44 col0\" >-0.315789</td>\n",
       "      <td id=\"T_560dc_row44_col1\" class=\"data row44 col1\" >-0.338316</td>\n",
       "      <td id=\"T_560dc_row44_col2\" class=\"data row44 col2\" >-0.192421</td>\n",
       "      <td id=\"T_560dc_row44_col3\" class=\"data row44 col3\" >-0.174422</td>\n",
       "    </tr>\n",
       "    <tr>\n",
       "      <th id=\"T_560dc_level0_row45\" class=\"row_heading level0 row45\" >京东</th>\n",
       "      <td id=\"T_560dc_row45_col0\" class=\"data row45 col0\" >-0.315789</td>\n",
       "      <td id=\"T_560dc_row45_col1\" class=\"data row45 col1\" >-0.338316</td>\n",
       "      <td id=\"T_560dc_row45_col2\" class=\"data row45 col2\" >-0.192421</td>\n",
       "      <td id=\"T_560dc_row45_col3\" class=\"data row45 col3\" >-0.174422</td>\n",
       "    </tr>\n",
       "    <tr>\n",
       "      <th id=\"T_560dc_level0_row46\" class=\"row_heading level0 row46\" >百度</th>\n",
       "      <td id=\"T_560dc_row46_col0\" class=\"data row46 col0\" >-0.127453</td>\n",
       "      <td id=\"T_560dc_row46_col1\" class=\"data row46 col1\" >-0.077615</td>\n",
       "      <td id=\"T_560dc_row46_col2\" class=\"data row46 col2\" >-0.076249</td>\n",
       "      <td id=\"T_560dc_row46_col3\" class=\"data row46 col3\" >0.012671</td>\n",
       "    </tr>\n",
       "    <tr>\n",
       "      <th id=\"T_560dc_level0_row47\" class=\"row_heading level0 row47\" >今日头条</th>\n",
       "      <td id=\"T_560dc_row47_col0\" class=\"data row47 col0\" >nan</td>\n",
       "      <td id=\"T_560dc_row47_col1\" class=\"data row47 col1\" >nan</td>\n",
       "      <td id=\"T_560dc_row47_col2\" class=\"data row47 col2\" >nan</td>\n",
       "      <td id=\"T_560dc_row47_col3\" class=\"data row47 col3\" >nan</td>\n",
       "    </tr>\n",
       "    <tr>\n",
       "      <th id=\"T_560dc_level0_row48\" class=\"row_heading level0 row48\" >新浪微博</th>\n",
       "      <td id=\"T_560dc_row48_col0\" class=\"data row48 col0\" >-0.331378</td>\n",
       "      <td id=\"T_560dc_row48_col1\" class=\"data row48 col1\" >-0.284589</td>\n",
       "      <td id=\"T_560dc_row48_col2\" class=\"data row48 col2\" >-0.241456</td>\n",
       "      <td id=\"T_560dc_row48_col3\" class=\"data row48 col3\" >-0.253429</td>\n",
       "    </tr>\n",
       "    <tr>\n",
       "      <th id=\"T_560dc_level0_row49\" class=\"row_heading level0 row49\" >拼多多</th>\n",
       "      <td id=\"T_560dc_row49_col0\" class=\"data row49 col0\" >nan</td>\n",
       "      <td id=\"T_560dc_row49_col1\" class=\"data row49 col1\" >nan</td>\n",
       "      <td id=\"T_560dc_row49_col2\" class=\"data row49 col2\" >nan</td>\n",
       "      <td id=\"T_560dc_row49_col3\" class=\"data row49 col3\" >nan</td>\n",
       "    </tr>\n",
       "    <tr>\n",
       "      <th id=\"T_560dc_level0_row50\" class=\"row_heading level0 row50\" >其他，请注明.5</th>\n",
       "      <td id=\"T_560dc_row50_col0\" class=\"data row50 col0\" >nan</td>\n",
       "      <td id=\"T_560dc_row50_col1\" class=\"data row50 col1\" >nan</td>\n",
       "      <td id=\"T_560dc_row50_col2\" class=\"data row50 col2\" >nan</td>\n",
       "      <td id=\"T_560dc_row50_col3\" class=\"data row50 col3\" >nan</td>\n",
       "    </tr>\n",
       "    <tr>\n",
       "      <th id=\"T_560dc_level0_row51\" class=\"row_heading level0 row51\" >全部网页或APP都慢</th>\n",
       "      <td id=\"T_560dc_row51_col0\" class=\"data row51 col0\" >-0.192982</td>\n",
       "      <td id=\"T_560dc_row51_col1\" class=\"data row51 col1\" >-0.249286</td>\n",
       "      <td id=\"T_560dc_row51_col2\" class=\"data row51 col2\" >-0.244899</td>\n",
       "      <td id=\"T_560dc_row51_col3\" class=\"data row51 col3\" >-0.244190</td>\n",
       "    </tr>\n",
       "    <tr>\n",
       "      <th id=\"T_560dc_level0_row52\" class=\"row_heading level0 row52\" >高单价超套客户（集团）</th>\n",
       "      <td id=\"T_560dc_row52_col0\" class=\"data row52 col0\" >-0.070175</td>\n",
       "      <td id=\"T_560dc_row52_col1\" class=\"data row52 col1\" >-0.160255</td>\n",
       "      <td id=\"T_560dc_row52_col2\" class=\"data row52 col2\" >-0.034986</td>\n",
       "      <td id=\"T_560dc_row52_col3\" class=\"data row52 col3\" >-0.034884</td>\n",
       "    </tr>\n",
       "    <tr>\n",
       "      <th id=\"T_560dc_level0_row53\" class=\"row_heading level0 row53\" >高频高额超套客户（集团）</th>\n",
       "      <td id=\"T_560dc_row53_col0\" class=\"data row53 col0\" >nan</td>\n",
       "      <td id=\"T_560dc_row53_col1\" class=\"data row53 col1\" >nan</td>\n",
       "      <td id=\"T_560dc_row53_col2\" class=\"data row53 col2\" >nan</td>\n",
       "      <td id=\"T_560dc_row53_col3\" class=\"data row53 col3\" >nan</td>\n",
       "    </tr>\n",
       "    <tr>\n",
       "      <th id=\"T_560dc_level0_row54\" class=\"row_heading level0 row54\" >是否全月漫游用户</th>\n",
       "      <td id=\"T_560dc_row54_col0\" class=\"data row54 col0\" >-0.245614</td>\n",
       "      <td id=\"T_560dc_row54_col1\" class=\"data row54 col1\" >-0.249286</td>\n",
       "      <td id=\"T_560dc_row54_col2\" class=\"data row54 col2\" >-0.244899</td>\n",
       "      <td id=\"T_560dc_row54_col3\" class=\"data row54 col3\" >-0.244190</td>\n",
       "    </tr>\n",
       "    <tr>\n",
       "      <th id=\"T_560dc_level0_row55\" class=\"row_heading level0 row55\" >是否不限量套餐到达用户</th>\n",
       "      <td id=\"T_560dc_row55_col0\" class=\"data row55 col0\" >nan</td>\n",
       "      <td id=\"T_560dc_row55_col1\" class=\"data row55 col1\" >nan</td>\n",
       "      <td id=\"T_560dc_row55_col2\" class=\"data row55 col2\" >nan</td>\n",
       "      <td id=\"T_560dc_row55_col3\" class=\"data row55 col3\" >nan</td>\n",
       "    </tr>\n",
       "    <tr>\n",
       "      <th id=\"T_560dc_level0_row56\" class=\"row_heading level0 row56\" >性别</th>\n",
       "      <td id=\"T_560dc_row56_col0\" class=\"data row56 col0\" >-0.223698</td>\n",
       "      <td id=\"T_560dc_row56_col1\" class=\"data row56 col1\" >-0.200845</td>\n",
       "      <td id=\"T_560dc_row56_col2\" class=\"data row56 col2\" >-0.068630</td>\n",
       "      <td id=\"T_560dc_row56_col3\" class=\"data row56 col3\" >-0.153970</td>\n",
       "    </tr>\n",
       "    <tr>\n",
       "      <th id=\"T_560dc_level0_row57\" class=\"row_heading level0 row57\" >终端类型</th>\n",
       "      <td id=\"T_560dc_row57_col0\" class=\"data row57 col0\" >nan</td>\n",
       "      <td id=\"T_560dc_row57_col1\" class=\"data row57 col1\" >nan</td>\n",
       "      <td id=\"T_560dc_row57_col2\" class=\"data row57 col2\" >nan</td>\n",
       "      <td id=\"T_560dc_row57_col3\" class=\"data row57 col3\" >nan</td>\n",
       "    </tr>\n",
       "    <tr>\n",
       "      <th id=\"T_560dc_level0_row58\" class=\"row_heading level0 row58\" >终端制式</th>\n",
       "      <td id=\"T_560dc_row58_col0\" class=\"data row58 col0\" >-0.099914</td>\n",
       "      <td id=\"T_560dc_row58_col1\" class=\"data row58 col1\" >-0.117009</td>\n",
       "      <td id=\"T_560dc_row58_col2\" class=\"data row58 col2\" >0.045980</td>\n",
       "      <td id=\"T_560dc_row58_col3\" class=\"data row58 col3\" >-0.084053</td>\n",
       "    </tr>\n",
       "    <tr>\n",
       "      <th id=\"T_560dc_level0_row59\" class=\"row_heading level0 row59\" >终端品牌</th>\n",
       "      <td id=\"T_560dc_row59_col0\" class=\"data row59 col0\" >0.025580</td>\n",
       "      <td id=\"T_560dc_row59_col1\" class=\"data row59 col1\" >0.012981</td>\n",
       "      <td id=\"T_560dc_row59_col2\" class=\"data row59 col2\" >-0.025505</td>\n",
       "      <td id=\"T_560dc_row59_col3\" class=\"data row59 col3\" >-0.082652</td>\n",
       "    </tr>\n",
       "    <tr>\n",
       "      <th id=\"T_560dc_level0_row60\" class=\"row_heading level0 row60\" >是否5G网络客户</th>\n",
       "      <td id=\"T_560dc_row60_col0\" class=\"data row60 col0\" >-0.099914</td>\n",
       "      <td id=\"T_560dc_row60_col1\" class=\"data row60 col1\" >-0.117009</td>\n",
       "      <td id=\"T_560dc_row60_col2\" class=\"data row60 col2\" >0.045980</td>\n",
       "      <td id=\"T_560dc_row60_col3\" class=\"data row60 col3\" >-0.084053</td>\n",
       "    </tr>\n",
       "    <tr>\n",
       "      <th id=\"T_560dc_level0_row61\" class=\"row_heading level0 row61\" >是否校园套餐用户</th>\n",
       "      <td id=\"T_560dc_row61_col0\" class=\"data row61 col0\" >-0.133500</td>\n",
       "      <td id=\"T_560dc_row61_col1\" class=\"data row61 col1\" >-0.008468</td>\n",
       "      <td id=\"T_560dc_row61_col2\" class=\"data row61 col2\" >-0.108153</td>\n",
       "      <td id=\"T_560dc_row61_col3\" class=\"data row61 col3\" >-0.058068</td>\n",
       "    </tr>\n",
       "    <tr>\n",
       "      <th id=\"T_560dc_level0_row62\" class=\"row_heading level0 row62\" >校园卡无校园合约用户</th>\n",
       "      <td id=\"T_560dc_row62_col0\" class=\"data row62 col0\" >nan</td>\n",
       "      <td id=\"T_560dc_row62_col1\" class=\"data row62 col1\" >nan</td>\n",
       "      <td id=\"T_560dc_row62_col2\" class=\"data row62 col2\" >nan</td>\n",
       "      <td id=\"T_560dc_row62_col3\" class=\"data row62 col3\" >nan</td>\n",
       "    </tr>\n",
       "    <tr>\n",
       "      <th id=\"T_560dc_level0_row63\" class=\"row_heading level0 row63\" >校园卡校园合约捆绑用户</th>\n",
       "      <td id=\"T_560dc_row63_col0\" class=\"data row63 col0\" >-0.133500</td>\n",
       "      <td id=\"T_560dc_row63_col1\" class=\"data row63 col1\" >-0.008468</td>\n",
       "      <td id=\"T_560dc_row63_col2\" class=\"data row63 col2\" >-0.108153</td>\n",
       "      <td id=\"T_560dc_row63_col3\" class=\"data row63 col3\" >-0.058068</td>\n",
       "    </tr>\n",
       "    <tr>\n",
       "      <th id=\"T_560dc_level0_row64\" class=\"row_heading level0 row64\" >当月高频通信分公司</th>\n",
       "      <td id=\"T_560dc_row64_col0\" class=\"data row64 col0\" >-0.077629</td>\n",
       "      <td id=\"T_560dc_row64_col1\" class=\"data row64 col1\" >-0.096971</td>\n",
       "      <td id=\"T_560dc_row64_col2\" class=\"data row64 col2\" >-0.184576</td>\n",
       "      <td id=\"T_560dc_row64_col3\" class=\"data row64 col3\" >0.035621</td>\n",
       "    </tr>\n",
       "    <tr>\n",
       "      <th id=\"T_560dc_level0_row65\" class=\"row_heading level0 row65\" >主套餐档位</th>\n",
       "      <td id=\"T_560dc_row65_col0\" class=\"data row65 col0\" >-0.357412</td>\n",
       "      <td id=\"T_560dc_row65_col1\" class=\"data row65 col1\" >-0.262685</td>\n",
       "      <td id=\"T_560dc_row65_col2\" class=\"data row65 col2\" >-0.245774</td>\n",
       "      <td id=\"T_560dc_row65_col3\" class=\"data row65 col3\" >-0.196050</td>\n",
       "    </tr>\n",
       "    <tr>\n",
       "      <th id=\"T_560dc_level0_row66\" class=\"row_heading level0 row66\" >当月MOU</th>\n",
       "      <td id=\"T_560dc_row66_col0\" class=\"data row66 col0\" >0.111250</td>\n",
       "      <td id=\"T_560dc_row66_col1\" class=\"data row66 col1\" >0.073394</td>\n",
       "      <td id=\"T_560dc_row66_col2\" class=\"data row66 col2\" >0.038824</td>\n",
       "      <td id=\"T_560dc_row66_col3\" class=\"data row66 col3\" >-0.044242</td>\n",
       "    </tr>\n",
       "    <tr>\n",
       "      <th id=\"T_560dc_level0_row67\" class=\"row_heading level0 row67\" >近3个月平均消费（剔除通信账户支付）</th>\n",
       "      <td id=\"T_560dc_row67_col0\" class=\"data row67 col0\" >-0.280073</td>\n",
       "      <td id=\"T_560dc_row67_col1\" class=\"data row67 col1\" >-0.220446</td>\n",
       "      <td id=\"T_560dc_row67_col2\" class=\"data row67 col2\" >-0.273559</td>\n",
       "      <td id=\"T_560dc_row67_col3\" class=\"data row67 col3\" >-0.170479</td>\n",
       "    </tr>\n",
       "    <tr>\n",
       "      <th id=\"T_560dc_level0_row68\" class=\"row_heading level0 row68\" >近3个月平均消费（元）</th>\n",
       "      <td id=\"T_560dc_row68_col0\" class=\"data row68 col0\" >-0.280073</td>\n",
       "      <td id=\"T_560dc_row68_col1\" class=\"data row68 col1\" >-0.220446</td>\n",
       "      <td id=\"T_560dc_row68_col2\" class=\"data row68 col2\" >-0.273559</td>\n",
       "      <td id=\"T_560dc_row68_col3\" class=\"data row68 col3\" >-0.170479</td>\n",
       "    </tr>\n",
       "    <tr>\n",
       "      <th id=\"T_560dc_level0_row69\" class=\"row_heading level0 row69\" >本年累计消费（元）</th>\n",
       "      <td id=\"T_560dc_row69_col0\" class=\"data row69 col0\" >-0.288301</td>\n",
       "      <td id=\"T_560dc_row69_col1\" class=\"data row69 col1\" >-0.229499</td>\n",
       "      <td id=\"T_560dc_row69_col2\" class=\"data row69 col2\" >-0.276189</td>\n",
       "      <td id=\"T_560dc_row69_col3\" class=\"data row69 col3\" >-0.179846</td>\n",
       "    </tr>\n",
       "    <tr>\n",
       "      <th id=\"T_560dc_level0_row70\" class=\"row_heading level0 row70\" >客户星级标识</th>\n",
       "      <td id=\"T_560dc_row70_col0\" class=\"data row70 col0\" >0.161576</td>\n",
       "      <td id=\"T_560dc_row70_col1\" class=\"data row70 col1\" >0.288625</td>\n",
       "      <td id=\"T_560dc_row70_col2\" class=\"data row70 col2\" >0.148218</td>\n",
       "      <td id=\"T_560dc_row70_col3\" class=\"data row70 col3\" >0.077107</td>\n",
       "    </tr>\n",
       "  </tbody>\n",
       "</table>\n"
      ],
      "text/plain": [
       "<pandas.io.formats.style.Styler at 0x2334c4b86d0>"
      ]
     },
     "execution_count": 7,
     "metadata": {},
     "output_type": "execute_result"
    }
   ],
   "source": [
    "corr_network = train_network.corr(method='kendall').iloc[4:,[0,1,2,3]]\n",
    "train_network.corr(method='kendall').iloc[4:,[0,1,2,3]].style.applymap(apply_colour)"
   ]
  },
  {
   "cell_type": "markdown",
   "id": "6de9a244",
   "metadata": {
    "papermill": {
     "duration": 0.009118,
     "end_time": "2023-01-17T14:54:05.573596",
     "exception": false,
     "start_time": "2023-01-17T14:54:05.564478",
     "status": "completed"
    },
    "tags": []
   },
   "source": [
    "# 特征选择"
   ]
  },
  {
   "cell_type": "markdown",
   "id": "873c0b76",
   "metadata": {
    "papermill": {
     "duration": 0.009004,
     "end_time": "2023-01-17T14:54:05.591863",
     "exception": false,
     "start_time": "2023-01-17T14:54:05.582859",
     "status": "completed"
    },
    "tags": []
   },
   "source": [
    "### 语音"
   ]
  },
  {
   "cell_type": "code",
   "execution_count": 8,
   "id": "ddb82ecc",
   "metadata": {
    "papermill": {
     "duration": 0.037221,
     "end_time": "2023-01-17T14:54:06.407293",
     "exception": false,
     "start_time": "2023-01-17T14:54:06.370072",
     "status": "completed"
    },
    "tags": []
   },
   "outputs": [],
   "source": [
    "train_voice = train_voice.astype('float32')\n",
    "train_network = train_network.astype('float32')\n",
    "train_network.fillna(0, inplace=True)"
   ]
  },
  {
   "cell_type": "code",
   "execution_count": 9,
   "id": "9391ddc1",
   "metadata": {
    "papermill": {
     "duration": 0.353266,
     "end_time": "2023-01-17T14:54:06.774829",
     "exception": false,
     "start_time": "2023-01-17T14:54:06.421563",
     "status": "completed"
    },
    "tags": []
   },
   "outputs": [],
   "source": [
    "y1 = train_voice.iloc[:,:4]\n",
    "x1 = train_voice.iloc[:,4:]\n",
    "\n",
    "y2 = train_network.iloc[:,:4]\n",
    "x2 = train_network.iloc[:,4:]\n",
    "\n",
    "ros = RandomOverSampler(random_state=420)\n",
    "\n",
    "x1_train, x1_test, y1_train, y1_test = train_test_split(x1, y1, test_size=0.2,random_state=420)\n",
    "y1_1_train, y1_2_train, y1_3_train, y1_4_train = y1_train.iloc[:, 0], y1_train.iloc[:, 1], y1_train.iloc[:, 2], y1_train.iloc[:, 3]\n",
    "y1_1_test, y1_2_test, y1_3_test, y1_4_test = y1_test.iloc[:, 0], y1_test.iloc[:, 1], y1_test.iloc[:, 2], y1_test.iloc[:, 3]\n",
    "\n",
    "x2_train, x2_test, y2_train, y2_test = train_test_split(x2, y2, test_size=0.2,random_state=420)\n",
    "y2_1_train, y2_2_train, y2_3_train, y2_4_train = y2_train.iloc[:, 0], y2_train.iloc[:, 1], y2_train.iloc[:, 2], y2_train.iloc[:, 3]\n",
    "y2_1_test, y2_2_test, y2_3_test, y2_4_test = y2_test.iloc[:, 0], y2_test.iloc[:, 1], y2_test.iloc[:, 2], y2_test.iloc[:, 3]\n",
    "\n",
    "le = LabelEncoder()\n",
    "for i in [1,2]:\n",
    "    for j in [1,2,3,4]:\n",
    "        for s in ['train','test']:\n",
    "            exec('y%s_%s_%s=le.fit_transform(y%s_%s_%s)'%(i,j,s,i,j,s))\n",
    "            \n",
    "for i in [1,2,3,4]:\n",
    "    exec('x1_%s_train_balance, y1_%s_train_balance = ros.fit_resample(x1_train, y1_%s_train)'%(i,i,i))\n",
    "\n",
    "\n",
    "for i in [1,2,3,4]:\n",
    "    exec('x2_%s_train_balance, y2_%s_train_balance = ros.fit_resample(x2_train, y2_%s_train)'%(i,i,i))\n",
    "\n"
   ]
  },
  {
   "cell_type": "code",
   "execution_count": 10,
   "id": "95d56148",
   "metadata": {
    "papermill": {
     "duration": 12.942729,
     "end_time": "2023-01-17T14:54:19.731044",
     "exception": false,
     "start_time": "2023-01-17T14:54:06.788315",
     "status": "completed"
    },
    "tags": []
   },
   "outputs": [
    {
     "data": {
      "text/plain": [
       "(4.8218253804964775,\n",
       " 4.2130748865881795,\n",
       " 3.6742346141747673,\n",
       " 2.5495097567963922)"
      ]
     },
     "execution_count": 10,
     "metadata": {},
     "output_type": "execute_result"
    }
   ],
   "source": [
    "from xgboost.sklearn import XGBClassifier\n",
    "from sklearn.ensemble import RandomForestClassifier\n",
    "\n",
    "clf11 = RandomForestClassifier()\n",
    "clf11 = clf11.fit(x1_1_train_balance,y1_1_train_balance) #用训练集数据训练模型\n",
    "#result11 = clf11.score(x1_test,y1_1_test) #对我们训练的模型精度进行打分\n",
    "result11 = RMSE(clf11,x1_test,y1_1_test)#对我们训练的模型精度进行打分\n",
    "importance11 = list(clf11.feature_importances_)\n",
    "\n",
    "clf12 = RandomForestClassifier()\n",
    "clf12 = clf12.fit(x1_2_train_balance,y1_2_train_balance) #用训练集数据训练模型\n",
    "#result12 = clf12.score(x1_test,y1_2_test) #对我们训练的模型精度进行打分\n",
    "result12 = RMSE(clf12,x1_test,y1_2_test) #对我们训练的模型精度进行打分\n",
    "importance12 = list(clf12.feature_importances_)\n",
    "\n",
    "clf13 = RandomForestClassifier()\n",
    "clf13 = clf13.fit(x1_3_train_balance,y1_3_train_balance)#用训练集数据训练模型\n",
    "#result13 = clf13.score(x1_test,y1_3_test) #对我们训练的模型精度进行打分\n",
    "result13 = RMSE(clf13,x1_test,y1_3_test) #对我们训练的模型精度进行打分\n",
    "importance13 = list(clf13.feature_importances_)\n",
    "\n",
    "clf14 = RandomForestClassifier()\n",
    "clf14 = clf14.fit(x1_4_train_balance,y1_4_train_balance) #用训练集数据训练模型\n",
    "#result14 = clf14.score(x1_test,y1_4_test) #对我们训练的模型精度进行打分\n",
    "result14 = RMSE(clf14,x1_test,y1_4_test) #对我们训练的模型精度进行打分\n",
    "importance14 = list(clf14.feature_importances_)\n",
    "result11, result12, result13, result14"
   ]
  },
  {
   "cell_type": "code",
   "execution_count": 11,
   "id": "b4c794d5",
   "metadata": {
    "papermill": {
     "duration": 0.028241,
     "end_time": "2023-01-17T14:54:19.769051",
     "exception": false,
     "start_time": "2023-01-17T14:54:19.740810",
     "status": "completed"
    },
    "tags": []
   },
   "outputs": [
    {
     "data": {
      "text/plain": [
       "[('GPRS总流量（KB）', 0.088),\n",
       " ('语音通话-时长（分钟）', 0.071),\n",
       " ('前3月MOU', 0.068),\n",
       " ('当月MOU', 0.061),\n",
       " ('当月ARPU', 0.058),\n",
       " ('客户星级标识', 0.053),\n",
       " ('通话过程中一方听不见', 0.052),\n",
       " ('终端品牌', 0.049),\n",
       " ('高铁', 0.048),\n",
       " ('手机没有信号', 0.042),\n",
       " ('商业街', 0.038),\n",
       " ('地铁', 0.038),\n",
       " ('办公室', 0.034),\n",
       " ('通话过程中突然中断', 0.033),\n",
       " ('有信号无法拨通', 0.028),\n",
       " ('居民小区', 0.026),\n",
       " ('农村', 0.026),\n",
       " ('是否5G网络客户', 0.024),\n",
       " ('4\\\\5G用户', 0.023),\n",
       " ('当月欠费金额', 0.023),\n",
       " ('是否去过营业厅', 0.022),\n",
       " ('前第3个月欠费金额', 0.022),\n",
       " ('通话中有杂音、听不清、断断续续', 0.021),\n",
       " ('高校', 0.02),\n",
       " ('语音方式', 0.013),\n",
       " ('是否实名登记用户', 0.011),\n",
       " ('是否遇到过网络问题', 0.004),\n",
       " ('套外流量费（元）', 0.002),\n",
       " ('mos质差次数', 0.001),\n",
       " ('套外流量（MB）', 0.001),\n",
       " ('GPRS-国内漫游-流量（KB）', 0.001),\n",
       " ('其他，请注明', 0.0),\n",
       " ('串线', 0.0),\n",
       " ('其他，请注明.1', 0.0),\n",
       " ('脱网次数', 0.0),\n",
       " ('未接通掉话次数', 0.0),\n",
       " ('重定向次数', 0.0),\n",
       " ('重定向驻留时长', 0.0),\n",
       " ('家宽投诉', 0.0),\n",
       " ('资费投诉', 0.0),\n",
       " ('是否关怀用户', 0.0),\n",
       " ('ARPU（家庭宽带）', 0.0),\n",
       " ('是否4G网络客户（本地剔除物联网）', 0.0),\n",
       " ('外省语音占比', 0.0),\n",
       " ('省际漫游-时长（分钟）', 0.0),\n",
       " ('前3月ARPU', 0.0),\n",
       " ('外省流量占比', 0.0)]"
      ]
     },
     "execution_count": 11,
     "metadata": {},
     "output_type": "execute_result"
    }
   ],
   "source": [
    "feature_list1 = list(train_voice.columns)[4:]\n",
    "importance1 = [i for i in (importance11 + importance12 + importance13 + importance14)]\n",
    "feature_importance1 = [(feature, round(importance, 3)) for feature, importance in zip(feature_list1, importance1)]\n",
    "feature_importance1= sorted(feature_importance1, key=lambda x: x[1], reverse=True)\n",
    "feature_importance1"
   ]
  },
  {
   "cell_type": "code",
   "execution_count": 12,
   "id": "8bcbd955",
   "metadata": {
    "papermill": {
     "duration": 0.627739,
     "end_time": "2023-01-17T14:54:20.407814",
     "exception": false,
     "start_time": "2023-01-17T14:54:19.780075",
     "status": "completed"
    },
    "tags": []
   },
   "outputs": [
    {
     "data": {
      "text/plain": [
       "<Figure size 2000x1000 with 0 Axes>"
      ]
     },
     "execution_count": 12,
     "metadata": {},
     "output_type": "execute_result"
    },
    {
     "data": {
      "text/plain": [
       "<BarContainer object of 47 artists>"
      ]
     },
     "execution_count": 12,
     "metadata": {},
     "output_type": "execute_result"
    },
    {
     "data": {
      "text/plain": [
       "Text(0, 0.5, 'Importance')"
      ]
     },
     "execution_count": 12,
     "metadata": {},
     "output_type": "execute_result"
    },
    {
     "data": {
      "text/plain": [
       "Text(0.5, 0, 'Variable')"
      ]
     },
     "execution_count": 12,
     "metadata": {},
     "output_type": "execute_result"
    },
    {
     "data": {
      "text/plain": [
       "Text(0.5, 1.0, 'Variable Importances')"
      ]
     },
     "execution_count": 12,
     "metadata": {},
     "output_type": "execute_result"
    },
    {
     "data": {
      "image/png": "[encoded data removed]",
      "text/plain": [
       "<Figure size 2000x1000 with 1 Axes>"
      ]
     },
     "metadata": {},
     "output_type": "display_data"
    }
   ],
   "source": [
    "x1_values = list(range(len(feature_importance1)))\n",
    "plt.figure(figsize=(20, 10), dpi=100)\n",
    "plt.bar(range(len(x1_values)), pd.DataFrame(feature_importance1).iloc[:,1], orientation='vertical')\n",
    "#plt.xticks(x1_values, feature_list1, rotation=270)\n",
    "plt.ylabel('Importance')\n",
    "plt.xlabel('Variable')\n",
    "plt.title('Variable Importances')\n",
    "plt.grid(axis='y')\n",
    "plt.savefig('d1.jpg')\n",
    "plt.show()"
   ]
  },
  {
   "cell_type": "code",
   "execution_count": 13,
   "id": "c6fd6ac8",
   "metadata": {
    "papermill": {
     "duration": 0.021256,
     "end_time": "2023-01-17T14:54:20.440387",
     "exception": false,
     "start_time": "2023-01-17T14:54:20.419131",
     "status": "completed"
    },
    "tags": []
   },
   "outputs": [],
   "source": [
    "def permutation_importances(model, X, y, metric):\n",
    "    baseline = metric(model,X, y)\n",
    "    imp = []\n",
    "    for col in X.columns:\n",
    "        save = X[col].copy()\n",
    "        X[col] = np.random.permutation(X[col])\n",
    "        m = metric(model,X, y)\n",
    "        X[col] = save\n",
    "        imp.append(baseline - m)\n",
    "    return np.array(imp)"
   ]
  },
  {
   "cell_type": "code",
   "execution_count": 14,
   "id": "898e4eba",
   "metadata": {
    "papermill": {
     "duration": 11.857525,
     "end_time": "2023-01-17T14:54:32.309415",
     "exception": false,
     "start_time": "2023-01-17T14:54:20.451890",
     "status": "completed"
    },
    "tags": []
   },
   "outputs": [
    {
     "data": {
      "text/plain": [
       "[('农村', 0.974),\n",
       " ('GPRS总流量（KB）', 0.746),\n",
       " ('高铁', 0.55),\n",
       " ('办公室', 0.428),\n",
       " ('语音通话-时长（分钟）', 0.424),\n",
       " ('是否遇到过网络问题', 0.0),\n",
       " ('居民小区', 0.0),\n",
       " ('高校', 0.0),\n",
       " ('商业街', 0.0),\n",
       " ('地铁', 0.0),\n",
       " ('其他，请注明', 0.0),\n",
       " ('手机没有信号', 0.0),\n",
       " ('有信号无法拨通', 0.0),\n",
       " ('通话过程中突然中断', 0.0),\n",
       " ('通话中有杂音、听不清、断断续续', 0.0),\n",
       " ('串线', 0.0),\n",
       " ('通话过程中一方听不见', 0.0),\n",
       " ('其他，请注明.1', 0.0),\n",
       " ('脱网次数', 0.0),\n",
       " ('mos质差次数', 0.0),\n",
       " ('未接通掉话次数', 0.0),\n",
       " ('重定向次数', 0.0),\n",
       " ('重定向驻留时长', 0.0),\n",
       " ('家宽投诉', 0.0),\n",
       " ('资费投诉', 0.0),\n",
       " ('4\\\\5G用户', 0.0),\n",
       " ('语音方式', 0.0),\n",
       " ('是否关怀用户', 0.0),\n",
       " ('是否去过营业厅', 0.0),\n",
       " ('ARPU（家庭宽带）', 0.0),\n",
       " ('套外流量（MB）', 0.0),\n",
       " ('是否4G网络客户（本地剔除物联网）', 0.0),\n",
       " ('套外流量费（元）', 0.0),\n",
       " ('外省语音占比', 0.0),\n",
       " ('省际漫游-时长（分钟）', 0.0),\n",
       " ('终端品牌', 0.0),\n",
       " ('当月ARPU', 0.0),\n",
       " ('当月MOU', 0.0),\n",
       " ('前3月ARPU', 0.0),\n",
       " ('前3月MOU', 0.0),\n",
       " ('外省流量占比', 0.0),\n",
       " ('GPRS-国内漫游-流量（KB）', 0.0),\n",
       " ('是否5G网络客户', 0.0),\n",
       " ('是否实名登记用户', 0.0),\n",
       " ('客户星级标识', 0.0),\n",
       " ('当月欠费金额', 0.0),\n",
       " ('前第3个月欠费金额', 0.0)]"
      ]
     },
     "execution_count": 14,
     "metadata": {},
     "output_type": "execute_result"
    }
   ],
   "source": [
    "from sklearn.metrics import accuracy_score\n",
    "im1=abs(permutation_importances(clf11,x1_test,y1_1_test,RMSE))\n",
    "im2=abs(permutation_importances(clf12,x1_test,y1_2_test,RMSE))\n",
    "im3=abs(permutation_importances(clf13,x1_test,y1_3_test,RMSE))\n",
    "im4=abs(permutation_importances(clf14,x1_test,y1_4_test,RMSE))\n",
    "feature_list1 = list(train_voice.columns)[4:]\n",
    "importance2 = [i for i in (im1+im2+im3+im4)]\n",
    "feature_importance = [(feature, round(importance, 3)) for feature, importance in zip(feature_list1, (im1+im2+im3+im4))]\n",
    "feature_importance=sorted(feature_importance, key=lambda x: x[1], reverse=True)\n",
    "feature_importance"
   ]
  },
  {
   "cell_type": "code",
   "execution_count": 15,
   "id": "9872b6f2",
   "metadata": {
    "papermill": {
     "duration": 0.574483,
     "end_time": "2023-01-17T14:54:32.894783",
     "exception": false,
     "start_time": "2023-01-17T14:54:32.320300",
     "status": "completed"
    },
    "tags": []
   },
   "outputs": [
    {
     "data": {
      "text/plain": [
       "<Figure size 2000x1000 with 0 Axes>"
      ]
     },
     "execution_count": 15,
     "metadata": {},
     "output_type": "execute_result"
    },
    {
     "data": {
      "text/plain": [
       "<BarContainer object of 47 artists>"
      ]
     },
     "execution_count": 15,
     "metadata": {},
     "output_type": "execute_result"
    },
    {
     "data": {
      "text/plain": [
       "Text(0, 0.5, 'Importance')"
      ]
     },
     "execution_count": 15,
     "metadata": {},
     "output_type": "execute_result"
    },
    {
     "data": {
      "text/plain": [
       "Text(0.5, 0, 'Variable')"
      ]
     },
     "execution_count": 15,
     "metadata": {},
     "output_type": "execute_result"
    },
    {
     "data": {
      "text/plain": [
       "Text(0.5, 1.0, 'Variable Importances')"
      ]
     },
     "execution_count": 15,
     "metadata": {},
     "output_type": "execute_result"
    },
    {
     "data": {
      "image/png": "[encoded data removed]",
      "text/plain": [
       "<Figure size 2000x1000 with 1 Axes>"
      ]
     },
     "metadata": {},
     "output_type": "display_data"
    }
   ],
   "source": [
    "x1_values = list(range(len(feature_importance)))\n",
    "plt.figure(figsize=(20, 10), dpi=100)\n",
    "plt.bar(range(len(x1_values)), pd.DataFrame(feature_importance).iloc[:,1], orientation='vertical')\n",
    "#plt.xticks(x1_values, feature_list1, rotation=270)\n",
    "plt.ylabel('Importance')\n",
    "plt.xlabel('Variable')\n",
    "plt.title('Variable Importances')\n",
    "plt.grid(axis='y')\n",
    "plt.savefig('d1.jpg')\n",
    "plt.show()"
   ]
  },
  {
   "cell_type": "code",
   "execution_count": 16,
   "id": "7e964306",
   "metadata": {
    "papermill": {
     "duration": 0.101924,
     "end_time": "2023-01-17T14:54:33.009190",
     "exception": false,
     "start_time": "2023-01-17T14:54:32.907266",
     "status": "completed"
    },
    "tags": []
   },
   "outputs": [
    {
     "data": {
      "text/plain": [
       "'是否遇到过网络问题'"
      ]
     },
     "execution_count": 16,
     "metadata": {},
     "output_type": "execute_result"
    },
    {
     "data": {
      "text/plain": [
       "'居民小区'"
      ]
     },
     "execution_count": 16,
     "metadata": {},
     "output_type": "execute_result"
    },
    {
     "data": {
      "text/plain": [
       "'办公室'"
      ]
     },
     "execution_count": 16,
     "metadata": {},
     "output_type": "execute_result"
    },
    {
     "data": {
      "text/plain": [
       "'商业街'"
      ]
     },
     "execution_count": 16,
     "metadata": {},
     "output_type": "execute_result"
    },
    {
     "data": {
      "text/plain": [
       "'地铁'"
      ]
     },
     "execution_count": 16,
     "metadata": {},
     "output_type": "execute_result"
    },
    {
     "data": {
      "text/plain": [
       "'农村'"
      ]
     },
     "execution_count": 16,
     "metadata": {},
     "output_type": "execute_result"
    },
    {
     "data": {
      "text/plain": [
       "'高铁'"
      ]
     },
     "execution_count": 16,
     "metadata": {},
     "output_type": "execute_result"
    },
    {
     "data": {
      "text/plain": [
       "'手机没有信号'"
      ]
     },
     "execution_count": 16,
     "metadata": {},
     "output_type": "execute_result"
    },
    {
     "data": {
      "text/plain": [
       "'有信号无法拨通'"
      ]
     },
     "execution_count": 16,
     "metadata": {},
     "output_type": "execute_result"
    },
    {
     "data": {
      "text/plain": [
       "'通话过程中突然中断'"
      ]
     },
     "execution_count": 16,
     "metadata": {},
     "output_type": "execute_result"
    },
    {
     "data": {
      "text/plain": [
       "'通话中有杂音、听不清、断断续续'"
      ]
     },
     "execution_count": 16,
     "metadata": {},
     "output_type": "execute_result"
    },
    {
     "data": {
      "text/plain": [
       "'通话过程中一方听不见'"
      ]
     },
     "execution_count": 16,
     "metadata": {},
     "output_type": "execute_result"
    },
    {
     "data": {
      "text/plain": [
       "'4\\\\5G用户'"
      ]
     },
     "execution_count": 16,
     "metadata": {},
     "output_type": "execute_result"
    },
    {
     "data": {
      "text/plain": [
       "'是否去过营业厅'"
      ]
     },
     "execution_count": 16,
     "metadata": {},
     "output_type": "execute_result"
    },
    {
     "data": {
      "text/plain": [
       "'语音通话-时长（分钟）'"
      ]
     },
     "execution_count": 16,
     "metadata": {},
     "output_type": "execute_result"
    },
    {
     "data": {
      "text/plain": [
       "'终端品牌'"
      ]
     },
     "execution_count": 16,
     "metadata": {},
     "output_type": "execute_result"
    },
    {
     "data": {
      "text/plain": [
       "'当月ARPU'"
      ]
     },
     "execution_count": 16,
     "metadata": {},
     "output_type": "execute_result"
    },
    {
     "data": {
      "text/plain": [
       "'当月MOU'"
      ]
     },
     "execution_count": 16,
     "metadata": {},
     "output_type": "execute_result"
    },
    {
     "data": {
      "text/plain": [
       "'前3月MOU'"
      ]
     },
     "execution_count": 16,
     "metadata": {},
     "output_type": "execute_result"
    },
    {
     "data": {
      "text/plain": [
       "'GPRS总流量（KB）'"
      ]
     },
     "execution_count": 16,
     "metadata": {},
     "output_type": "execute_result"
    },
    {
     "data": {
      "text/plain": [
       "'是否5G网络客户'"
      ]
     },
     "execution_count": 16,
     "metadata": {},
     "output_type": "execute_result"
    }
   ],
   "source": [
    "voice_list = []\n",
    "for i in corr_voice.T.columns:\n",
    "    if(abs(corr_voice.T[i].mean())>0.1 or (importance1[list(corr_voice.T.columns).index(i)] > 0.015 and  importance2[list(corr_voice.T.columns).index(i)] > 0.076)):i"
   ]
  },
  {
   "cell_type": "markdown",
   "id": "4a25e81f",
   "metadata": {
    "papermill": {
     "duration": 0.013367,
     "end_time": "2023-01-17T14:54:33.036764",
     "exception": false,
     "start_time": "2023-01-17T14:54:33.023397",
     "status": "completed"
    },
    "tags": []
   },
   "source": [
    "### 上网"
   ]
  },
  {
   "cell_type": "code",
   "execution_count": 17,
   "id": "e8670bdf",
   "metadata": {
    "papermill": {
     "duration": 6.278365,
     "end_time": "2023-01-17T14:54:39.329170",
     "exception": false,
     "start_time": "2023-01-17T14:54:33.050805",
     "status": "completed"
    },
    "tags": []
   },
   "outputs": [
    {
     "data": {
      "text/plain": [
       "(0.0, 0.0, 0.0, 0.0)"
      ]
     },
     "execution_count": 17,
     "metadata": {},
     "output_type": "execute_result"
    }
   ],
   "source": [
    "clf21 = RandomForestClassifier()\n",
    "clf21 = clf21.fit(x2_train,y2_1_train) #用训练集数据训练模型\n",
    "result21 = clf21.score(x2_test,y2_1_test) #对我们训练的模型精度进行打分\n",
    "importance21 = list(clf21.feature_importances_)\n",
    "\n",
    "clf22 = RandomForestClassifier()\n",
    "clf22 = clf22.fit(x2_train,y2_2_train) #用训练集数据训练模型\n",
    "result22 = clf22.score(x2_test,y2_2_test) #对我们训练的模型精度进行打分\n",
    "importance22 = list(clf22.feature_importances_)\n",
    "\n",
    "clf23 = RandomForestClassifier()\n",
    "clf23 = clf23.fit(x2_train,y2_3_train) #用训练集数据训练模型\n",
    "result23 = clf23.score(x2_test,y2_3_test) #对我们训练的模型精度进行打分\n",
    "importance23 = list(clf23.feature_importances_)\n",
    "\n",
    "clf24 =RandomForestClassifier()\n",
    "clf24 = clf24.fit(x2_train,y2_4_train) #用训练集数据训练模型\n",
    "result24 = clf24.score(x2_test,y2_4_test) #对我们训练的模型精度进行打分\n",
    "importance24 = list(clf24.feature_importances_)\n",
    "result21, result22, result23, result24"
   ]
  },
  {
   "cell_type": "code",
   "execution_count": 18,
   "id": "da70e586",
   "metadata": {
    "papermill": {
     "duration": 0.035278,
     "end_time": "2023-01-17T14:54:39.378807",
     "exception": false,
     "start_time": "2023-01-17T14:54:39.343529",
     "status": "completed"
    },
    "tags": []
   },
   "outputs": [
    {
     "data": {
      "text/plain": [
       "[('本年累计消费（元）', 0.048),\n",
       " ('当月MOU', 0.047),\n",
       " ('近3个月平均消费（剔除通信账户支付）', 0.046),\n",
       " ('重定向次数', 0.045),\n",
       " ('年龄', 0.035),\n",
       " ('主套餐档位', 0.033),\n",
       " ('当月GPRS资源使用量（GB）', 0.032),\n",
       " ('抖音使用流量（MB）', 0.029),\n",
       " ('近3个月平均消费（元）', 0.029),\n",
       " ('客户星级标识', 0.026),\n",
       " ('2G驻留时长', 0.025),\n",
       " ('当月高频通信分公司', 0.024),\n",
       " ('地铁', 0.022),\n",
       " ('是否校园套餐用户', 0.02),\n",
       " ('微信质差次数', 0.018),\n",
       " ('滴滴出行使用流量', 0.018),\n",
       " ('是否5G网络客户', 0.018),\n",
       " ('性别', 0.017),\n",
       " ('蜻蜓FMAPP使用流量', 0.017),\n",
       " ('终端品牌', 0.017),\n",
       " ('小视频系APP流量', 0.016),\n",
       " ('手机上网速度慢', 0.015),\n",
       " ('上网质差次数', 0.015),\n",
       " ('居民小区', 0.014),\n",
       " ('显示有信号上不了网', 0.014),\n",
       " ('脱网次数', 0.014),\n",
       " ('快手使用流量', 0.013),\n",
       " ('游戏类应用流量', 0.013),\n",
       " ('终端制式', 0.013),\n",
       " ('商业街', 0.012),\n",
       " ('王者荣耀使用天数', 0.012),\n",
       " ('农村', 0.011),\n",
       " ('手机支付较慢', 0.011),\n",
       " ('天猫使用流量', 0.011),\n",
       " ('畅享套餐档位', 0.011),\n",
       " ('办公室', 0.01),\n",
       " ('看视频卡顿', 0.01),\n",
       " ('阿里系APP流量', 0.01),\n",
       " ('视频类应用流量', 0.01),\n",
       " ('新浪微博', 0.009),\n",
       " ('王者荣耀使用次数', 0.009),\n",
       " ('游戏类APP使用天数', 0.009),\n",
       " ('腾讯视频使用流量', 0.009),\n",
       " ('音乐类应用流量', 0.009),\n",
       " ('校园卡校园合约捆绑用户', 0.009),\n",
       " ('其他，请注明', 0.008),\n",
       " ('上网过程中网络时断时续或时快时慢', 0.008),\n",
       " ('其他，请注明.1', 0.008),\n",
       " ('网页类应用流量', 0.008),\n",
       " ('其他，请注明.3', 0.007),\n",
       " ('淘宝', 0.007),\n",
       " ('游戏类APP使用流量', 0.007),\n",
       " ('网易系APP流量', 0.007),\n",
       " ('饿了么使用流量', 0.007),\n",
       " ('全部都卡顿', 0.006),\n",
       " ('今日头条使用流量', 0.006),\n",
       " ('王者荣耀APP使用流量', 0.006),\n",
       " ('大众点评使用流量', 0.006),\n",
       " ('通信类应用流量', 0.006),\n",
       " ('网络信号差/没有信号', 0.005),\n",
       " ('京东', 0.004),\n",
       " ('优酷视频使用流量', 0.004),\n",
       " ('腾讯系APP流量', 0.004),\n",
       " ('邮箱类应用流量', 0.004),\n",
       " ('高铁', 0.003),\n",
       " ('打游戏延时大', 0.003),\n",
       " ('其他，请注明.2', 0.003),\n",
       " ('王者荣耀', 0.003),\n",
       " ('其他，请注明.4', 0.003),\n",
       " ('百度', 0.003),\n",
       " ('套外流量（MB）', 0.003),\n",
       " ('下载速度慢', 0.002),\n",
       " ('套外流量费（元）', 0.002),\n",
       " ('高校', 0.001),\n",
       " ('游戏类APP使用次数', 0.001),\n",
       " ('打开网页或APP图片慢', 0.0),\n",
       " ('爱奇艺', 0.0),\n",
       " ('优酷', 0.0),\n",
       " ('腾讯视频', 0.0),\n",
       " ('芒果TV', 0.0),\n",
       " ('搜狐视频', 0.0),\n",
       " ('抖音', 0.0),\n",
       " ('快手', 0.0),\n",
       " ('火山', 0.0),\n",
       " ('咪咕视频', 0.0),\n",
       " ('和平精英', 0.0),\n",
       " ('穿越火线', 0.0),\n",
       " ('梦幻西游', 0.0),\n",
       " ('龙之谷', 0.0),\n",
       " ('梦幻诛仙', 0.0),\n",
       " ('欢乐斗地主', 0.0),\n",
       " ('部落冲突', 0.0),\n",
       " ('炉石传说', 0.0),\n",
       " ('阴阳师', 0.0),\n",
       " ('全部游戏都卡顿', 0.0),\n",
       " ('微信', 0.0),\n",
       " ('手机QQ', 0.0),\n",
       " ('今日头条', 0.0),\n",
       " ('拼多多', 0.0),\n",
       " ('其他，请注明.5', 0.0),\n",
       " ('全部网页或APP都慢', 0.0),\n",
       " ('王者荣耀质差次数', 0.0),\n",
       " ('高单价超套客户（集团）', 0.0),\n",
       " ('高频高额超套客户（集团）', 0.0),\n",
       " ('是否全月漫游用户', 0.0),\n",
       " ('是否不限量套餐到达用户', 0.0),\n",
       " ('美团外卖使用流量', 0.0),\n",
       " ('终端类型', 0.0),\n",
       " ('校园卡无校园合约用户', 0.0)]"
      ]
     },
     "execution_count": 18,
     "metadata": {},
     "output_type": "execute_result"
    }
   ],
   "source": [
    "feature_list2 = list(train_network.columns)[4:]\n",
    "importance2 = [i for i in (importance21 + importance22 + importance23 + importance24)]\n",
    "feature_importance2 = [(feature, round(importance, 3)) for feature, importance in zip(feature_list2, importance2)]\n",
    "feature_importance2 = sorted(feature_importance2, key=lambda x: x[1], reverse=True)\n",
    "feature_importance2"
   ]
  },
  {
   "cell_type": "code",
   "execution_count": 19,
   "id": "9e23ba82",
   "metadata": {
    "papermill": {
     "duration": 0.724489,
     "end_time": "2023-01-17T14:54:40.118059",
     "exception": false,
     "start_time": "2023-01-17T14:54:39.393570",
     "status": "completed"
    },
    "tags": []
   },
   "outputs": [
    {
     "data": {
      "text/plain": [
       "<Figure size 2000x1000 with 0 Axes>"
      ]
     },
     "execution_count": 19,
     "metadata": {},
     "output_type": "execute_result"
    },
    {
     "data": {
      "text/plain": [
       "<BarContainer object of 109 artists>"
      ]
     },
     "execution_count": 19,
     "metadata": {},
     "output_type": "execute_result"
    },
    {
     "data": {
      "text/plain": [
       "Text(0, 0.5, 'Importance')"
      ]
     },
     "execution_count": 19,
     "metadata": {},
     "output_type": "execute_result"
    },
    {
     "data": {
      "text/plain": [
       "Text(0.5, 0, 'Variable')"
      ]
     },
     "execution_count": 19,
     "metadata": {},
     "output_type": "execute_result"
    },
    {
     "data": {
      "text/plain": [
       "Text(0.5, 1.0, 'Variable Importances')"
      ]
     },
     "execution_count": 19,
     "metadata": {},
     "output_type": "execute_result"
    },
    {
     "data": {
      "image/png": "[encoded data removed]",
      "text/plain": [
       "<Figure size 2000x1000 with 1 Axes>"
      ]
     },
     "metadata": {},
     "output_type": "display_data"
    }
   ],
   "source": [
    "x2_values = list(range(len(feature_importance2)))\n",
    "plt.figure(figsize=(20, 10), dpi=100)\n",
    "plt.bar(range(len(x2_values)), pd.DataFrame(feature_importance2).iloc[:,1], orientation='vertical')\n",
    "#plt.xticks(x1_values, feature_list1, rotation=270)\n",
    "plt.ylabel('Importance')\n",
    "plt.xlabel('Variable')\n",
    "plt.title('Variable Importances')\n",
    "plt.grid(axis='y')\n",
    "plt.savefig('d1.jpg')\n",
    "plt.show()"
   ]
  },
  {
   "cell_type": "code",
   "execution_count": 20,
   "id": "965fbb87",
   "metadata": {
    "papermill": {
     "duration": 33.433572,
     "end_time": "2023-01-17T14:55:13.567039",
     "exception": false,
     "start_time": "2023-01-17T14:54:40.133467",
     "status": "completed"
    },
    "tags": []
   },
   "outputs": [
    {
     "data": {
      "text/plain": [
       "[('微信质差次数', 0.956),\n",
       " ('2G驻留时长', 0.937),\n",
       " ('当月GPRS资源使用量（GB）', 0.702),\n",
       " ('办公室', 0.577),\n",
       " ('商业街', 0.577),\n",
       " ('终端品牌', 0.577),\n",
       " ('客户星级标识', 0.577),\n",
       " ('本年累计消费（元）', 0.549),\n",
       " ('上网过程中网络时断时续或时快时慢', 0.42),\n",
       " ('畅享套餐档位', 0.419),\n",
       " ('百度', 0.36),\n",
       " ('抖音使用流量（MB）', 0.36),\n",
       " ('滴滴出行使用流量', 0.36),\n",
       " ('近3个月平均消费（剔除通信账户支付）', 0.36),\n",
       " ('地铁', 0.342),\n",
       " ('手机上网速度慢', 0.342),\n",
       " ('打开网页或APP图片慢', 0.342),\n",
       " ('邮箱类应用流量', 0.342),\n",
       " ('主套餐档位', 0.342),\n",
       " ('当月MOU', 0.342),\n",
       " ('套外流量费（元）', 0.254),\n",
       " ('王者荣耀使用天数', 0.254),\n",
       " ('蜻蜓FMAPP使用流量', 0.254),\n",
       " ('是否校园套餐用户', 0.254),\n",
       " ('重定向次数', 0.139),\n",
       " ('近3个月平均消费（元）', 0.071),\n",
       " ('居民小区', 0.0),\n",
       " ('高校', 0.0),\n",
       " ('农村', 0.0),\n",
       " ('高铁', 0.0),\n",
       " ('其他，请注明', 0.0),\n",
       " ('网络信号差/没有信号', 0.0),\n",
       " ('显示有信号上不了网', 0.0),\n",
       " ('其他，请注明.1', 0.0),\n",
       " ('看视频卡顿', 0.0),\n",
       " ('打游戏延时大', 0.0),\n",
       " ('下载速度慢', 0.0),\n",
       " ('手机支付较慢', 0.0),\n",
       " ('其他，请注明.2', 0.0),\n",
       " ('爱奇艺', 0.0),\n",
       " ('优酷', 0.0),\n",
       " ('腾讯视频', 0.0),\n",
       " ('芒果TV', 0.0),\n",
       " ('搜狐视频', 0.0),\n",
       " ('抖音', 0.0),\n",
       " ('快手', 0.0),\n",
       " ('火山', 0.0),\n",
       " ('咪咕视频', 0.0),\n",
       " ('其他，请注明.3', 0.0),\n",
       " ('全部都卡顿', 0.0),\n",
       " ('和平精英', 0.0),\n",
       " ('王者荣耀', 0.0),\n",
       " ('穿越火线', 0.0),\n",
       " ('梦幻西游', 0.0),\n",
       " ('龙之谷', 0.0),\n",
       " ('梦幻诛仙', 0.0),\n",
       " ('欢乐斗地主', 0.0),\n",
       " ('部落冲突', 0.0),\n",
       " ('炉石传说', 0.0),\n",
       " ('阴阳师', 0.0),\n",
       " ('其他，请注明.4', 0.0),\n",
       " ('全部游戏都卡顿', 0.0),\n",
       " ('微信', 0.0),\n",
       " ('手机QQ', 0.0),\n",
       " ('淘宝', 0.0),\n",
       " ('京东', 0.0),\n",
       " ('今日头条', 0.0),\n",
       " ('新浪微博', 0.0),\n",
       " ('拼多多', 0.0),\n",
       " ('其他，请注明.5', 0.0),\n",
       " ('全部网页或APP都慢', 0.0),\n",
       " ('上网质差次数', 0.0),\n",
       " ('脱网次数', 0.0),\n",
       " ('王者荣耀质差次数', 0.0),\n",
       " ('高单价超套客户（集团）', 0.0),\n",
       " ('高频高额超套客户（集团）', 0.0),\n",
       " ('套外流量（MB）', 0.0),\n",
       " ('是否全月漫游用户', 0.0),\n",
       " ('是否不限量套餐到达用户', 0.0),\n",
       " ('年龄', 0.0),\n",
       " ('性别', 0.0),\n",
       " ('王者荣耀使用次数', 0.0),\n",
       " ('游戏类APP使用天数', 0.0),\n",
       " ('游戏类APP使用次数', 0.0),\n",
       " ('游戏类APP使用流量', 0.0),\n",
       " ('今日头条使用流量', 0.0),\n",
       " ('快手使用流量', 0.0),\n",
       " ('优酷视频使用流量', 0.0),\n",
       " ('腾讯视频使用流量', 0.0),\n",
       " ('小视频系APP流量', 0.0),\n",
       " ('阿里系APP流量', 0.0),\n",
       " ('网易系APP流量', 0.0),\n",
       " ('腾讯系APP流量', 0.0),\n",
       " ('王者荣耀APP使用流量', 0.0),\n",
       " ('饿了么使用流量', 0.0),\n",
       " ('美团外卖使用流量', 0.0),\n",
       " ('天猫使用流量', 0.0),\n",
       " ('大众点评使用流量', 0.0),\n",
       " ('通信类应用流量', 0.0),\n",
       " ('游戏类应用流量', 0.0),\n",
       " ('网页类应用流量', 0.0),\n",
       " ('音乐类应用流量', 0.0),\n",
       " ('视频类应用流量', 0.0),\n",
       " ('终端类型', 0.0),\n",
       " ('终端制式', 0.0),\n",
       " ('是否5G网络客户', 0.0),\n",
       " ('校园卡无校园合约用户', 0.0),\n",
       " ('校园卡校园合约捆绑用户', 0.0),\n",
       " ('当月高频通信分公司', 0.0)]"
      ]
     },
     "execution_count": 20,
     "metadata": {},
     "output_type": "execute_result"
    }
   ],
   "source": [
    "from sklearn.metrics import accuracy_score\n",
    "im1=abs(permutation_importances(clf21,x2_test,y2_1_test,RMSE))\n",
    "im2=abs(permutation_importances(clf22,x2_test,y2_2_test,RMSE))\n",
    "im3=abs(permutation_importances(clf23,x2_test,y2_3_test,RMSE))\n",
    "im4=abs(permutation_importances(clf24,x2_test,y2_4_test,RMSE))\n",
    "feature_list1 = list(train_network.columns)[4:]\n",
    "importance2 = [i for i in (im1+im2+im3+im4)]\n",
    "feature_importance = [(feature, round(importance, 3)) for feature, importance in zip(feature_list1, (im1+im2+im3+im4))]\n",
    "feature_importance=sorted(feature_importance, key=lambda x: x[1], reverse=True)\n",
    "feature_importance"
   ]
  },
  {
   "cell_type": "code",
   "execution_count": 21,
   "id": "e59f0c24",
   "metadata": {
    "papermill": {
     "duration": 0.738418,
     "end_time": "2023-01-17T14:55:14.321271",
     "exception": false,
     "start_time": "2023-01-17T14:55:13.582853",
     "status": "completed"
    },
    "tags": []
   },
   "outputs": [
    {
     "data": {
      "text/plain": [
       "<Figure size 2000x1000 with 0 Axes>"
      ]
     },
     "execution_count": 21,
     "metadata": {},
     "output_type": "execute_result"
    },
    {
     "data": {
      "text/plain": [
       "<BarContainer object of 109 artists>"
      ]
     },
     "execution_count": 21,
     "metadata": {},
     "output_type": "execute_result"
    },
    {
     "data": {
      "text/plain": [
       "Text(0, 0.5, 'Importance')"
      ]
     },
     "execution_count": 21,
     "metadata": {},
     "output_type": "execute_result"
    },
    {
     "data": {
      "text/plain": [
       "Text(0.5, 0, 'Variable')"
      ]
     },
     "execution_count": 21,
     "metadata": {},
     "output_type": "execute_result"
    },
    {
     "data": {
      "text/plain": [
       "Text(0.5, 1.0, 'Variable Importances')"
      ]
     },
     "execution_count": 21,
     "metadata": {},
     "output_type": "execute_result"
    },
    {
     "data": {
      "image/png": "[encoded data removed]",
      "text/plain": [
       "<Figure size 2000x1000 with 1 Axes>"
      ]
     },
     "metadata": {},
     "output_type": "display_data"
    }
   ],
   "source": [
    "x1_values = list(range(len(feature_importance)))\n",
    "plt.figure(figsize=(20, 10), dpi=100)\n",
    "plt.bar(range(len(x1_values)), pd.DataFrame(feature_importance).iloc[:,1], orientation='vertical')\n",
    "#plt.xticks(x1_values, feature_list1, rotation=270)\n",
    "plt.ylabel('Importance')\n",
    "plt.xlabel('Variable')\n",
    "plt.title('Variable Importances')\n",
    "plt.grid(axis='y')\n",
    "plt.savefig('d1.jpg')\n",
    "plt.show()"
   ]
  },
  {
   "cell_type": "code",
   "execution_count": 22,
   "id": "18ce65f8",
   "metadata": {
    "papermill": {
     "duration": 0.182124,
     "end_time": "2023-01-17T14:55:14.522383",
     "exception": false,
     "start_time": "2023-01-17T14:55:14.340259",
     "status": "completed"
    },
    "tags": []
   },
   "outputs": [
    {
     "data": {
      "text/plain": [
       "'居民小区'"
      ]
     },
     "execution_count": 22,
     "metadata": {},
     "output_type": "execute_result"
    },
    {
     "data": {
      "text/plain": [
       "'办公室'"
      ]
     },
     "execution_count": 22,
     "metadata": {},
     "output_type": "execute_result"
    },
    {
     "data": {
      "text/plain": [
       "'商业街'"
      ]
     },
     "execution_count": 22,
     "metadata": {},
     "output_type": "execute_result"
    },
    {
     "data": {
      "text/plain": [
       "'地铁'"
      ]
     },
     "execution_count": 22,
     "metadata": {},
     "output_type": "execute_result"
    },
    {
     "data": {
      "text/plain": [
       "'农村'"
      ]
     },
     "execution_count": 22,
     "metadata": {},
     "output_type": "execute_result"
    },
    {
     "data": {
      "text/plain": [
       "'高铁'"
      ]
     },
     "execution_count": 22,
     "metadata": {},
     "output_type": "execute_result"
    },
    {
     "data": {
      "text/plain": [
       "'其他，请注明'"
      ]
     },
     "execution_count": 22,
     "metadata": {},
     "output_type": "execute_result"
    },
    {
     "data": {
      "text/plain": [
       "'显示有信号上不了网'"
      ]
     },
     "execution_count": 22,
     "metadata": {},
     "output_type": "execute_result"
    },
    {
     "data": {
      "text/plain": [
       "'上网过程中网络时断时续或时快时慢'"
      ]
     },
     "execution_count": 22,
     "metadata": {},
     "output_type": "execute_result"
    },
    {
     "data": {
      "text/plain": [
       "'手机上网速度慢'"
      ]
     },
     "execution_count": 22,
     "metadata": {},
     "output_type": "execute_result"
    },
    {
     "data": {
      "text/plain": [
       "'其他，请注明.1'"
      ]
     },
     "execution_count": 22,
     "metadata": {},
     "output_type": "execute_result"
    },
    {
     "data": {
      "text/plain": [
       "'打游戏延时大'"
      ]
     },
     "execution_count": 22,
     "metadata": {},
     "output_type": "execute_result"
    },
    {
     "data": {
      "text/plain": [
       "'打开网页或APP图片慢'"
      ]
     },
     "execution_count": 22,
     "metadata": {},
     "output_type": "execute_result"
    },
    {
     "data": {
      "text/plain": [
       "'手机支付较慢'"
      ]
     },
     "execution_count": 22,
     "metadata": {},
     "output_type": "execute_result"
    },
    {
     "data": {
      "text/plain": [
       "'其他，请注明.2'"
      ]
     },
     "execution_count": 22,
     "metadata": {},
     "output_type": "execute_result"
    },
    {
     "data": {
      "text/plain": [
       "'快手'"
      ]
     },
     "execution_count": 22,
     "metadata": {},
     "output_type": "execute_result"
    },
    {
     "data": {
      "text/plain": [
       "'其他，请注明.3'"
      ]
     },
     "execution_count": 22,
     "metadata": {},
     "output_type": "execute_result"
    },
    {
     "data": {
      "text/plain": [
       "'全部都卡顿'"
      ]
     },
     "execution_count": 22,
     "metadata": {},
     "output_type": "execute_result"
    },
    {
     "data": {
      "text/plain": [
       "'其他，请注明.4'"
      ]
     },
     "execution_count": 22,
     "metadata": {},
     "output_type": "execute_result"
    },
    {
     "data": {
      "text/plain": [
       "'微信'"
      ]
     },
     "execution_count": 22,
     "metadata": {},
     "output_type": "execute_result"
    },
    {
     "data": {
      "text/plain": [
       "'淘宝'"
      ]
     },
     "execution_count": 22,
     "metadata": {},
     "output_type": "execute_result"
    },
    {
     "data": {
      "text/plain": [
       "'京东'"
      ]
     },
     "execution_count": 22,
     "metadata": {},
     "output_type": "execute_result"
    },
    {
     "data": {
      "text/plain": [
       "'百度'"
      ]
     },
     "execution_count": 22,
     "metadata": {},
     "output_type": "execute_result"
    },
    {
     "data": {
      "text/plain": [
       "'新浪微博'"
      ]
     },
     "execution_count": 22,
     "metadata": {},
     "output_type": "execute_result"
    },
    {
     "data": {
      "text/plain": [
       "'全部网页或APP都慢'"
      ]
     },
     "execution_count": 22,
     "metadata": {},
     "output_type": "execute_result"
    },
    {
     "data": {
      "text/plain": [
       "'是否全月漫游用户'"
      ]
     },
     "execution_count": 22,
     "metadata": {},
     "output_type": "execute_result"
    },
    {
     "data": {
      "text/plain": [
       "'性别'"
      ]
     },
     "execution_count": 22,
     "metadata": {},
     "output_type": "execute_result"
    },
    {
     "data": {
      "text/plain": [
       "'是否校园套餐用户'"
      ]
     },
     "execution_count": 22,
     "metadata": {},
     "output_type": "execute_result"
    },
    {
     "data": {
      "text/plain": [
       "'主套餐档位'"
      ]
     },
     "execution_count": 22,
     "metadata": {},
     "output_type": "execute_result"
    },
    {
     "data": {
      "text/plain": [
       "'近3个月平均消费（剔除通信账户支付）'"
      ]
     },
     "execution_count": 22,
     "metadata": {},
     "output_type": "execute_result"
    },
    {
     "data": {
      "text/plain": [
       "'近3个月平均消费（元）'"
      ]
     },
     "execution_count": 22,
     "metadata": {},
     "output_type": "execute_result"
    },
    {
     "data": {
      "text/plain": [
       "'本年累计消费（元）'"
      ]
     },
     "execution_count": 22,
     "metadata": {},
     "output_type": "execute_result"
    },
    {
     "data": {
      "text/plain": [
       "'客户星级标识'"
      ]
     },
     "execution_count": 22,
     "metadata": {},
     "output_type": "execute_result"
    }
   ],
   "source": [
    "network_list = []\n",
    "for i in corr_network.T.columns:\n",
    "    if (abs(corr_network.T[i].mean()) > 0.1 or (importance1[list(corr_network.T.columns).index(i)] > 0.015 and  importance2[list(corr_network.T.columns).index(i)] > 0.076)):i"
   ]
  },
  {
   "cell_type": "code",
   "execution_count": 23,
   "id": "96b0dd19",
   "metadata": {
    "papermill": {
     "duration": 0.019609,
     "end_time": "2023-01-17T14:55:14.562791",
     "exception": false,
     "start_time": "2023-01-17T14:55:14.543182",
     "status": "completed"
    },
    "tags": []
   },
   "outputs": [
    {
     "data": {
      "text/plain": [
       "((20, 51), (20, 113))"
      ]
     },
     "execution_count": 23,
     "metadata": {},
     "output_type": "execute_result"
    }
   ],
   "source": [
    "train_voice.shape,train_network.shape"
   ]
  },
  {
   "cell_type": "code",
   "execution_count": 24,
   "id": "52f8f956-8f28-44df-8247-2087f93c8926",
   "metadata": {},
   "outputs": [
    {
     "name": "stdout",
     "output_type": "stream",
     "text": [
      "并没有完整执行try的内容\n"
     ]
    }
   ],
   "source": [
    "try:\n",
    "    train_voice=train_voice.drop(columns=['语音通话-时长（分钟）','当月ARPU','当月MOU','前3月MOU','GPRS总流量（KB）'],axis=1)\n",
    "    for i in train_voice.columns:\n",
    "        if(i not in test_voice.columns and i not in train_voice.iloc[:,:5].columns):\n",
    "            train_voice=train_voice.drop(i,axis=1)\n",
    "            \n",
    "    train_network=train_network.drop(columns=['主套餐档位','当月MOU','近3个月平均消费（剔除通信账户支付）','近3个月平均消费（元）','本年累计消费（元）'],axis=1)\n",
    "    for i in train_network.columns:\n",
    "        if(i not in test_network.columns and i not in train_network.iloc[:,:5].columns):\n",
    "            train_network=train_network.drop(i,axis=1)   \n",
    "except:\n",
    "    print('并没有完整执行try的内容')"
   ]
  },
  {
   "cell_type": "code",
   "execution_count": 25,
   "id": "87ae4939-8272-496a-8fe7-cf30ccd58d14",
   "metadata": {},
   "outputs": [
    {
     "data": {
      "text/plain": [
       "((20, 46), (20, 113))"
      ]
     },
     "execution_count": 25,
     "metadata": {},
     "output_type": "execute_result"
    }
   ],
   "source": [
    "train_voice.shape,train_network.shape\n",
    "# test_voice.shape,test_network.shape"
   ]
  },
  {
   "cell_type": "code",
   "execution_count": 26,
   "id": "5518071c-9d66-4282-91c3-fda4f26d5c63",
   "metadata": {},
   "outputs": [],
   "source": [
    "y1 = train_voice.iloc[:,:4]\n",
    "x1_temp = train_voice.iloc[:,4:]\n",
    "\n",
    "y2 = train_network.iloc[:,:4]\n",
    "x2_temp = train_network.iloc[:,4:]\n",
    "\n",
    "from sklearn.preprocessing import OneHotEncoder\n",
    "x1 = pd.DataFrame([])\n",
    "for i in x1_temp.columns:\n",
    "    temp=pd.get_dummies(x1_temp[i])\n",
    "    for j in range(len(temp.columns)):\n",
    "        temp1 = pd.DataFrame(temp.iloc[:,[j]].values,columns=['%s_%s'%(i,j)])\n",
    "        x1=pd.concat([x1,temp1],axis =1)\n",
    "        \n",
    "x2 = pd.DataFrame([])\n",
    "for i in x2_temp.columns:\n",
    "    temp=pd.get_dummies(x2_temp[i])\n",
    "    for j in range(len(temp.columns)):\n",
    "        temp1 = pd.DataFrame(temp.iloc[:,[j]].values,columns=['%s_%s'%(i,j)])\n",
    "        x2=pd.concat([x2,temp1],axis =1)\n",
    "\n",
    "ros = RandomOverSampler(random_state=420)\n",
    "\n",
    "x1_train, x1_test, y1_train, y1_test = train_test_split(x1, y1, test_size=0.2,random_state=420)\n",
    "y1_1_train, y1_2_train, y1_3_train, y1_4_train = y1_train.iloc[:, 0], y1_train.iloc[:, 1], y1_train.iloc[:, 2], y1_train.iloc[:, 3]\n",
    "y1_1_test, y1_2_test, y1_3_test, y1_4_test = y1_test.iloc[:, 0], y1_test.iloc[:, 1], y1_test.iloc[:, 2], y1_test.iloc[:, 3]\n",
    "\n",
    "x2_train, x2_test, y2_train, y2_test = train_test_split(x2, y2, test_size=0.2,random_state=420)\n",
    "y2_1_train, y2_2_train, y2_3_train, y2_4_train = y2_train.iloc[:, 0], y2_train.iloc[:, 1], y2_train.iloc[:, 2], y2_train.iloc[:, 3]\n",
    "y2_1_test, y2_2_test, y2_3_test, y2_4_test = y2_test.iloc[:, 0], y2_test.iloc[:, 1], y2_test.iloc[:, 2], y2_test.iloc[:, 3]\n",
    "\n",
    "le = LabelEncoder()\n",
    "for i in [1,2]:\n",
    "    for j in [1,2,3,4]:\n",
    "        for s in ['train','test']:\n",
    "            exec('y%s_%s_%s=le.fit_transform(y%s_%s_%s)'%(i,j,s,i,j,s))\n",
    "            \n",
    "for i in [1,2,3,4]:\n",
    "    exec('x1_%s_train_balance, y1_%s_train_balance = ros.fit_resample(x1_train, y1_%s_train)'%(i,i,i))\n",
    "\n",
    "\n",
    "for i in [1,2,3,4]:\n",
    "    exec('x2_%s_train_balance, y2_%s_train_balance = ros.fit_resample(x2_train, y2_%s_train)'%(i,i,i))"
   ]
  },
  {
   "cell_type": "code",
   "execution_count": 27,
   "id": "91f6003c-ea38-42e0-961b-586eacc9f673",
   "metadata": {},
   "outputs": [
    {
     "name": "stdout",
     "output_type": "stream",
     "text": [
      "KNN ,acc: 0.0 RMSE: 2.9219489669141705\n",
      "XGB ,acc: 0.0 RMSE: 3.3010338122946297\n",
      "LR ,acc: 0.0 RMSE: 3.3610522658084583\n",
      "SVC ,acc: 0.0 RMSE: 3.8560392724742543\n",
      "LSVC ,acc: 0.0 RMSE: 3.3610522658084583\n",
      "RFC ,acc: 0.0 RMSE: 3.483878512820097\n",
      "GNB ,acc: 0.0 RMSE: 3.5807204370204757\n",
      "P ,acc: 0.0 RMSE: 3.513909377247845\n",
      "SGD ,acc: 0.0 RMSE: 3.745282399296293\n",
      "DTC ,acc: 0.125 RMSE: 2.3029065744153208\n",
      "GBDT ,acc: 0.125 RMSE: 3.3107227517657156\n",
      "ABC ,acc: 0.0625 RMSE: 2.8614996805699753\n",
      "MLP ,acc: 0.0 RMSE: 3.2730240911760395\n"
     ]
    }
   ],
   "source": [
    "models = ['KNN','XGB','LR','SVC','LSVC','RFC','GNB','P','SGD','DTC','GBDT','ABC','MLP']\n",
    "\n",
    "for i in models:\n",
    "    for j in [1,2,3,4]:\n",
    "        exec('''%s%s = %s()\\n%s%s = %s%s.fit(x1_%s_train_balance,y1_%s_train_balance)\\nacc_%s_%s = %s%s.score(x1_test,y1_%s_test)\\nRMSE_%s_%s = RMSE(%s%s,x1_test,y1_%s_test)'''%(i,j,i,i,j,i,j,j,j,i,j,i,j,j,i,j,i,j,j),globals())\n",
    "    \n",
    "    exec('''acc_%s=(acc_%s_1+acc_%s_2+acc_%s_3+acc_%s_4)/4\\nRMSE_%s=(RMSE_%s_1+RMSE_%s_2+RMSE_%s_3+RMSE_%s_4)/4\\nprint(i,',acc:',acc_%s,'RMSE:',RMSE_%s)'''%(i,i,i,i,i,i,i,i,i,i,i,i),globals()) "
   ]
  },
  {
   "cell_type": "code",
   "execution_count": 49,
   "id": "29d4de6e-1589-401d-85be-271772d66442",
   "metadata": {},
   "outputs": [],
   "source": [
    "xgb_param_list = []\n",
    "learning_rate = [0.1, 0.3, 0.5]\n",
    "max_depth = [3, 4, 5, 6, 7, 8]\n",
    "n_estimators = [40, 50, 60]\n",
    "p = {'learning_rate': learning_rate,\n",
    "              'max_depth': max_depth,\n",
    "              'n_estimators': n_estimators}\n",
    "\n",
    "clf = XGBClassifier()"
   ]
  },
  {
   "cell_type": "code",
   "execution_count": 50,
   "id": "098b9828-12a0-4815-8c8f-31be6f5881a8",
   "metadata": {
    "tags": []
   },
   "outputs": [
    {
     "name": "stdout",
     "output_type": "stream",
     "text": [
      "Fitting 3 folds for each of 54 candidates, totalling 162 fits\n",
      "Fitting 3 folds for each of 54 candidates, totalling 162 fits\n",
      "Fitting 3 folds for each of 54 candidates, totalling 162 fits\n",
      "Fitting 3 folds for each of 54 candidates, totalling 162 fits\n",
      "Fitting 3 folds for each of 54 candidates, totalling 162 fits\n",
      "Fitting 3 folds for each of 54 candidates, totalling 162 fits\n",
      "Fitting 3 folds for each of 54 candidates, totalling 162 fits\n",
      "Fitting 3 folds for each of 54 candidates, totalling 162 fits\n"
     ]
    }
   ],
   "source": [
    "for i in [1, 2, 3, 4]:\n",
    "    model = GridSearchCV(clf, p, cv=3, scoring='neg_mean_squared_error',verbose=1, n_jobs=-1)\n",
    "    exec('''model.fit(x1_%s_train_balance,y1_%s_train_balance)\\nxgb%s_voice = model.best_estimator_\\nxgb_param_list.append(model.best_params_)'''%(i, i, i),globals())\n",
    "for j in [1, 2, 3, 4]:\n",
    "    model = GridSearchCV(clf, p, cv=3, scoring='neg_mean_squared_error',verbose=1, n_jobs=-1)\n",
    "    exec('''model.fit(x2_%s_train_balance,y2_%s_train_balance)\\nxgb%s_network = model.best_estimator_\\nxgb_param_list.append(model.best_params_)'''%(j, j, j),globals())"
   ]
  },
  {
   "cell_type": "code",
   "execution_count": 53,
   "id": "b5de680a-3c6a-4504-aac9-a073354d2305",
   "metadata": {},
   "outputs": [],
   "source": [
    "lr_param_list = []\n",
    "solver = ['newton-cg', 'lbfgs', 'liblinear', 'sag', 'saga']\n",
    "multi_class = ['ovr', 'multinomial']\n",
    "p = {\n",
    "    'solver': solver,\n",
    "    'multi_class': multi_class,\n",
    "    'C': [0.01, 0.1, 1, 10]\n",
    "}\n",
    "lr = LR(penalty='l2')"
   ]
  },
  {
   "cell_type": "code",
   "execution_count": 54,
   "id": "3dedf99a-ce7c-49cc-ba90-bd7815b78736",
   "metadata": {},
   "outputs": [
    {
     "name": "stdout",
     "output_type": "stream",
     "text": [
      "Fitting 3 folds for each of 40 candidates, totalling 120 fits\n",
      "Fitting 3 folds for each of 40 candidates, totalling 120 fits\n",
      "Fitting 3 folds for each of 40 candidates, totalling 120 fits\n",
      "Fitting 3 folds for each of 40 candidates, totalling 120 fits\n",
      "Fitting 3 folds for each of 40 candidates, totalling 120 fits\n",
      "Fitting 3 folds for each of 40 candidates, totalling 120 fits\n",
      "Fitting 3 folds for each of 40 candidates, totalling 120 fits\n",
      "Fitting 3 folds for each of 40 candidates, totalling 120 fits\n"
     ]
    }
   ],
   "source": [
    "for i in [1, 2, 3, 4]:\n",
    "    model = GridSearchCV(lr, p, cv=3, scoring='neg_mean_squared_error',verbose=1, n_jobs=-1)\n",
    "    exec('''model.fit(x1_%s_train_balance,y1_%s_train_balance)\\nlr%s_voice = model.best_estimator_\\nlr_param_list.append(model.best_params_)'''%(i, i, i),globals())\n",
    "\n",
    "for j in [1, 2, 3, 4]:\n",
    "    model = GridSearchCV(lr, p, cv=3, scoring='neg_mean_squared_error',verbose=1, n_jobs=-1)\n",
    "    exec('''model.fit(x2_%s_train_balance,y2_%s_train_balance)\\nlr%s_network = model.best_estimator_\\nlr_param_list.append(model.best_params_)'''%(j, j, j),globals())"
   ]
  },
  {
   "cell_type": "code",
   "execution_count": 55,
   "id": "a045ecda-ca2b-45d5-a5b0-55eb1fa28a84",
   "metadata": {},
   "outputs": [],
   "source": [
    "rfc_param_list = []\n",
    "n_estimators = range(10, 71, 10)\n",
    "max_depth = [6, 7, 8]\n",
    "p = {\n",
    "    'n_estimators': n_estimators,\n",
    "    'max_depth': max_depth\n",
    "}\n",
    "rfc = RFC()"
   ]
  },
  {
   "cell_type": "code",
   "execution_count": 56,
   "id": "adb40bd9-d45d-4ba2-8776-de1c6b8eb53b",
   "metadata": {},
   "outputs": [
    {
     "name": "stdout",
     "output_type": "stream",
     "text": [
      "Fitting 3 folds for each of 21 candidates, totalling 63 fits\n",
      "Fitting 3 folds for each of 21 candidates, totalling 63 fits\n",
      "Fitting 3 folds for each of 21 candidates, totalling 63 fits\n",
      "Fitting 3 folds for each of 21 candidates, totalling 63 fits\n",
      "Fitting 3 folds for each of 21 candidates, totalling 63 fits\n",
      "Fitting 3 folds for each of 21 candidates, totalling 63 fits\n",
      "Fitting 3 folds for each of 21 candidates, totalling 63 fits\n",
      "Fitting 3 folds for each of 21 candidates, totalling 63 fits\n"
     ]
    }
   ],
   "source": [
    "for i in [1, 2, 3, 4]:\n",
    "    model = GridSearchCV(rfc, p, cv=3, scoring='neg_mean_squared_error',verbose=1, n_jobs=-1)\n",
    "    exec('''model.fit(x1_%s_train_balance,y1_%s_train_balance)\\nrfc%s_voice = model.best_estimator_\\nrfc_param_list.append(model.best_params_)'''%(i, i, i),globals())\n",
    "\n",
    "for j in [1, 2, 3, 4]:\n",
    "    model = GridSearchCV(rfc, p, cv=3, scoring='neg_mean_squared_error',verbose=1, n_jobs=-1)\n",
    "    exec('''model.fit(x2_%s_train_balance,y2_%s_train_balance)\\nrfc%s_network = model.best_estimator_\\nrfc_param_list.append(model.best_params_)'''%(j, j, j),globals())"
   ]
  },
  {
   "cell_type": "code",
   "execution_count": 57,
   "id": "210b5bdd-134e-427b-9688-a14e365c0132",
   "metadata": {},
   "outputs": [],
   "source": [
    "svc_param_list = []\n",
    "c = [0.01, 0.1, 1, 10]\n",
    "gamma = [0.01, 0.1, 1, 10]\n",
    "p ={\n",
    "    'C':c,\n",
    "    'gamma': gamma\n",
    "}\n",
    "svc = SVC()"
   ]
  },
  {
   "cell_type": "code",
   "execution_count": 58,
   "id": "0a273cb6-b23c-4237-8ed8-a78b542d0ddb",
   "metadata": {},
   "outputs": [
    {
     "name": "stdout",
     "output_type": "stream",
     "text": [
      "Fitting 3 folds for each of 16 candidates, totalling 48 fits\n",
      "Fitting 3 folds for each of 16 candidates, totalling 48 fits\n",
      "Fitting 3 folds for each of 16 candidates, totalling 48 fits\n",
      "Fitting 3 folds for each of 16 candidates, totalling 48 fits\n",
      "Fitting 3 folds for each of 16 candidates, totalling 48 fits\n",
      "Fitting 3 folds for each of 16 candidates, totalling 48 fits\n",
      "Fitting 3 folds for each of 16 candidates, totalling 48 fits\n",
      "Fitting 3 folds for each of 16 candidates, totalling 48 fits\n"
     ]
    }
   ],
   "source": [
    "for i in [1, 2, 3, 4]:\n",
    "    model = GridSearchCV(svc, p, cv=3, scoring='neg_mean_squared_error',verbose=1, n_jobs=-1)\n",
    "    exec('''model.fit(x1_%s_train_balance,y1_%s_train_balance)\\nsvc%s_voice = model.best_estimator_\\nsvc_param_list.append(model.best_params_)'''%(i, i, i),globals())\n",
    "\n",
    "for j in [1, 2, 3, 4]:\n",
    "    model = GridSearchCV(svc, p, cv=3, scoring='neg_mean_squared_error',verbose=1, n_jobs=-1)\n",
    "    exec('''model.fit(x2_%s_train_balance,y2_%s_train_balance)\\nsvc%s_network = model.best_estimator_\\nsvc_param_list.append(model.best_params_)'''%(j, j, j),globals())"
   ]
  },
  {
   "cell_type": "code",
   "execution_count": 59,
   "id": "75a5d923-b03b-4b87-892a-ddb15260e0b0",
   "metadata": {},
   "outputs": [],
   "source": [
    "gbdt_param_list = []\n",
    "n_estimators = [30, 40, 50, 60]\n",
    "max_depth = [5, 6, 7, 8]\n",
    "learning_rate = [0.1, 0.2, 0.3]\n",
    "p = {\n",
    "    'n_estimators': n_estimators,\n",
    "    'max_depth': max_depth,\n",
    "    'learning_rate': learning_rate\n",
    "}\n",
    "gbdt = GBDT()"
   ]
  },
  {
   "cell_type": "code",
   "execution_count": 60,
   "id": "6cda8f67-0be8-4d28-b16a-baa424edb470",
   "metadata": {},
   "outputs": [
    {
     "name": "stdout",
     "output_type": "stream",
     "text": [
      "Fitting 3 folds for each of 48 candidates, totalling 144 fits\n",
      "Fitting 3 folds for each of 48 candidates, totalling 144 fits\n",
      "Fitting 3 folds for each of 48 candidates, totalling 144 fits\n",
      "Fitting 3 folds for each of 48 candidates, totalling 144 fits\n",
      "Fitting 3 folds for each of 48 candidates, totalling 144 fits\n",
      "Fitting 3 folds for each of 48 candidates, totalling 144 fits\n",
      "Fitting 3 folds for each of 48 candidates, totalling 144 fits\n",
      "Fitting 3 folds for each of 48 candidates, totalling 144 fits\n"
     ]
    }
   ],
   "source": [
    "for i in [1, 2, 3, 4]:\n",
    "    model = GridSearchCV(gbdt, p, cv=3, scoring='neg_mean_squared_error',verbose=1, n_jobs=-1)\n",
    "    exec('''model.fit(x1_%s_train_balance,y1_%s_train_balance)\\ngbdt%s_voice = model.best_estimator_\\ngbdt_param_list.append(model.best_params_)'''%(i, i, i),globals())\n",
    "\n",
    "for j in [1, 2, 3, 4]:\n",
    "    model = GridSearchCV(gbdt, p, cv=3, scoring='neg_mean_squared_error',verbose=1, n_jobs=-1)\n",
    "    exec('''model.fit(x2_%s_train_balance,y2_%s_train_balance)\\ngbdt%s_network = model.best_estimator_\\ngbdt_param_list.append(model.best_params_)'''%(j, j, j),globals())"
   ]
  },
  {
   "cell_type": "code",
   "execution_count": 61,
   "id": "f7ee5608-7b44-44d5-aee1-e2134cefc76c",
   "metadata": {},
   "outputs": [],
   "source": [
    "abc_param_list = []\n",
    "learning_rate = [0.1, 0.2, 0.3]\n",
    "algorithm = ['SAMME', 'SAMME.R']\n",
    "n_estimators = [30, 40, 50, 60]\n",
    "p = {\n",
    "    'learning_rate': learning_rate,\n",
    "    'algorithm': algorithm,\n",
    "    'n_estimators': n_estimators\n",
    "}\n",
    "abc = ABC()"
   ]
  },
  {
   "cell_type": "code",
   "execution_count": 62,
   "id": "7c70f271-99a3-4c6f-b494-f80e6aef6e6f",
   "metadata": {},
   "outputs": [
    {
     "name": "stdout",
     "output_type": "stream",
     "text": [
      "Fitting 3 folds for each of 24 candidates, totalling 72 fits\n",
      "Fitting 3 folds for each of 24 candidates, totalling 72 fits\n",
      "Fitting 3 folds for each of 24 candidates, totalling 72 fits\n",
      "Fitting 3 folds for each of 24 candidates, totalling 72 fits\n",
      "Fitting 3 folds for each of 24 candidates, totalling 72 fits\n",
      "Fitting 3 folds for each of 24 candidates, totalling 72 fits\n",
      "Fitting 3 folds for each of 24 candidates, totalling 72 fits\n",
      "Fitting 3 folds for each of 24 candidates, totalling 72 fits\n"
     ]
    }
   ],
   "source": [
    "for i in [1, 2, 3, 4]:\n",
    "    model = GridSearchCV(abc, p, cv=3, scoring='neg_mean_squared_error',verbose=1, n_jobs=-1)\n",
    "    exec('''model.fit(x1_%s_train_balance,y1_%s_train_balance)\\nabc%s_voice = model.best_estimator_\\nabc_param_list.append(model.best_params_)'''%(i, i, i),globals())\n",
    "\n",
    "for j in [1, 2, 3, 4]:\n",
    "    model = GridSearchCV(abc, p, cv=3, scoring='neg_mean_squared_error',verbose=1, n_jobs=-1)\n",
    "    exec('''model.fit(x2_%s_train_balance,y2_%s_train_balance)\\nabc%s_network = model.best_estimator_\\nabc_param_list.append(model.best_params_)'''%(j, j, j),globals())"
   ]
  },
  {
   "cell_type": "code",
   "execution_count": 64,
   "id": "275bb0a6-000d-430e-a740-854773180a9d",
   "metadata": {},
   "outputs": [],
   "source": [
    "xgb_param_frame = pd.DataFrame(xgb_param_list)\n",
    "lr_param_frame = pd.DataFrame(lr_param_list)\n",
    "rfc_param_frame = pd.DataFrame(rfc_param_list)\n",
    "svc_param_frame = pd.DataFrame(svc_param_list)\n",
    "gbdt_param_frame = pd.DataFrame(gbdt_param_list)\n",
    "abc_param_frame = pd.DataFrame(abc_param_list)\n",
    "\n",
    "xgb_param_frame.index = ['xgb1_voice', 'xgb2_voice', 'xgb3_voice', 'xgb4_voice', 'xgb1_network', 'xgb2_network', 'xgb3_network', 'xgb4_network']\n",
    "lr_param_frame.index = ['lr1_voice', 'lr2_voice', 'lr3_voice', 'lr4_voice', 'lr1_network', 'lr2_network', 'lr3_network', 'lr4_network']\n",
    "rfc_param_frame.index = ['rfc1_voice', 'rfc2_voice', 'rfc3_voice', 'rfc4_voice', 'rfc1_network', 'rfc2_network', 'rfc3_network', 'rfc4_network']\n",
    "svc_param_frame.index = ['svc1_voice', 'svc2_voice', 'svc3_voice', 'svc4_voice', 'svc1_network', 'svc2_network', 'svc3_network', 'svc4_network']\n",
    "gbdt_param_frame.index = ['gbdt1_voice', 'gbdt2_voice', 'gbdt3_voice', 'gbdt4_voice', 'gbdt1_network', 'gbdt2_network', 'gbdt3_network', 'gbdt4_network']\n",
    "abc_param_frame.index = ['abc1_voice', 'abc2_voice', 'abc3_voice', 'abc4_voice', 'abc1_network', 'abc2_network', 'abc3_network', 'abc4_network']"
   ]
  },
  {
   "cell_type": "code",
   "execution_count": 83,
   "id": "f1bdd5d8-8bf6-47c0-a39b-3d675b3f7cee",
   "metadata": {},
   "outputs": [
    {
     "data": {
      "text/plain": [
       "'\\\\begin{tabular}{lrrr}\\n\\\\toprule\\n{} &  learning\\\\_rate &  max\\\\_depth &  n\\\\_estimators \\\\\\\\\\n\\\\midrule\\nxgb1\\\\_voice   &            0.1 &          3 &            40 \\\\\\\\\\nxgb2\\\\_voice   &            0.1 &          3 &            40 \\\\\\\\\\nxgb3\\\\_voice   &            0.1 &          3 &            50 \\\\\\\\\\nxgb4\\\\_voice   &            0.3 &          3 &            40 \\\\\\\\\\nxgb1\\\\_network &            0.3 &          3 &            40 \\\\\\\\\\nxgb2\\\\_network &            0.1 &          3 &            40 \\\\\\\\\\nxgb3\\\\_network &            0.3 &          3 &            40 \\\\\\\\\\nxgb4\\\\_network &            0.5 &          3 &            40 \\\\\\\\\\n\\\\bottomrule\\n\\\\end{tabular}\\n'"
      ]
     },
     "execution_count": 83,
     "metadata": {},
     "output_type": "execute_result"
    }
   ],
   "source": [
    "xgb_param_frame\n",
    "xgb_param_frame.to_latex()"
   ]
  },
  {
   "cell_type": "code",
   "execution_count": 77,
   "id": "44b29dd4-e273-43ed-ba4c-22fa8fa3763d",
   "metadata": {},
   "outputs": [
    {
     "data": {
      "text/html": [
       "<div>\n",
       "<style scoped>\n",
       "    .dataframe tbody tr th:only-of-type {\n",
       "        vertical-align: middle;\n",
       "    }\n",
       "\n",
       "    .dataframe tbody tr th {\n",
       "        vertical-align: top;\n",
       "    }\n",
       "\n",
       "    .dataframe thead th {\n",
       "        text-align: right;\n",
       "    }\n",
       "</style>\n",
       "<table border=\"1\" class=\"dataframe\">\n",
       "  <thead>\n",
       "    <tr style=\"text-align: right;\">\n",
       "      <th></th>\n",
       "      <th>C</th>\n",
       "      <th>multi_class</th>\n",
       "      <th>solver</th>\n",
       "    </tr>\n",
       "  </thead>\n",
       "  <tbody>\n",
       "    <tr>\n",
       "      <th>lr1_voice</th>\n",
       "      <td>1.00</td>\n",
       "      <td>ovr</td>\n",
       "      <td>newton-cg</td>\n",
       "    </tr>\n",
       "    <tr>\n",
       "      <th>lr2_voice</th>\n",
       "      <td>1.00</td>\n",
       "      <td>ovr</td>\n",
       "      <td>newton-cg</td>\n",
       "    </tr>\n",
       "    <tr>\n",
       "      <th>lr3_voice</th>\n",
       "      <td>0.10</td>\n",
       "      <td>ovr</td>\n",
       "      <td>newton-cg</td>\n",
       "    </tr>\n",
       "    <tr>\n",
       "      <th>lr4_voice</th>\n",
       "      <td>10.00</td>\n",
       "      <td>multinomial</td>\n",
       "      <td>sag</td>\n",
       "    </tr>\n",
       "    <tr>\n",
       "      <th>lr1_network</th>\n",
       "      <td>1.00</td>\n",
       "      <td>ovr</td>\n",
       "      <td>newton-cg</td>\n",
       "    </tr>\n",
       "    <tr>\n",
       "      <th>lr2_network</th>\n",
       "      <td>0.01</td>\n",
       "      <td>ovr</td>\n",
       "      <td>liblinear</td>\n",
       "    </tr>\n",
       "    <tr>\n",
       "      <th>lr3_network</th>\n",
       "      <td>10.00</td>\n",
       "      <td>multinomial</td>\n",
       "      <td>newton-cg</td>\n",
       "    </tr>\n",
       "    <tr>\n",
       "      <th>lr4_network</th>\n",
       "      <td>1.00</td>\n",
       "      <td>multinomial</td>\n",
       "      <td>sag</td>\n",
       "    </tr>\n",
       "  </tbody>\n",
       "</table>\n",
       "</div>"
      ],
      "text/plain": [
       "                 C  multi_class     solver\n",
       "lr1_voice     1.00          ovr  newton-cg\n",
       "lr2_voice     1.00          ovr  newton-cg\n",
       "lr3_voice     0.10          ovr  newton-cg\n",
       "lr4_voice    10.00  multinomial        sag\n",
       "lr1_network   1.00          ovr  newton-cg\n",
       "lr2_network   0.01          ovr  liblinear\n",
       "lr3_network  10.00  multinomial  newton-cg\n",
       "lr4_network   1.00  multinomial        sag"
      ]
     },
     "execution_count": 77,
     "metadata": {},
     "output_type": "execute_result"
    }
   ],
   "source": [
    "lr_param_frame\n",
    "lr_param_frame.to_latex()"
   ]
  },
  {
   "cell_type": "code",
   "execution_count": 78,
   "id": "90facf7e-004b-43b8-b623-345a8bb587c6",
   "metadata": {},
   "outputs": [
    {
     "data": {
      "text/html": [
       "<div>\n",
       "<style scoped>\n",
       "    .dataframe tbody tr th:only-of-type {\n",
       "        vertical-align: middle;\n",
       "    }\n",
       "\n",
       "    .dataframe tbody tr th {\n",
       "        vertical-align: top;\n",
       "    }\n",
       "\n",
       "    .dataframe thead th {\n",
       "        text-align: right;\n",
       "    }\n",
       "</style>\n",
       "<table border=\"1\" class=\"dataframe\">\n",
       "  <thead>\n",
       "    <tr style=\"text-align: right;\">\n",
       "      <th></th>\n",
       "      <th>max_depth</th>\n",
       "      <th>n_estimators</th>\n",
       "    </tr>\n",
       "  </thead>\n",
       "  <tbody>\n",
       "    <tr>\n",
       "      <th>rfc1_voice</th>\n",
       "      <td>7</td>\n",
       "      <td>30</td>\n",
       "    </tr>\n",
       "    <tr>\n",
       "      <th>rfc2_voice</th>\n",
       "      <td>7</td>\n",
       "      <td>70</td>\n",
       "    </tr>\n",
       "    <tr>\n",
       "      <th>rfc3_voice</th>\n",
       "      <td>8</td>\n",
       "      <td>20</td>\n",
       "    </tr>\n",
       "    <tr>\n",
       "      <th>rfc4_voice</th>\n",
       "      <td>6</td>\n",
       "      <td>50</td>\n",
       "    </tr>\n",
       "    <tr>\n",
       "      <th>rfc1_network</th>\n",
       "      <td>8</td>\n",
       "      <td>30</td>\n",
       "    </tr>\n",
       "    <tr>\n",
       "      <th>rfc2_network</th>\n",
       "      <td>7</td>\n",
       "      <td>10</td>\n",
       "    </tr>\n",
       "    <tr>\n",
       "      <th>rfc3_network</th>\n",
       "      <td>8</td>\n",
       "      <td>10</td>\n",
       "    </tr>\n",
       "    <tr>\n",
       "      <th>rfc4_network</th>\n",
       "      <td>7</td>\n",
       "      <td>60</td>\n",
       "    </tr>\n",
       "  </tbody>\n",
       "</table>\n",
       "</div>"
      ],
      "text/plain": [
       "              max_depth  n_estimators\n",
       "rfc1_voice            7            30\n",
       "rfc2_voice            7            70\n",
       "rfc3_voice            8            20\n",
       "rfc4_voice            6            50\n",
       "rfc1_network          8            30\n",
       "rfc2_network          7            10\n",
       "rfc3_network          8            10\n",
       "rfc4_network          7            60"
      ]
     },
     "execution_count": 78,
     "metadata": {},
     "output_type": "execute_result"
    }
   ],
   "source": [
    "rfc_param_frame\n",
    "rfc_param_frame.to_latex()"
   ]
  },
  {
   "cell_type": "code",
   "execution_count": 79,
   "id": "4027b9d1-a711-431d-9fa3-7ea720867c61",
   "metadata": {},
   "outputs": [
    {
     "data": {
      "text/html": [
       "<div>\n",
       "<style scoped>\n",
       "    .dataframe tbody tr th:only-of-type {\n",
       "        vertical-align: middle;\n",
       "    }\n",
       "\n",
       "    .dataframe tbody tr th {\n",
       "        vertical-align: top;\n",
       "    }\n",
       "\n",
       "    .dataframe thead th {\n",
       "        text-align: right;\n",
       "    }\n",
       "</style>\n",
       "<table border=\"1\" class=\"dataframe\">\n",
       "  <thead>\n",
       "    <tr style=\"text-align: right;\">\n",
       "      <th></th>\n",
       "      <th>C</th>\n",
       "      <th>gamma</th>\n",
       "    </tr>\n",
       "  </thead>\n",
       "  <tbody>\n",
       "    <tr>\n",
       "      <th>svc1_voice</th>\n",
       "      <td>1.00</td>\n",
       "      <td>0.10</td>\n",
       "    </tr>\n",
       "    <tr>\n",
       "      <th>svc2_voice</th>\n",
       "      <td>1.00</td>\n",
       "      <td>0.10</td>\n",
       "    </tr>\n",
       "    <tr>\n",
       "      <th>svc3_voice</th>\n",
       "      <td>1.00</td>\n",
       "      <td>0.10</td>\n",
       "    </tr>\n",
       "    <tr>\n",
       "      <th>svc4_voice</th>\n",
       "      <td>10.00</td>\n",
       "      <td>0.10</td>\n",
       "    </tr>\n",
       "    <tr>\n",
       "      <th>svc1_network</th>\n",
       "      <td>1.00</td>\n",
       "      <td>0.10</td>\n",
       "    </tr>\n",
       "    <tr>\n",
       "      <th>svc2_network</th>\n",
       "      <td>10.00</td>\n",
       "      <td>1.00</td>\n",
       "    </tr>\n",
       "    <tr>\n",
       "      <th>svc3_network</th>\n",
       "      <td>0.01</td>\n",
       "      <td>1.00</td>\n",
       "    </tr>\n",
       "    <tr>\n",
       "      <th>svc4_network</th>\n",
       "      <td>0.01</td>\n",
       "      <td>0.01</td>\n",
       "    </tr>\n",
       "  </tbody>\n",
       "</table>\n",
       "</div>"
      ],
      "text/plain": [
       "                  C  gamma\n",
       "svc1_voice     1.00   0.10\n",
       "svc2_voice     1.00   0.10\n",
       "svc3_voice     1.00   0.10\n",
       "svc4_voice    10.00   0.10\n",
       "svc1_network   1.00   0.10\n",
       "svc2_network  10.00   1.00\n",
       "svc3_network   0.01   1.00\n",
       "svc4_network   0.01   0.01"
      ]
     },
     "execution_count": 79,
     "metadata": {},
     "output_type": "execute_result"
    }
   ],
   "source": [
    "svc_param_frame\n",
    "svc_param_frame.to_latex()"
   ]
  },
  {
   "cell_type": "code",
   "execution_count": 80,
   "id": "e1e8ffdd-e1f1-4490-a08f-d9e7983e7b0d",
   "metadata": {},
   "outputs": [
    {
     "data": {
      "text/html": [
       "<div>\n",
       "<style scoped>\n",
       "    .dataframe tbody tr th:only-of-type {\n",
       "        vertical-align: middle;\n",
       "    }\n",
       "\n",
       "    .dataframe tbody tr th {\n",
       "        vertical-align: top;\n",
       "    }\n",
       "\n",
       "    .dataframe thead th {\n",
       "        text-align: right;\n",
       "    }\n",
       "</style>\n",
       "<table border=\"1\" class=\"dataframe\">\n",
       "  <thead>\n",
       "    <tr style=\"text-align: right;\">\n",
       "      <th></th>\n",
       "      <th>learning_rate</th>\n",
       "      <th>max_depth</th>\n",
       "      <th>n_estimators</th>\n",
       "    </tr>\n",
       "  </thead>\n",
       "  <tbody>\n",
       "    <tr>\n",
       "      <th>gbdt1_voice</th>\n",
       "      <td>0.2</td>\n",
       "      <td>6</td>\n",
       "      <td>60</td>\n",
       "    </tr>\n",
       "    <tr>\n",
       "      <th>gbdt2_voice</th>\n",
       "      <td>0.1</td>\n",
       "      <td>5</td>\n",
       "      <td>30</td>\n",
       "    </tr>\n",
       "    <tr>\n",
       "      <th>gbdt3_voice</th>\n",
       "      <td>0.3</td>\n",
       "      <td>5</td>\n",
       "      <td>40</td>\n",
       "    </tr>\n",
       "    <tr>\n",
       "      <th>gbdt4_voice</th>\n",
       "      <td>0.1</td>\n",
       "      <td>6</td>\n",
       "      <td>40</td>\n",
       "    </tr>\n",
       "    <tr>\n",
       "      <th>gbdt1_network</th>\n",
       "      <td>0.2</td>\n",
       "      <td>7</td>\n",
       "      <td>30</td>\n",
       "    </tr>\n",
       "    <tr>\n",
       "      <th>gbdt2_network</th>\n",
       "      <td>0.3</td>\n",
       "      <td>5</td>\n",
       "      <td>60</td>\n",
       "    </tr>\n",
       "    <tr>\n",
       "      <th>gbdt3_network</th>\n",
       "      <td>0.2</td>\n",
       "      <td>6</td>\n",
       "      <td>50</td>\n",
       "    </tr>\n",
       "    <tr>\n",
       "      <th>gbdt4_network</th>\n",
       "      <td>0.3</td>\n",
       "      <td>6</td>\n",
       "      <td>50</td>\n",
       "    </tr>\n",
       "  </tbody>\n",
       "</table>\n",
       "</div>"
      ],
      "text/plain": [
       "               learning_rate  max_depth  n_estimators\n",
       "gbdt1_voice              0.2          6            60\n",
       "gbdt2_voice              0.1          5            30\n",
       "gbdt3_voice              0.3          5            40\n",
       "gbdt4_voice              0.1          6            40\n",
       "gbdt1_network            0.2          7            30\n",
       "gbdt2_network            0.3          5            60\n",
       "gbdt3_network            0.2          6            50\n",
       "gbdt4_network            0.3          6            50"
      ]
     },
     "execution_count": 80,
     "metadata": {},
     "output_type": "execute_result"
    }
   ],
   "source": [
    "gbdt_param_frame\n",
    "gbdt_param_frame.to_latex()"
   ]
  },
  {
   "cell_type": "code",
   "execution_count": 81,
   "id": "7f7908cd-7842-4a2d-8f17-d66665899d9b",
   "metadata": {},
   "outputs": [
    {
     "data": {
      "text/html": [
       "<div>\n",
       "<style scoped>\n",
       "    .dataframe tbody tr th:only-of-type {\n",
       "        vertical-align: middle;\n",
       "    }\n",
       "\n",
       "    .dataframe tbody tr th {\n",
       "        vertical-align: top;\n",
       "    }\n",
       "\n",
       "    .dataframe thead th {\n",
       "        text-align: right;\n",
       "    }\n",
       "</style>\n",
       "<table border=\"1\" class=\"dataframe\">\n",
       "  <thead>\n",
       "    <tr style=\"text-align: right;\">\n",
       "      <th></th>\n",
       "      <th>algorithm</th>\n",
       "      <th>learning_rate</th>\n",
       "      <th>n_estimators</th>\n",
       "    </tr>\n",
       "  </thead>\n",
       "  <tbody>\n",
       "    <tr>\n",
       "      <th>abc1_voice</th>\n",
       "      <td>SAMME.R</td>\n",
       "      <td>0.2</td>\n",
       "      <td>40</td>\n",
       "    </tr>\n",
       "    <tr>\n",
       "      <th>abc2_voice</th>\n",
       "      <td>SAMME.R</td>\n",
       "      <td>0.2</td>\n",
       "      <td>40</td>\n",
       "    </tr>\n",
       "    <tr>\n",
       "      <th>abc3_voice</th>\n",
       "      <td>SAMME.R</td>\n",
       "      <td>0.2</td>\n",
       "      <td>40</td>\n",
       "    </tr>\n",
       "    <tr>\n",
       "      <th>abc4_voice</th>\n",
       "      <td>SAMME.R</td>\n",
       "      <td>0.2</td>\n",
       "      <td>30</td>\n",
       "    </tr>\n",
       "    <tr>\n",
       "      <th>abc1_network</th>\n",
       "      <td>SAMME.R</td>\n",
       "      <td>0.3</td>\n",
       "      <td>50</td>\n",
       "    </tr>\n",
       "    <tr>\n",
       "      <th>abc2_network</th>\n",
       "      <td>SAMME.R</td>\n",
       "      <td>0.3</td>\n",
       "      <td>40</td>\n",
       "    </tr>\n",
       "    <tr>\n",
       "      <th>abc3_network</th>\n",
       "      <td>SAMME.R</td>\n",
       "      <td>0.1</td>\n",
       "      <td>30</td>\n",
       "    </tr>\n",
       "    <tr>\n",
       "      <th>abc4_network</th>\n",
       "      <td>SAMME.R</td>\n",
       "      <td>0.3</td>\n",
       "      <td>60</td>\n",
       "    </tr>\n",
       "  </tbody>\n",
       "</table>\n",
       "</div>"
      ],
      "text/plain": [
       "             algorithm  learning_rate  n_estimators\n",
       "abc1_voice     SAMME.R            0.2            40\n",
       "abc2_voice     SAMME.R            0.2            40\n",
       "abc3_voice     SAMME.R            0.2            40\n",
       "abc4_voice     SAMME.R            0.2            30\n",
       "abc1_network   SAMME.R            0.3            50\n",
       "abc2_network   SAMME.R            0.3            40\n",
       "abc3_network   SAMME.R            0.1            30\n",
       "abc4_network   SAMME.R            0.3            60"
      ]
     },
     "execution_count": 81,
     "metadata": {},
     "output_type": "execute_result"
    }
   ],
   "source": [
    "abc_param_frame\n",
    "abc_param_frame.to_latex()"
   ]
  },
  {
   "cell_type": "code",
   "execution_count": null,
   "id": "3ea2e594-f80c-46d3-9a85-104d418c2a34",
   "metadata": {},
   "outputs": [],
   "source": []
  }
 ],
 "metadata": {
  "kernelspec": {
   "display_name": "Python 3 (ipykernel)",
   "language": "python",
   "name": "python3"
  },
  "language_info": {
   "codemirror_mode": {
    "name": "ipython",
    "version": 3
   },
   "file_extension": ".py",
   "mimetype": "text/x-python",
   "name": "python",
   "nbconvert_exporter": "python",
   "pygments_lexer": "ipython3",
   "version": "3.7.9"
  },
  "papermill": {
   "default_parameters": {},
   "duration": 111.78798,
   "end_time": "2023-01-17T14:55:15.507302",
   "environment_variables": {},
   "exception": null,
   "input_path": "__notebook__.ipynb",
   "output_path": "__notebook__.ipynb",
   "parameters": {},
   "start_time": "2023-01-17T14:53:23.719322",
   "version": "2.3.4"
  }
 },
 "nbformat": 4,
 "nbformat_minor": 5
}
