{
 "cells": [
  {
   "cell_type": "code",
   "execution_count": 1,
   "id": "b7d3569b-b1bf-43c1-9898-851358fcf8b2",
   "metadata": {},
   "outputs": [],
   "source": [
    "import numpy as np\n",
    "import pandas as pd\n",
    "import torch\n",
    "from torch import nn\n",
    "import torch.nn.functional as F\n",
    "\n",
    "from sklearn.model_selection import train_test_split\n",
    "\n",
    "from mpl_toolkits.mplot3d import Axes3D\n",
    "\n",
    "import warnings\n",
    "warnings.filterwarnings(\"ignore\")"
   ]
  },
  {
   "cell_type": "code",
   "execution_count": 2,
   "id": "1653d1f3-8cc4-4a90-8cf1-80e80ea44f1a",
   "metadata": {},
   "outputs": [],
   "source": [
    "df3 = pd.read_excel('./C题数据.xlsx', sheet_name='data3')"
   ]
  },
  {
   "cell_type": "code",
   "execution_count": 3,
   "id": "5e9d75b2-79f9-4bb0-9c9c-615e8b4d6f1a",
   "metadata": {},
   "outputs": [],
   "source": [
    "# data = torch.tensor(df3.iloc[:, : 5].values, dtype=torch.float)\n",
    "# target1 = torch.tensor(df3.iloc[:, 5].values, dtype=torch.float).reshape(-1, 1)\n",
    "# target2 = torch.tensor(df3.iloc[:, 6].values, dtype=torch.float).reshape(-1, 1)"
   ]
  },
  {
   "cell_type": "code",
   "execution_count": 4,
   "id": "173619cd-3a3d-4c14-aa3b-fe25fe5566b3",
   "metadata": {},
   "outputs": [],
   "source": [
    "data = torch.tensor(df3.iloc[:, : 5].values, dtype=torch.float)\n",
    "target = torch.tensor(df3.iloc[:, 5:7].values, dtype=torch.float)"
   ]
  },
  {
   "cell_type": "code",
   "execution_count": 5,
   "id": "ad6e1b1d-9988-4682-8f06-8b1c192cff7e",
   "metadata": {},
   "outputs": [],
   "source": [
    "x_train,x_val,y_train,y_val = train_test_split(data,target,\n",
    "                                               test_size=0.2,random_state=20)\n",
    "train = torch.cat([x_train, y_train], dim=1)\n",
    "val = torch.cat([x_val, y_val], dim=1)"
   ]
  },
  {
   "cell_type": "code",
   "execution_count": 6,
   "id": "15d5cbfd-8ee8-48b6-884a-88159a205c1b",
   "metadata": {},
   "outputs": [],
   "source": [
    "class Net(nn.Module):\n",
    "    def __init__(self):\n",
    "        super(Net, self).__init__()\n",
    "        \n",
    "        self.net1 = nn.Sequential(\n",
    "            nn.Linear(5, 8),\n",
    "            nn.ReLU(),\n",
    "            nn.Linear(8, 4),\n",
    "            nn.ReLU(),\n",
    "            nn.Linear(4, 1)\n",
    "        )\n",
    "        \n",
    "        self.net2 = nn.Sequential(\n",
    "            nn.Linear(5, 8),\n",
    "            nn.ReLU(),\n",
    "            nn.Linear(8, 4),\n",
    "            nn.ReLU(),\n",
    "            nn.Linear(4, 1)\n",
    "        )\n",
    "        \n",
    "    def forward(self, x):\n",
    "        y = self.net1(x)\n",
    "        # z = self.net2(torch.cat([x, y.reshape(-1, 1)], dim=1))\n",
    "        z = self.net2(x)\n",
    "        return y, z"
   ]
  },
  {
   "cell_type": "code",
   "execution_count": 7,
   "id": "451ccc25-cd3f-4265-a814-a76279334026",
   "metadata": {},
   "outputs": [],
   "source": [
    "# model = Net()\n",
    "model = torch.load('./model2.pkl')"
   ]
  },
  {
   "cell_type": "code",
   "execution_count": 8,
   "id": "b1cad4c4-e8f7-4033-981d-ac10aecf5eae",
   "metadata": {},
   "outputs": [],
   "source": [
    "loss_func = torch.nn.MSELoss()"
   ]
  },
  {
   "cell_type": "code",
   "execution_count": 9,
   "id": "d4d29db6-be80-4b8a-a79d-63c4331997fb",
   "metadata": {},
   "outputs": [],
   "source": [
    "opt = torch.optim.Adam(model.parameters(), lr=0.001)"
   ]
  },
  {
   "cell_type": "code",
   "execution_count": 10,
   "id": "edc68d8c-d966-4805-a0ed-04c3543c5a0b",
   "metadata": {
    "tags": []
   },
   "outputs": [
    {
     "name": "stdout",
     "output_type": "stream",
     "text": [
      "0.0验证集上的loss1: 88.1139189065434, loss2:75.52541904710233\n",
      "训练完成!!!!!!!!!!!!!!!!!!!!!!!!!!!!!\n"
     ]
    }
   ],
   "source": [
    "for i in range(1):\n",
    "    model.train()\n",
    "    for d in train:\n",
    "        y, z = model(d[:5])\n",
    "        loss1 = loss_func(y, d[5])\n",
    "        loss2 = loss_func(z, d[6])\n",
    "\n",
    "        # 优化器模型\n",
    "        opt.zero_grad()\n",
    "        loss1.backward()\n",
    "        loss2.backward()\n",
    "        opt.step()\n",
    "\n",
    "    model.eval()\n",
    "    total_test_loss1 = 0\n",
    "    total_test_loss2 = 0\n",
    "    with torch.no_grad():\n",
    "        for da in val:\n",
    "            y, z = model(da[:5])\n",
    "            loss1 = loss_func(y, da[5])\n",
    "            loss2 = loss_func(z, da[6])\n",
    "            total_test_loss1 += loss1.item()\n",
    "            total_test_loss2 += loss2.item()\n",
    "        if i%100==0:\n",
    "            print(\"{}验证集上的loss1: {}, loss2:{}\".format(i/100,total_test_loss1, total_test_loss2))\n",
    "            if total_test_loss1+total_test_loss2 <= 140:\n",
    "                torch.save(model, './model.pkl')\n",
    "print(\"训练完成!!!!!!!!!!!!!!!!!!!!!!!!!!!!!\")"
   ]
  },
  {
   "cell_type": "code",
   "execution_count": 11,
   "id": "74b40120-fe3a-4898-bad7-cfac4a610615",
   "metadata": {},
   "outputs": [],
   "source": [
    "b = model(data)"
   ]
  },
  {
   "cell_type": "code",
   "execution_count": 12,
   "id": "45713f69-dcce-48dd-acb9-5bd025f6c757",
   "metadata": {},
   "outputs": [],
   "source": [
    "b = torch.cat(b, dim=1)"
   ]
  },
  {
   "cell_type": "code",
   "execution_count": 13,
   "id": "8093b4ca-5a71-445c-9671-4570e74659a9",
   "metadata": {},
   "outputs": [],
   "source": [
    "torch.save(model, './model1.pkl')"
   ]
  },
  {
   "cell_type": "code",
   "execution_count": 14,
   "id": "c985032a-7664-4bca-9e40-b09119db4b2c",
   "metadata": {},
   "outputs": [],
   "source": [
    "x = torch.tensor([[38, 850, 2.6099, 96.0257, 87.0805],\n",
    "[33, 950, 2.5807, 95.9860, 87.1232],\n",
    "[28, 1150, 2.7612, 96.2081, 86.8333],\n",
    "[23, 1250, 2.7318, 96.1754, 86.8843],\n",
    "[38, 1250, 1.4372, 91.0524, 85.0118],\n",
    "[33, 1150, 3.0018, 96.4407, 86.3757],\n",
    "[28, 950, 2.3442, 95.5899, 87.3854],\n",
    "[23, 850, 1.9144, 94.2767, 87.1976]])"
   ]
  },
  {
   "cell_type": "code",
   "execution_count": 15,
   "id": "1ec8acc6-6c62-4ca8-8788-f069f3f08419",
   "metadata": {},
   "outputs": [
    {
     "data": {
      "text/plain": [
       "tensor([[28.8716, 49.6199],\n",
       "        [29.1648, 48.5316],\n",
       "        [27.8573, 49.2182],\n",
       "        [28.1552, 66.3750],\n",
       "        [24.2829, 48.0835],\n",
       "        [25.9168, 45.7054],\n",
       "        [30.9950, 49.8815],\n",
       "        [33.9843, 52.6471]], grad_fn=<CatBackward0>)"
      ]
     },
     "execution_count": 15,
     "metadata": {},
     "output_type": "execute_result"
    }
   ],
   "source": [
    "ans = torch.cat(model(x), dim=1)\n",
    "ans"
   ]
  },
  {
   "cell_type": "code",
   "execution_count": 16,
   "id": "8a9855fb-8a2b-4bce-a99e-1fa4087d52fc",
   "metadata": {},
   "outputs": [
    {
     "data": {
      "text/plain": [
       "tensor(66.3750, grad_fn=<MaxBackward1>)"
      ]
     },
     "execution_count": 16,
     "metadata": {},
     "output_type": "execute_result"
    }
   ],
   "source": [
    "ans[:, 1].max()"
   ]
  }
 ],
 "metadata": {
  "kernelspec": {
   "display_name": "Python 3 (ipykernel)",
   "language": "python",
   "name": "python3"
  },
  "language_info": {
   "codemirror_mode": {
    "name": "ipython",
    "version": 3
   },
   "file_extension": ".py",
   "mimetype": "text/x-python",
   "name": "python",
   "nbconvert_exporter": "python",
   "pygments_lexer": "ipython3",
   "version": "3.9.12"
  }
 },
 "nbformat": 4,
 "nbformat_minor": 5
}
