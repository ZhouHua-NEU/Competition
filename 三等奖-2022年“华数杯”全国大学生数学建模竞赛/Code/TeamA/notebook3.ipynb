{
 "cells": [
  {
   "cell_type": "code",
   "execution_count": 1,
   "id": "3be643f3",
   "metadata": {
    "papermill": {
     "duration": 3.177524,
     "end_time": "2022-08-07T05:54:51.816731",
     "exception": false,
     "start_time": "2022-08-07T05:54:48.639207",
     "status": "completed"
    },
    "tags": []
   },
   "outputs": [],
   "source": [
    "import numpy as np\n",
    "import pandas as pd\n",
    "import torch\n",
    "from torch import nn\n",
    "import torch.nn.functional as F\n",
    "\n",
    "from sklearn.model_selection import train_test_split\n",
    "\n",
    "from mpl_toolkits.mplot3d import Axes3D\n",
    "\n",
    "import warnings\n",
    "warnings.filterwarnings(\"ignore\")"
   ]
  },
  {
   "cell_type": "code",
   "execution_count": 2,
   "id": "3b376750",
   "metadata": {
    "papermill": {
     "duration": 0.018668,
     "end_time": "2022-08-07T05:54:51.841702",
     "exception": false,
     "start_time": "2022-08-07T05:54:51.823034",
     "status": "completed"
    },
    "tags": []
   },
   "outputs": [],
   "source": [
    "class Net(nn.Module):\n",
    "    def __init__(self):\n",
    "        super(Net, self).__init__()\n",
    "        \n",
    "        self.net1 = nn.Sequential(nn.Linear(2, 3))\n",
    "        self.net2 = nn.Sequential(nn.Linear(3, 5))\n",
    "        self.net3 = nn.Sequential(nn.Linear(5, 4))\n",
    "        self.net4 = nn.Sequential(nn.Linear(4, 3))\n",
    "        \n",
    "    def forward(self, x):\n",
    "        x = self.net1(x)\n",
    "        x = F.softplus(x)\n",
    "        x = self.net2(x)\n",
    "        x = F.softplus(x)\n",
    "        x = self.net3(x)\n",
    "        x = F.softplus(x)\n",
    "        x = self.net4(x)\n",
    "        return x"
   ]
  },
  {
   "cell_type": "code",
   "execution_count": 3,
   "id": "ef9a912c",
   "metadata": {
    "papermill": {
     "duration": 0.025151,
     "end_time": "2022-08-07T05:54:51.872806",
     "exception": false,
     "start_time": "2022-08-07T05:54:51.847655",
     "status": "completed"
    },
    "tags": []
   },
   "outputs": [],
   "source": [
    "model1 = torch.load('./model1.pkl')"
   ]
  },
  {
   "cell_type": "code",
   "execution_count": 4,
   "id": "915071f8",
   "metadata": {
    "papermill": {
     "duration": 0.017939,
     "end_time": "2022-08-07T05:54:51.896840",
     "exception": false,
     "start_time": "2022-08-07T05:54:51.878901",
     "status": "completed"
    },
    "tags": []
   },
   "outputs": [],
   "source": [
    "class Net(nn.Module):\n",
    "    def __init__(self):\n",
    "        super(Net, self).__init__()\n",
    "        \n",
    "        self.net1 = nn.Sequential(\n",
    "            nn.Linear(5, 8),\n",
    "            nn.ReLU(),\n",
    "            nn.Linear(8, 4),\n",
    "            nn.ReLU(),\n",
    "            nn.Linear(4, 1)\n",
    "        )\n",
    "        \n",
    "        self.net2 = nn.Sequential(\n",
    "            nn.Linear(5, 8),\n",
    "            nn.ReLU(),\n",
    "            nn.Linear(8, 4),\n",
    "            nn.ReLU(),\n",
    "            nn.Linear(4, 1)\n",
    "        )\n",
    "        \n",
    "    def forward(self, x):\n",
    "        y = self.net1(x)\n",
    "        # z = self.net2(torch.cat([x, y.reshape(-1, 1)], dim=1))\n",
    "        z = self.net2(x)\n",
    "        return y, z"
   ]
  },
  {
   "cell_type": "code",
   "execution_count": 5,
   "id": "28fa6fc7",
   "metadata": {
    "papermill": {
     "duration": 0.021864,
     "end_time": "2022-08-07T05:54:51.924438",
     "exception": false,
     "start_time": "2022-08-07T05:54:51.902574",
     "status": "completed"
    },
    "tags": []
   },
   "outputs": [],
   "source": [
    "model2 = torch.load('./model2.pkl')"
   ]
  },
  {
   "cell_type": "code",
   "execution_count": 6,
   "id": "889ba40c",
   "metadata": {
    "papermill": {
     "duration": 0.015401,
     "end_time": "2022-08-07T05:54:51.945717",
     "exception": false,
     "start_time": "2022-08-07T05:54:51.930316",
     "status": "completed"
    },
    "tags": []
   },
   "outputs": [],
   "source": [
    "x=np.linspace(15,100,4251)\n",
    "y=np.linspace(1200,2000,1451)"
   ]
  },
  {
   "cell_type": "code",
   "execution_count": 7,
   "id": "76480298",
   "metadata": {
    "papermill": {
     "duration": 0.232976,
     "end_time": "2022-08-07T05:54:52.184892",
     "exception": false,
     "start_time": "2022-08-07T05:54:51.951916",
     "status": "completed"
    },
    "tags": []
   },
   "outputs": [
    {
     "data": {
      "text/plain": [
       "(6168201, 2)"
      ]
     },
     "execution_count": 7,
     "metadata": {},
     "output_type": "execute_result"
    }
   ],
   "source": [
    "combinations = np.array(np.meshgrid(x, y)).T.reshape(-1,2)\n",
    "combinations.shape"
   ]
  },
  {
   "cell_type": "code",
   "execution_count": 8,
   "id": "6272a690",
   "metadata": {
    "papermill": {
     "duration": 0.169157,
     "end_time": "2022-08-07T05:54:52.361046",
     "exception": false,
     "start_time": "2022-08-07T05:54:52.191889",
     "status": "completed"
    },
    "tags": []
   },
   "outputs": [],
   "source": [
    "data=torch.tensor(combinations).to (torch. float32)"
   ]
  },
  {
   "cell_type": "code",
   "execution_count": 9,
   "id": "436d056b",
   "metadata": {
    "papermill": {
     "duration": 2.886274,
     "end_time": "2022-08-07T05:54:55.253666",
     "exception": false,
     "start_time": "2022-08-07T05:54:52.367392",
     "status": "completed"
    },
    "tags": []
   },
   "outputs": [
    {
     "data": {
      "text/plain": [
       "tensor([[ 2.2493, 95.3813, 87.4350],\n",
       "        [ 2.2504, 95.3840, 87.4347],\n",
       "        [ 2.2516, 95.3867, 87.4343],\n",
       "        ...,\n",
       "        [ 8.0586, 99.5147, 74.7185],\n",
       "        [ 8.0598, 99.5154, 74.7158],\n",
       "        [ 8.0609, 99.5161, 74.7130]], grad_fn=<AddmmBackward0>)"
      ]
     },
     "execution_count": 9,
     "metadata": {},
     "output_type": "execute_result"
    }
   ],
   "source": [
    "temp1=model1(data)\n",
    "temp1"
   ]
  },
  {
   "cell_type": "code",
   "execution_count": 10,
   "id": "5fd5542e",
   "metadata": {
    "papermill": {
     "duration": 0.186812,
     "end_time": "2022-08-07T05:54:55.447095",
     "exception": false,
     "start_time": "2022-08-07T05:54:55.260283",
     "status": "completed"
    },
    "tags": []
   },
   "outputs": [
    {
     "data": {
      "text/plain": [
       "tensor([[  15.0000, 1200.0000,    2.2493,   95.3813,   87.4350],\n",
       "        [  15.0000, 1200.5518,    2.2504,   95.3840,   87.4347],\n",
       "        [  15.0000, 1201.1034,    2.2516,   95.3867,   87.4343],\n",
       "        ...,\n",
       "        [ 100.0000, 1998.8966,    8.0586,   99.5147,   74.7185],\n",
       "        [ 100.0000, 1999.4482,    8.0598,   99.5154,   74.7158],\n",
       "        [ 100.0000, 2000.0000,    8.0609,   99.5161,   74.7130]],\n",
       "       grad_fn=<CatBackward0>)"
      ]
     },
     "execution_count": 10,
     "metadata": {},
     "output_type": "execute_result"
    }
   ],
   "source": [
    "temp2 = torch.cat((data,temp1), dim=1)\n",
    "temp2"
   ]
  },
  {
   "cell_type": "code",
   "execution_count": 11,
   "id": "217e5051",
   "metadata": {
    "papermill": {
     "duration": 0.067779,
     "end_time": "2022-08-07T05:54:55.523764",
     "exception": false,
     "start_time": "2022-08-07T05:54:55.455985",
     "status": "completed"
    },
    "tags": []
   },
   "outputs": [
    {
     "data": {
      "text/plain": [
       "tensor([[  15.0000, 1200.0000,    2.2493,   95.3813,   87.4350],\n",
       "        [  15.0000, 1200.5518,    2.2504,   95.3840,   87.4347],\n",
       "        [  15.0000, 1201.1034,    2.2516,   95.3867,   87.4343],\n",
       "        ...,\n",
       "        [  30.7400, 1200.0000,    2.9986,   96.4380,   86.3822],\n",
       "        [  30.7400, 1200.5518,    2.9997,   96.4389,   86.3798],\n",
       "        [  30.7600, 1200.0000,    2.9995,   96.4388,   86.3802]],\n",
       "       grad_fn=<IndexBackward0>)"
      ]
     },
     "execution_count": 11,
     "metadata": {},
     "output_type": "execute_result"
    }
   ],
   "source": [
    "temp3 = temp2[temp2[:, 2]<3]\n",
    "temp3"
   ]
  },
  {
   "cell_type": "code",
   "execution_count": 12,
   "id": "4d286b88",
   "metadata": {
    "papermill": {
     "duration": 0.030693,
     "end_time": "2022-08-07T05:54:55.561471",
     "exception": false,
     "start_time": "2022-08-07T05:54:55.530778",
     "status": "completed"
    },
    "tags": []
   },
   "outputs": [
    {
     "data": {
      "text/plain": [
       "(torch.Size([257543, 5]),\n",
       " tensor([[  15.0000, 1200.0000,    2.2493,   95.3813,   87.4350],\n",
       "         [  15.0000, 1200.5518,    2.2504,   95.3840,   87.4347],\n",
       "         [  15.0000, 1201.1034,    2.2516,   95.3867,   87.4343],\n",
       "         ...,\n",
       "         [  30.7400, 1200.0000,    2.9986,   96.4380,   86.3822],\n",
       "         [  30.7400, 1200.5518,    2.9997,   96.4389,   86.3798],\n",
       "         [  30.7600, 1200.0000,    2.9995,   96.4388,   86.3802]],\n",
       "        grad_fn=<IndexBackward0>))"
      ]
     },
     "execution_count": 12,
     "metadata": {},
     "output_type": "execute_result"
    }
   ],
   "source": [
    "temp4 = temp3[temp3[:, 3]>=85]\n",
    "temp4.shape,temp4"
   ]
  },
  {
   "cell_type": "code",
   "execution_count": 13,
   "id": "1368c37f",
   "metadata": {
    "papermill": {
     "duration": 0.080571,
     "end_time": "2022-08-07T05:54:55.648475",
     "exception": false,
     "start_time": "2022-08-07T05:54:55.567904",
     "status": "completed"
    },
    "tags": []
   },
   "outputs": [
    {
     "data": {
      "text/plain": [
       "(tensor([[ 31.8981, 122.1471],\n",
       "         [ 31.8900, 122.1653],\n",
       "         [ 31.8820, 122.1834],\n",
       "         ...,\n",
       "         [ 25.9933,  47.4744],\n",
       "         [ 25.9842,  47.4779],\n",
       "         [ 25.9855,  47.4607]], grad_fn=<CatBackward0>),\n",
       " torch.Size([257543, 2]))"
      ]
     },
     "execution_count": 13,
     "metadata": {},
     "output_type": "execute_result"
    }
   ],
   "source": [
    "ans = torch.cat(model2(temp4), dim=1)\n",
    "ans,ans.shape"
   ]
  },
  {
   "cell_type": "code",
   "execution_count": 14,
   "id": "2c09578b",
   "metadata": {
    "papermill": {
     "duration": 0.029526,
     "end_time": "2022-08-07T05:54:55.685211",
     "exception": false,
     "start_time": "2022-08-07T05:54:55.655685",
     "status": "completed"
    },
    "tags": []
   },
   "outputs": [
    {
     "data": {
      "text/plain": [
       "(tensor([[  15.0000, 1200.0000,    2.2493,  ...,   87.4350,   31.8981,\n",
       "           122.1471],\n",
       "         [  15.0000, 1200.5518,    2.2504,  ...,   87.4347,   31.8900,\n",
       "           122.1653],\n",
       "         [  15.0000, 1201.1034,    2.2516,  ...,   87.4343,   31.8820,\n",
       "           122.1834],\n",
       "         ...,\n",
       "         [  30.7400, 1200.0000,    2.9986,  ...,   86.3822,   25.9933,\n",
       "            47.4744],\n",
       "         [  30.7400, 1200.5518,    2.9997,  ...,   86.3798,   25.9842,\n",
       "            47.4779],\n",
       "         [  30.7600, 1200.0000,    2.9995,  ...,   86.3802,   25.9855,\n",
       "            47.4607]], grad_fn=<CatBackward0>),\n",
       " torch.Size([257543, 7]))"
      ]
     },
     "execution_count": 14,
     "metadata": {},
     "output_type": "execute_result"
    }
   ],
   "source": [
    "temp5 = torch.cat((temp4, ans), dim=1)\n",
    "temp5, temp5.shape"
   ]
  },
  {
   "cell_type": "code",
   "execution_count": 15,
   "id": "9a6065cf",
   "metadata": {
    "papermill": {
     "duration": 0.029085,
     "end_time": "2022-08-07T05:54:55.721165",
     "exception": false,
     "start_time": "2022-08-07T05:54:55.692080",
     "status": "completed"
    },
    "tags": []
   },
   "outputs": [
    {
     "data": {
      "text/plain": [
       "(tensor([[  19.0200, 1200.0000,    2.4378,  ...,   87.3019,   30.4668,\n",
       "            94.8820],\n",
       "         [  19.0200, 1200.5518,    2.4390,  ...,   87.3007,   30.4583,\n",
       "            94.8985],\n",
       "         [  19.0200, 1201.1034,    2.4401,  ...,   87.2995,   30.4498,\n",
       "            94.9150],\n",
       "         ...,\n",
       "         [  21.0600, 1420.6897,    2.9987,  ...,   86.3819,   26.1197,\n",
       "            90.1505],\n",
       "         [  21.0600, 1421.2413,    2.9999,  ...,   86.3795,   26.1105,\n",
       "            90.1902],\n",
       "         [  21.0800, 1420.6897,    2.9997,  ...,   86.3800,   26.1118,\n",
       "            90.0227]], grad_fn=<IndexBackward0>),\n",
       " torch.Size([15398, 7]))"
      ]
     },
     "execution_count": 15,
     "metadata": {},
     "output_type": "execute_result"
    }
   ],
   "source": [
    "temp6 = temp5[temp5[:, 6]>90]\n",
    "temp6 = temp6[temp6[:, 6]<95]\n",
    "temp6, temp6.shape"
   ]
  },
  {
   "cell_type": "code",
   "execution_count": 16,
   "id": "0ef7a837",
   "metadata": {
    "papermill": {
     "duration": 0.019802,
     "end_time": "2022-08-07T05:54:55.747737",
     "exception": false,
     "start_time": "2022-08-07T05:54:55.727935",
     "status": "completed"
    },
    "tags": []
   },
   "outputs": [
    {
     "data": {
      "text/plain": [
       "(tensor([[  20.2600, 1416.8276,    2.9520,  ...,   86.4753,   26.4973,\n",
       "            94.9801],\n",
       "         [  20.2800, 1416.2759,    2.9518,  ...,   86.4757,   26.4986,\n",
       "            94.8125],\n",
       "         [  20.2800, 1416.8276,    2.9529,  ...,   86.4734,   26.4895,\n",
       "            94.8524],\n",
       "         ...,\n",
       "         [  21.0600, 1420.6897,    2.9987,  ...,   86.3819,   26.1197,\n",
       "            90.1505],\n",
       "         [  21.0600, 1421.2413,    2.9999,  ...,   86.3795,   26.1105,\n",
       "            90.1902],\n",
       "         [  21.0800, 1420.6897,    2.9997,  ...,   86.3800,   26.1118,\n",
       "            90.0227]], grad_fn=<IndexBackward0>),\n",
       " torch.Size([1304, 7]))"
      ]
     },
     "execution_count": 16,
     "metadata": {},
     "output_type": "execute_result"
    }
   ],
   "source": [
    "temp7 = temp6[temp6[:, 5]<26.5]\n",
    "temp7, temp7.shape"
   ]
  },
  {
   "cell_type": "code",
   "execution_count": 17,
   "id": "fb029aa6-2ae1-4acd-8d53-e235409ec99e",
   "metadata": {},
   "outputs": [
    {
     "data": {
      "text/plain": [
       "tensor(68.8516, grad_fn=<MaxBackward1>)"
      ]
     },
     "execution_count": 17,
     "metadata": {},
     "output_type": "execute_result"
    }
   ],
   "source": [
    "temp8 = temp7[:, 6] - temp7[:, 5]\n",
    "temp8.max()"
   ]
  },
  {
   "cell_type": "code",
   "execution_count": 18,
   "id": "c7305324-9159-4c43-8a77-fe1994481068",
   "metadata": {},
   "outputs": [
    {
     "data": {
      "text/plain": [
       "(tensor([[  20.4400, 1432.8276,    2.9945,   96.4344,   86.3904,   26.1610,\n",
       "            94.9856],\n",
       "         [  20.4600, 1433.9310,    2.9978,   96.4373,   86.3838,   26.1348,\n",
       "            94.9375],\n",
       "         [  20.4600, 1434.4828,    2.9990,   96.4383,   86.3814,   26.1256,\n",
       "            94.9772]], grad_fn=<IndexBackward0>),\n",
       " torch.Size([3, 7]))"
      ]
     },
     "execution_count": 18,
     "metadata": {},
     "output_type": "execute_result"
    }
   ],
   "source": [
    "temp9 = temp7[temp7[:, 6] - temp7[:, 5]>68.8]\n",
    "temp9, temp9.shape"
   ]
  },
  {
   "cell_type": "code",
   "execution_count": 19,
   "id": "f8c20c56-956e-4479-8614-684bd0a50fd7",
   "metadata": {},
   "outputs": [
    {
     "data": {
      "text/plain": [
       "tensor([68.8246, 68.8027, 68.8516], grad_fn=<SubBackward0>)"
      ]
     },
     "execution_count": 19,
     "metadata": {},
     "output_type": "execute_result"
    }
   ],
   "source": [
    "temp9[:, 6] - temp9[:, 5]"
   ]
  }
 ],
 "metadata": {
  "kernelspec": {
   "display_name": "Python 3 (ipykernel)",
   "language": "python",
   "name": "python3"
  },
  "language_info": {
   "codemirror_mode": {
    "name": "ipython",
    "version": 3
   },
   "file_extension": ".py",
   "mimetype": "text/x-python",
   "name": "python",
   "nbconvert_exporter": "python",
   "pygments_lexer": "ipython3",
   "version": "3.9.12"
  },
  "papermill": {
   "default_parameters": {},
   "duration": 18.830619,
   "end_time": "2022-08-07T05:54:57.378624",
   "environment_variables": {},
   "exception": null,
   "input_path": "__notebook__.ipynb",
   "output_path": "__notebook__.ipynb",
   "parameters": {},
   "start_time": "2022-08-07T05:54:38.548005",
   "version": "2.3.4"
  }
 },
 "nbformat": 4,
 "nbformat_minor": 5
}
